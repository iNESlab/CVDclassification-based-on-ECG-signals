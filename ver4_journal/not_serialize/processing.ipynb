{
 "cells": [
  {
   "cell_type": "code",
   "outputs": [],
   "source": [
    "import os\n",
    "\n",
    "import pandas as pd\n",
    "import seaborn as sns\n",
    "import torch\n",
    "from torch.utils.data import DataLoader"
   ],
   "metadata": {
    "collapsed": false,
    "ExecuteTime": {
     "end_time": "2024-10-09T01:48:08.848672Z",
     "start_time": "2024-10-09T01:48:07.730756Z"
    }
   },
   "id": "4a2ddd3ff0184e55",
   "execution_count": 1
  },
  {
   "cell_type": "code",
   "outputs": [
    {
     "data": {
      "text/plain": "True"
     },
     "execution_count": 2,
     "metadata": {},
     "output_type": "execute_result"
    }
   ],
   "source": [
    "from dotenv import load_dotenv\n",
    "\n",
    "# 현재 작업 디렉토리 가져오기\n",
    "current_dir = os.getcwd()  # 현재 Jupyter Notebook의 작업 디렉토\n",
    "env_path = os.path.join(current_dir, '../.env')\n",
    "\n",
    "# .env 파일 로드\n",
    "load_dotenv(env_path)"
   ],
   "metadata": {
    "collapsed": false,
    "ExecuteTime": {
     "end_time": "2024-10-09T01:48:08.863890Z",
     "start_time": "2024-10-09T01:48:08.852954Z"
    }
   },
   "id": "8bd25b100b584a0c",
   "execution_count": 2
  },
  {
   "cell_type": "code",
   "outputs": [
    {
     "data": {
      "text/plain": "   ecg_id  patient_id   age  sex  height  weight  nurse  site     device  \\\n0       1     15709.0  56.0    1     NaN    63.0    2.0   0.0  CS-12   E   \n1       2     13243.0  19.0    0     NaN    70.0    2.0   0.0  CS-12   E   \n2       3     20372.0  37.0    1     NaN    69.0    2.0   0.0  CS-12   E   \n3       4     17014.0  24.0    0     NaN    82.0    2.0   0.0  CS-12   E   \n4       5     17448.0  19.0    1     NaN    70.0    2.0   0.0  CS-12   E   \n\n        recording_date  ... validated_by_human  baseline_drift static_noise  \\\n0  1984-11-09 09:17:34  ...               True             NaN    , I-V1,     \n1  1984-11-14 12:55:37  ...               True             NaN          NaN   \n2  1984-11-15 12:49:10  ...               True             NaN          NaN   \n3  1984-11-15 13:44:57  ...               True    , II,III,AVF          NaN   \n4  1984-11-17 10:43:15  ...               True   , III,AVR,AVF          NaN   \n\n  burst_noise electrodes_problems  extra_beats  pacemaker  strat_fold  \\\n0         NaN                 NaN          NaN        NaN           3   \n1         NaN                 NaN          NaN        NaN           2   \n2         NaN                 NaN          NaN        NaN           5   \n3         NaN                 NaN          NaN        NaN           3   \n4         NaN                 NaN          NaN        NaN           4   \n\n                 filename_lr                filename_hr  \n0  records100/00000/00001_lr  records500/00000/00001_hr  \n1  records100/00000/00002_lr  records500/00000/00002_hr  \n2  records100/00000/00003_lr  records500/00000/00003_hr  \n3  records100/00000/00004_lr  records500/00000/00004_hr  \n4  records100/00000/00005_lr  records500/00000/00005_hr  \n\n[5 rows x 28 columns]",
      "text/html": "<div>\n<style scoped>\n    .dataframe tbody tr th:only-of-type {\n        vertical-align: middle;\n    }\n\n    .dataframe tbody tr th {\n        vertical-align: top;\n    }\n\n    .dataframe thead th {\n        text-align: right;\n    }\n</style>\n<table border=\"1\" class=\"dataframe\">\n  <thead>\n    <tr style=\"text-align: right;\">\n      <th></th>\n      <th>ecg_id</th>\n      <th>patient_id</th>\n      <th>age</th>\n      <th>sex</th>\n      <th>height</th>\n      <th>weight</th>\n      <th>nurse</th>\n      <th>site</th>\n      <th>device</th>\n      <th>recording_date</th>\n      <th>...</th>\n      <th>validated_by_human</th>\n      <th>baseline_drift</th>\n      <th>static_noise</th>\n      <th>burst_noise</th>\n      <th>electrodes_problems</th>\n      <th>extra_beats</th>\n      <th>pacemaker</th>\n      <th>strat_fold</th>\n      <th>filename_lr</th>\n      <th>filename_hr</th>\n    </tr>\n  </thead>\n  <tbody>\n    <tr>\n      <th>0</th>\n      <td>1</td>\n      <td>15709.0</td>\n      <td>56.0</td>\n      <td>1</td>\n      <td>NaN</td>\n      <td>63.0</td>\n      <td>2.0</td>\n      <td>0.0</td>\n      <td>CS-12   E</td>\n      <td>1984-11-09 09:17:34</td>\n      <td>...</td>\n      <td>True</td>\n      <td>NaN</td>\n      <td>, I-V1,</td>\n      <td>NaN</td>\n      <td>NaN</td>\n      <td>NaN</td>\n      <td>NaN</td>\n      <td>3</td>\n      <td>records100/00000/00001_lr</td>\n      <td>records500/00000/00001_hr</td>\n    </tr>\n    <tr>\n      <th>1</th>\n      <td>2</td>\n      <td>13243.0</td>\n      <td>19.0</td>\n      <td>0</td>\n      <td>NaN</td>\n      <td>70.0</td>\n      <td>2.0</td>\n      <td>0.0</td>\n      <td>CS-12   E</td>\n      <td>1984-11-14 12:55:37</td>\n      <td>...</td>\n      <td>True</td>\n      <td>NaN</td>\n      <td>NaN</td>\n      <td>NaN</td>\n      <td>NaN</td>\n      <td>NaN</td>\n      <td>NaN</td>\n      <td>2</td>\n      <td>records100/00000/00002_lr</td>\n      <td>records500/00000/00002_hr</td>\n    </tr>\n    <tr>\n      <th>2</th>\n      <td>3</td>\n      <td>20372.0</td>\n      <td>37.0</td>\n      <td>1</td>\n      <td>NaN</td>\n      <td>69.0</td>\n      <td>2.0</td>\n      <td>0.0</td>\n      <td>CS-12   E</td>\n      <td>1984-11-15 12:49:10</td>\n      <td>...</td>\n      <td>True</td>\n      <td>NaN</td>\n      <td>NaN</td>\n      <td>NaN</td>\n      <td>NaN</td>\n      <td>NaN</td>\n      <td>NaN</td>\n      <td>5</td>\n      <td>records100/00000/00003_lr</td>\n      <td>records500/00000/00003_hr</td>\n    </tr>\n    <tr>\n      <th>3</th>\n      <td>4</td>\n      <td>17014.0</td>\n      <td>24.0</td>\n      <td>0</td>\n      <td>NaN</td>\n      <td>82.0</td>\n      <td>2.0</td>\n      <td>0.0</td>\n      <td>CS-12   E</td>\n      <td>1984-11-15 13:44:57</td>\n      <td>...</td>\n      <td>True</td>\n      <td>, II,III,AVF</td>\n      <td>NaN</td>\n      <td>NaN</td>\n      <td>NaN</td>\n      <td>NaN</td>\n      <td>NaN</td>\n      <td>3</td>\n      <td>records100/00000/00004_lr</td>\n      <td>records500/00000/00004_hr</td>\n    </tr>\n    <tr>\n      <th>4</th>\n      <td>5</td>\n      <td>17448.0</td>\n      <td>19.0</td>\n      <td>1</td>\n      <td>NaN</td>\n      <td>70.0</td>\n      <td>2.0</td>\n      <td>0.0</td>\n      <td>CS-12   E</td>\n      <td>1984-11-17 10:43:15</td>\n      <td>...</td>\n      <td>True</td>\n      <td>, III,AVR,AVF</td>\n      <td>NaN</td>\n      <td>NaN</td>\n      <td>NaN</td>\n      <td>NaN</td>\n      <td>NaN</td>\n      <td>4</td>\n      <td>records100/00000/00005_lr</td>\n      <td>records500/00000/00005_hr</td>\n    </tr>\n  </tbody>\n</table>\n<p>5 rows × 28 columns</p>\n</div>"
     },
     "execution_count": 3,
     "metadata": {},
     "output_type": "execute_result"
    }
   ],
   "source": [
    "db_path=os.getenv(\"DATA_PATH\")\n",
    "ecg_data=pd.read_csv(f'{db_path}/ptbxl_database.csv')\n",
    "ecg_data.head()"
   ],
   "metadata": {
    "collapsed": false,
    "ExecuteTime": {
     "end_time": "2024-10-09T01:48:08.981848Z",
     "start_time": "2024-10-09T01:48:08.866052Z"
    }
   },
   "id": "41d7712d02c12fdc",
   "execution_count": 3
  },
  {
   "cell_type": "markdown",
   "source": [
    "## 모델 및 하이퍼파라미터 준비\n",
    "BCResNet의 cnn_first의 stride나 다른 conv의 stride에 따라 입력 또는 출력의 크기가 달라짐.\n",
    "이는 조절해가면서 실험필요"
   ],
   "metadata": {
    "collapsed": false
   },
   "id": "92dc6ab07ba70006"
  },
  {
   "cell_type": "code",
   "outputs": [],
   "source": [
    "import numpy as np\n",
    "from sklearn.metrics import roc_auc_score"
   ],
   "metadata": {
    "collapsed": false,
    "ExecuteTime": {
     "end_time": "2024-10-09T01:48:09.781344Z",
     "start_time": "2024-10-09T01:48:09.678994Z"
    }
   },
   "id": "a0c7f0b5f5c4c757",
   "execution_count": 4
  },
  {
   "cell_type": "code",
   "outputs": [
    {
     "name": "stdout",
     "output_type": "stream",
     "text": [
      "torch.Size([1, 12, 1000])\n"
     ]
    },
    {
     "data": {
      "text/plain": "torch.Size([1, 5])"
     },
     "execution_count": 5,
     "metadata": {},
     "output_type": "execute_result"
    }
   ],
   "source": [
    "\n",
    "from ver4_journal.common.network.BCResNets import BCResNets\n",
    "\n",
    "tau = 1\n",
    "in_channel = 12\n",
    "model = BCResNets(int(tau * 8), 5, in_channel)\n",
    "\n",
    "if in_channel == 1:\n",
    "    sample = torch.randn(1,12,1000)\n",
    "else:\n",
    "    sample = torch.randn(1,12,1000)\n",
    "    #sample = torch.randn(1,12,20,48)\n",
    "\n",
    "print(sample.shape)\n",
    "pred = model(sample)\n",
    "pred.shape"
   ],
   "metadata": {
    "collapsed": false,
    "ExecuteTime": {
     "end_time": "2024-10-09T01:48:12.217189Z",
     "start_time": "2024-10-09T01:48:12.184576Z"
    }
   },
   "id": "8060e95182a8bfb7",
   "execution_count": 5
  },
  {
   "cell_type": "code",
   "outputs": [
    {
     "name": "stdout",
     "output_type": "stream",
     "text": [
      "Class 0 count in ECG_train: 9415\n",
      "Class 1 count in ECG_train: 7596\n",
      "Class weights: {0: np.float64(1.8067976633032394), 1: np.float64(2.239468141126909)}\n",
      "Weight tensor: tensor([1.8068, 2.2395])\n",
      "Batch shape: torch.Size([32, 12, 1000])\n",
      "532 67 68\n",
      "Using mps device\n",
      "Epoch: 1/50, Training Loss: 1.0424, Training Accuracy: 0.55%\n",
      "Test Loss: 1.0614, Test Accuracy: 0.55%\n",
      "Macro AUC: 0.9047, 0.9047\n",
      "Epoch: 2/50, Training Loss: 0.8353, Training Accuracy: 0.55%\n",
      "Test Loss: 0.9085, Test Accuracy: 0.55%\n",
      "Macro AUC: 0.9132, 0.9132\n",
      "Epoch: 3/50, Training Loss: 0.7861, Training Accuracy: 0.55%\n",
      "Test Loss: 0.9383, Test Accuracy: 0.55%\n",
      "Macro AUC: 0.9126, 0.9126\n",
      "Epoch: 4/50, Training Loss: 0.7706, Training Accuracy: 0.55%\n",
      "Test Loss: 0.9065, Test Accuracy: 0.55%\n",
      "Macro AUC: 0.9177, 0.9177\n",
      "Epoch: 5/50, Training Loss: 0.7630, Training Accuracy: 0.55%\n",
      "Test Loss: 0.9000, Test Accuracy: 0.55%\n",
      "Macro AUC: 0.9164, 0.9164\n",
      "Epoch: 6/50, Training Loss: 0.7462, Training Accuracy: 0.55%\n",
      "Test Loss: 0.8406, Test Accuracy: 0.55%\n",
      "Macro AUC: 0.9188, 0.9188\n",
      "Epoch: 7/50, Training Loss: 0.7310, Training Accuracy: 0.55%\n",
      "Test Loss: 0.8528, Test Accuracy: 0.55%\n",
      "Macro AUC: 0.9254, 0.9254\n",
      "Epoch: 8/50, Training Loss: 0.7142, Training Accuracy: 0.55%\n",
      "Test Loss: 0.8416, Test Accuracy: 0.55%\n",
      "Macro AUC: 0.9266, 0.9266\n",
      "Epoch: 9/50, Training Loss: 0.7132, Training Accuracy: 0.55%\n",
      "Test Loss: 0.7945, Test Accuracy: 0.55%\n",
      "Macro AUC: 0.9313, 0.9313\n",
      "Epoch: 10/50, Training Loss: 0.7075, Training Accuracy: 0.55%\n",
      "Test Loss: 0.8592, Test Accuracy: 0.55%\n",
      "Macro AUC: 0.9242, 0.9242\n",
      "Epoch: 11/50, Training Loss: 0.7142, Training Accuracy: 0.55%\n",
      "Test Loss: 0.8957, Test Accuracy: 0.55%\n",
      "Macro AUC: 0.9264, 0.9264\n",
      "Epoch: 12/50, Training Loss: 0.6939, Training Accuracy: 0.55%\n",
      "Test Loss: 0.7774, Test Accuracy: 0.55%\n",
      "Macro AUC: 0.9321, 0.9321\n",
      "Epoch: 13/50, Training Loss: 0.6921, Training Accuracy: 0.55%\n",
      "Test Loss: 0.8138, Test Accuracy: 0.55%\n",
      "Macro AUC: 0.9266, 0.9266\n",
      "Epoch: 14/50, Training Loss: 0.6847, Training Accuracy: 0.55%\n",
      "Test Loss: 0.8262, Test Accuracy: 0.55%\n",
      "Macro AUC: 0.9316, 0.9316\n",
      "Epoch: 15/50, Training Loss: 0.6826, Training Accuracy: 0.55%\n",
      "Test Loss: 0.7979, Test Accuracy: 0.55%\n",
      "Macro AUC: 0.9317, 0.9317\n",
      "Epoch: 16/50, Training Loss: 0.6659, Training Accuracy: 0.55%\n",
      "Test Loss: 0.8016, Test Accuracy: 0.55%\n",
      "Macro AUC: 0.9323, 0.9323\n",
      "Epoch: 17/50, Training Loss: 0.6640, Training Accuracy: 0.55%\n",
      "Test Loss: 0.7778, Test Accuracy: 0.55%\n",
      "Macro AUC: 0.9333, 0.9333\n",
      "Epoch: 18/50, Training Loss: 0.6675, Training Accuracy: 0.55%\n",
      "Test Loss: 0.7986, Test Accuracy: 0.55%\n",
      "Macro AUC: 0.9291, 0.9291\n",
      "Epoch: 19/50, Training Loss: 0.6586, Training Accuracy: 0.55%\n",
      "Test Loss: 0.8392, Test Accuracy: 0.55%\n",
      "Macro AUC: 0.9339, 0.9339\n",
      "Epoch: 20/50, Training Loss: 0.6515, Training Accuracy: 0.55%\n",
      "Test Loss: 1.6479, Test Accuracy: 0.55%\n",
      "Macro AUC: 0.7235, 0.7235\n",
      "Epoch: 21/50, Training Loss: 0.6579, Training Accuracy: 0.55%\n",
      "Test Loss: 0.7889, Test Accuracy: 0.55%\n",
      "Macro AUC: 0.9330, 0.9330\n",
      "Epoch: 22/50, Training Loss: 0.6475, Training Accuracy: 0.55%\n",
      "Test Loss: 0.7678, Test Accuracy: 0.55%\n",
      "Macro AUC: 0.9361, 0.9361\n",
      "Epoch: 23/50, Training Loss: 0.6415, Training Accuracy: 0.55%\n",
      "Test Loss: 0.7678, Test Accuracy: 0.55%\n",
      "Macro AUC: 0.9353, 0.9353\n",
      "Epoch: 24/50, Training Loss: 0.6459, Training Accuracy: 0.55%\n",
      "Test Loss: 0.7994, Test Accuracy: 0.55%\n",
      "Macro AUC: 0.9348, 0.9348\n",
      "Epoch: 25/50, Training Loss: 0.6349, Training Accuracy: 0.55%\n",
      "Test Loss: 0.8080, Test Accuracy: 0.56%\n",
      "Macro AUC: 0.9373, 0.9373\n",
      "Epoch: 26/50, Training Loss: 0.6357, Training Accuracy: 0.55%\n",
      "Test Loss: 0.7469, Test Accuracy: 0.55%\n",
      "Macro AUC: 0.9386, 0.9386\n",
      "Epoch: 27/50, Training Loss: 0.6338, Training Accuracy: 0.55%\n",
      "Test Loss: 0.7578, Test Accuracy: 0.55%\n",
      "Macro AUC: 0.9353, 0.9353\n",
      "Epoch: 28/50, Training Loss: 0.6315, Training Accuracy: 0.55%\n",
      "Test Loss: 0.7885, Test Accuracy: 0.55%\n",
      "Macro AUC: 0.9307, 0.9307\n",
      "Epoch: 29/50, Training Loss: 0.6183, Training Accuracy: 0.55%\n",
      "Test Loss: 0.7813, Test Accuracy: 0.55%\n",
      "Macro AUC: 0.9373, 0.9373\n",
      "Epoch: 30/50, Training Loss: 0.6225, Training Accuracy: 0.55%\n",
      "Test Loss: 0.7675, Test Accuracy: 0.55%\n",
      "Macro AUC: 0.9377, 0.9377\n",
      "Epoch: 31/50, Training Loss: 0.6123, Training Accuracy: 0.55%\n",
      "Test Loss: 0.7552, Test Accuracy: 0.55%\n",
      "Macro AUC: 0.9368, 0.9368\n",
      "Epoch: 32/50, Training Loss: 0.6176, Training Accuracy: 0.55%\n",
      "Test Loss: 0.7915, Test Accuracy: 0.55%\n",
      "Macro AUC: 0.9341, 0.9341\n",
      "Epoch: 33/50, Training Loss: 0.6099, Training Accuracy: 0.55%\n",
      "Test Loss: 0.7667, Test Accuracy: 0.55%\n",
      "Macro AUC: 0.9379, 0.9379\n"
     ]
    },
    {
     "ename": "KeyboardInterrupt",
     "evalue": "",
     "output_type": "error",
     "traceback": [
      "\u001B[0;31m---------------------------------------------------------------------------\u001B[0m",
      "\u001B[0;31mKeyboardInterrupt\u001B[0m                         Traceback (most recent call last)",
      "Cell \u001B[0;32mIn[6], line 126\u001B[0m\n\u001B[1;32m    123\u001B[0m data, label \u001B[38;5;241m=\u001B[39m data\u001B[38;5;241m.\u001B[39mto(device), label\u001B[38;5;241m.\u001B[39mto(device)\n\u001B[1;32m    125\u001B[0m optim\u001B[38;5;241m.\u001B[39mzero_grad()\n\u001B[0;32m--> 126\u001B[0m output \u001B[38;5;241m=\u001B[39m \u001B[43mmodel\u001B[49m\u001B[43m(\u001B[49m\u001B[43mdata\u001B[49m\u001B[43m)\u001B[49m\n\u001B[1;32m    127\u001B[0m loss_value \u001B[38;5;241m=\u001B[39m loss_fn(torch\u001B[38;5;241m.\u001B[39msigmoid(output)\u001B[38;5;241m.\u001B[39msqueeze(\u001B[38;5;241m-\u001B[39m\u001B[38;5;241m1\u001B[39m)\u001B[38;5;241m.\u001B[39mfloat(), label\u001B[38;5;241m.\u001B[39mfloat())\n\u001B[1;32m    128\u001B[0m loss_value\u001B[38;5;241m.\u001B[39mbackward()\n",
      "File \u001B[0;32m~/Documents/CVDclassification-based-on-ECG-signals/.venv/lib/python3.12/site-packages/torch/nn/modules/module.py:1553\u001B[0m, in \u001B[0;36mModule._wrapped_call_impl\u001B[0;34m(self, *args, **kwargs)\u001B[0m\n\u001B[1;32m   1551\u001B[0m     \u001B[38;5;28;01mreturn\u001B[39;00m \u001B[38;5;28mself\u001B[39m\u001B[38;5;241m.\u001B[39m_compiled_call_impl(\u001B[38;5;241m*\u001B[39margs, \u001B[38;5;241m*\u001B[39m\u001B[38;5;241m*\u001B[39mkwargs)  \u001B[38;5;66;03m# type: ignore[misc]\u001B[39;00m\n\u001B[1;32m   1552\u001B[0m \u001B[38;5;28;01melse\u001B[39;00m:\n\u001B[0;32m-> 1553\u001B[0m     \u001B[38;5;28;01mreturn\u001B[39;00m \u001B[38;5;28;43mself\u001B[39;49m\u001B[38;5;241;43m.\u001B[39;49m\u001B[43m_call_impl\u001B[49m\u001B[43m(\u001B[49m\u001B[38;5;241;43m*\u001B[39;49m\u001B[43margs\u001B[49m\u001B[43m,\u001B[49m\u001B[43m \u001B[49m\u001B[38;5;241;43m*\u001B[39;49m\u001B[38;5;241;43m*\u001B[39;49m\u001B[43mkwargs\u001B[49m\u001B[43m)\u001B[49m\n",
      "File \u001B[0;32m~/Documents/CVDclassification-based-on-ECG-signals/.venv/lib/python3.12/site-packages/torch/nn/modules/module.py:1562\u001B[0m, in \u001B[0;36mModule._call_impl\u001B[0;34m(self, *args, **kwargs)\u001B[0m\n\u001B[1;32m   1557\u001B[0m \u001B[38;5;66;03m# If we don't have any hooks, we want to skip the rest of the logic in\u001B[39;00m\n\u001B[1;32m   1558\u001B[0m \u001B[38;5;66;03m# this function, and just call forward.\u001B[39;00m\n\u001B[1;32m   1559\u001B[0m \u001B[38;5;28;01mif\u001B[39;00m \u001B[38;5;129;01mnot\u001B[39;00m (\u001B[38;5;28mself\u001B[39m\u001B[38;5;241m.\u001B[39m_backward_hooks \u001B[38;5;129;01mor\u001B[39;00m \u001B[38;5;28mself\u001B[39m\u001B[38;5;241m.\u001B[39m_backward_pre_hooks \u001B[38;5;129;01mor\u001B[39;00m \u001B[38;5;28mself\u001B[39m\u001B[38;5;241m.\u001B[39m_forward_hooks \u001B[38;5;129;01mor\u001B[39;00m \u001B[38;5;28mself\u001B[39m\u001B[38;5;241m.\u001B[39m_forward_pre_hooks\n\u001B[1;32m   1560\u001B[0m         \u001B[38;5;129;01mor\u001B[39;00m _global_backward_pre_hooks \u001B[38;5;129;01mor\u001B[39;00m _global_backward_hooks\n\u001B[1;32m   1561\u001B[0m         \u001B[38;5;129;01mor\u001B[39;00m _global_forward_hooks \u001B[38;5;129;01mor\u001B[39;00m _global_forward_pre_hooks):\n\u001B[0;32m-> 1562\u001B[0m     \u001B[38;5;28;01mreturn\u001B[39;00m \u001B[43mforward_call\u001B[49m\u001B[43m(\u001B[49m\u001B[38;5;241;43m*\u001B[39;49m\u001B[43margs\u001B[49m\u001B[43m,\u001B[49m\u001B[43m \u001B[49m\u001B[38;5;241;43m*\u001B[39;49m\u001B[38;5;241;43m*\u001B[39;49m\u001B[43mkwargs\u001B[49m\u001B[43m)\u001B[49m\n\u001B[1;32m   1564\u001B[0m \u001B[38;5;28;01mtry\u001B[39;00m:\n\u001B[1;32m   1565\u001B[0m     result \u001B[38;5;241m=\u001B[39m \u001B[38;5;28;01mNone\u001B[39;00m\n",
      "File \u001B[0;32m~/Documents/CVDclassification-based-on-ECG-signals/ver4_journal/common/network/BCResNets.py:73\u001B[0m, in \u001B[0;36mBCResNets.forward\u001B[0;34m(self, x)\u001B[0m\n\u001B[1;32m     71\u001B[0m         x \u001B[38;5;241m=\u001B[39m \u001B[38;5;28mself\u001B[39m\u001B[38;5;241m.\u001B[39mBCBlocks[i][j](x)\n\u001B[1;32m     72\u001B[0m         \u001B[38;5;66;03m#print(x.shape)\u001B[39;00m\n\u001B[0;32m---> 73\u001B[0m x \u001B[38;5;241m=\u001B[39m \u001B[38;5;28;43mself\u001B[39;49m\u001B[38;5;241;43m.\u001B[39;49m\u001B[43mclassifier\u001B[49m\u001B[43m(\u001B[49m\u001B[43mx\u001B[49m\u001B[43m)\u001B[49m\n\u001B[1;32m     74\u001B[0m x \u001B[38;5;241m=\u001B[39m x\u001B[38;5;241m.\u001B[39mview(\u001B[38;5;241m-\u001B[39m\u001B[38;5;241m1\u001B[39m, x\u001B[38;5;241m.\u001B[39mshape[\u001B[38;5;241m1\u001B[39m])\n\u001B[1;32m     75\u001B[0m \u001B[38;5;28;01mreturn\u001B[39;00m x\n",
      "File \u001B[0;32m~/Documents/CVDclassification-based-on-ECG-signals/.venv/lib/python3.12/site-packages/torch/nn/modules/module.py:1553\u001B[0m, in \u001B[0;36mModule._wrapped_call_impl\u001B[0;34m(self, *args, **kwargs)\u001B[0m\n\u001B[1;32m   1551\u001B[0m     \u001B[38;5;28;01mreturn\u001B[39;00m \u001B[38;5;28mself\u001B[39m\u001B[38;5;241m.\u001B[39m_compiled_call_impl(\u001B[38;5;241m*\u001B[39margs, \u001B[38;5;241m*\u001B[39m\u001B[38;5;241m*\u001B[39mkwargs)  \u001B[38;5;66;03m# type: ignore[misc]\u001B[39;00m\n\u001B[1;32m   1552\u001B[0m \u001B[38;5;28;01melse\u001B[39;00m:\n\u001B[0;32m-> 1553\u001B[0m     \u001B[38;5;28;01mreturn\u001B[39;00m \u001B[38;5;28;43mself\u001B[39;49m\u001B[38;5;241;43m.\u001B[39;49m\u001B[43m_call_impl\u001B[49m\u001B[43m(\u001B[49m\u001B[38;5;241;43m*\u001B[39;49m\u001B[43margs\u001B[49m\u001B[43m,\u001B[49m\u001B[43m \u001B[49m\u001B[38;5;241;43m*\u001B[39;49m\u001B[38;5;241;43m*\u001B[39;49m\u001B[43mkwargs\u001B[49m\u001B[43m)\u001B[49m\n",
      "File \u001B[0;32m~/Documents/CVDclassification-based-on-ECG-signals/.venv/lib/python3.12/site-packages/torch/nn/modules/module.py:1562\u001B[0m, in \u001B[0;36mModule._call_impl\u001B[0;34m(self, *args, **kwargs)\u001B[0m\n\u001B[1;32m   1557\u001B[0m \u001B[38;5;66;03m# If we don't have any hooks, we want to skip the rest of the logic in\u001B[39;00m\n\u001B[1;32m   1558\u001B[0m \u001B[38;5;66;03m# this function, and just call forward.\u001B[39;00m\n\u001B[1;32m   1559\u001B[0m \u001B[38;5;28;01mif\u001B[39;00m \u001B[38;5;129;01mnot\u001B[39;00m (\u001B[38;5;28mself\u001B[39m\u001B[38;5;241m.\u001B[39m_backward_hooks \u001B[38;5;129;01mor\u001B[39;00m \u001B[38;5;28mself\u001B[39m\u001B[38;5;241m.\u001B[39m_backward_pre_hooks \u001B[38;5;129;01mor\u001B[39;00m \u001B[38;5;28mself\u001B[39m\u001B[38;5;241m.\u001B[39m_forward_hooks \u001B[38;5;129;01mor\u001B[39;00m \u001B[38;5;28mself\u001B[39m\u001B[38;5;241m.\u001B[39m_forward_pre_hooks\n\u001B[1;32m   1560\u001B[0m         \u001B[38;5;129;01mor\u001B[39;00m _global_backward_pre_hooks \u001B[38;5;129;01mor\u001B[39;00m _global_backward_hooks\n\u001B[1;32m   1561\u001B[0m         \u001B[38;5;129;01mor\u001B[39;00m _global_forward_hooks \u001B[38;5;129;01mor\u001B[39;00m _global_forward_pre_hooks):\n\u001B[0;32m-> 1562\u001B[0m     \u001B[38;5;28;01mreturn\u001B[39;00m \u001B[43mforward_call\u001B[49m\u001B[43m(\u001B[49m\u001B[38;5;241;43m*\u001B[39;49m\u001B[43margs\u001B[49m\u001B[43m,\u001B[49m\u001B[43m \u001B[49m\u001B[38;5;241;43m*\u001B[39;49m\u001B[38;5;241;43m*\u001B[39;49m\u001B[43mkwargs\u001B[49m\u001B[43m)\u001B[49m\n\u001B[1;32m   1564\u001B[0m \u001B[38;5;28;01mtry\u001B[39;00m:\n\u001B[1;32m   1565\u001B[0m     result \u001B[38;5;241m=\u001B[39m \u001B[38;5;28;01mNone\u001B[39;00m\n",
      "File \u001B[0;32m~/Documents/CVDclassification-based-on-ECG-signals/.venv/lib/python3.12/site-packages/torch/nn/modules/container.py:219\u001B[0m, in \u001B[0;36mSequential.forward\u001B[0;34m(self, input)\u001B[0m\n\u001B[1;32m    217\u001B[0m \u001B[38;5;28;01mdef\u001B[39;00m \u001B[38;5;21mforward\u001B[39m(\u001B[38;5;28mself\u001B[39m, \u001B[38;5;28minput\u001B[39m):\n\u001B[1;32m    218\u001B[0m     \u001B[38;5;28;01mfor\u001B[39;00m module \u001B[38;5;129;01min\u001B[39;00m \u001B[38;5;28mself\u001B[39m:\n\u001B[0;32m--> 219\u001B[0m         \u001B[38;5;28minput\u001B[39m \u001B[38;5;241m=\u001B[39m \u001B[43mmodule\u001B[49m\u001B[43m(\u001B[49m\u001B[38;5;28;43minput\u001B[39;49m\u001B[43m)\u001B[49m\n\u001B[1;32m    220\u001B[0m     \u001B[38;5;28;01mreturn\u001B[39;00m \u001B[38;5;28minput\u001B[39m\n",
      "File \u001B[0;32m~/Documents/CVDclassification-based-on-ECG-signals/.venv/lib/python3.12/site-packages/torch/nn/modules/module.py:1553\u001B[0m, in \u001B[0;36mModule._wrapped_call_impl\u001B[0;34m(self, *args, **kwargs)\u001B[0m\n\u001B[1;32m   1551\u001B[0m     \u001B[38;5;28;01mreturn\u001B[39;00m \u001B[38;5;28mself\u001B[39m\u001B[38;5;241m.\u001B[39m_compiled_call_impl(\u001B[38;5;241m*\u001B[39margs, \u001B[38;5;241m*\u001B[39m\u001B[38;5;241m*\u001B[39mkwargs)  \u001B[38;5;66;03m# type: ignore[misc]\u001B[39;00m\n\u001B[1;32m   1552\u001B[0m \u001B[38;5;28;01melse\u001B[39;00m:\n\u001B[0;32m-> 1553\u001B[0m     \u001B[38;5;28;01mreturn\u001B[39;00m \u001B[38;5;28;43mself\u001B[39;49m\u001B[38;5;241;43m.\u001B[39;49m\u001B[43m_call_impl\u001B[49m\u001B[43m(\u001B[49m\u001B[38;5;241;43m*\u001B[39;49m\u001B[43margs\u001B[49m\u001B[43m,\u001B[49m\u001B[43m \u001B[49m\u001B[38;5;241;43m*\u001B[39;49m\u001B[38;5;241;43m*\u001B[39;49m\u001B[43mkwargs\u001B[49m\u001B[43m)\u001B[49m\n",
      "File \u001B[0;32m~/Documents/CVDclassification-based-on-ECG-signals/.venv/lib/python3.12/site-packages/torch/nn/modules/module.py:1562\u001B[0m, in \u001B[0;36mModule._call_impl\u001B[0;34m(self, *args, **kwargs)\u001B[0m\n\u001B[1;32m   1557\u001B[0m \u001B[38;5;66;03m# If we don't have any hooks, we want to skip the rest of the logic in\u001B[39;00m\n\u001B[1;32m   1558\u001B[0m \u001B[38;5;66;03m# this function, and just call forward.\u001B[39;00m\n\u001B[1;32m   1559\u001B[0m \u001B[38;5;28;01mif\u001B[39;00m \u001B[38;5;129;01mnot\u001B[39;00m (\u001B[38;5;28mself\u001B[39m\u001B[38;5;241m.\u001B[39m_backward_hooks \u001B[38;5;129;01mor\u001B[39;00m \u001B[38;5;28mself\u001B[39m\u001B[38;5;241m.\u001B[39m_backward_pre_hooks \u001B[38;5;129;01mor\u001B[39;00m \u001B[38;5;28mself\u001B[39m\u001B[38;5;241m.\u001B[39m_forward_hooks \u001B[38;5;129;01mor\u001B[39;00m \u001B[38;5;28mself\u001B[39m\u001B[38;5;241m.\u001B[39m_forward_pre_hooks\n\u001B[1;32m   1560\u001B[0m         \u001B[38;5;129;01mor\u001B[39;00m _global_backward_pre_hooks \u001B[38;5;129;01mor\u001B[39;00m _global_backward_hooks\n\u001B[1;32m   1561\u001B[0m         \u001B[38;5;129;01mor\u001B[39;00m _global_forward_hooks \u001B[38;5;129;01mor\u001B[39;00m _global_forward_pre_hooks):\n\u001B[0;32m-> 1562\u001B[0m     \u001B[38;5;28;01mreturn\u001B[39;00m \u001B[43mforward_call\u001B[49m\u001B[43m(\u001B[49m\u001B[38;5;241;43m*\u001B[39;49m\u001B[43margs\u001B[49m\u001B[43m,\u001B[49m\u001B[43m \u001B[49m\u001B[38;5;241;43m*\u001B[39;49m\u001B[38;5;241;43m*\u001B[39;49m\u001B[43mkwargs\u001B[49m\u001B[43m)\u001B[49m\n\u001B[1;32m   1564\u001B[0m \u001B[38;5;28;01mtry\u001B[39;00m:\n\u001B[1;32m   1565\u001B[0m     result \u001B[38;5;241m=\u001B[39m \u001B[38;5;28;01mNone\u001B[39;00m\n",
      "File \u001B[0;32m~/Documents/CVDclassification-based-on-ECG-signals/.venv/lib/python3.12/site-packages/torch/nn/modules/batchnorm.py:176\u001B[0m, in \u001B[0;36m_BatchNorm.forward\u001B[0;34m(self, input)\u001B[0m\n\u001B[1;32m    169\u001B[0m     bn_training \u001B[38;5;241m=\u001B[39m (\u001B[38;5;28mself\u001B[39m\u001B[38;5;241m.\u001B[39mrunning_mean \u001B[38;5;129;01mis\u001B[39;00m \u001B[38;5;28;01mNone\u001B[39;00m) \u001B[38;5;129;01mand\u001B[39;00m (\u001B[38;5;28mself\u001B[39m\u001B[38;5;241m.\u001B[39mrunning_var \u001B[38;5;129;01mis\u001B[39;00m \u001B[38;5;28;01mNone\u001B[39;00m)\n\u001B[1;32m    171\u001B[0m \u001B[38;5;250m\u001B[39m\u001B[38;5;124mr\u001B[39m\u001B[38;5;124;03m\"\"\"\u001B[39;00m\n\u001B[1;32m    172\u001B[0m \u001B[38;5;124;03mBuffers are only updated if they are to be tracked and we are in training mode. Thus they only need to be\u001B[39;00m\n\u001B[1;32m    173\u001B[0m \u001B[38;5;124;03mpassed when the update should occur (i.e. in training mode when they are tracked), or when buffer stats are\u001B[39;00m\n\u001B[1;32m    174\u001B[0m \u001B[38;5;124;03mused for normalization (i.e. in eval mode when buffers are not None).\u001B[39;00m\n\u001B[1;32m    175\u001B[0m \u001B[38;5;124;03m\"\"\"\u001B[39;00m\n\u001B[0;32m--> 176\u001B[0m \u001B[38;5;28;01mreturn\u001B[39;00m \u001B[43mF\u001B[49m\u001B[38;5;241;43m.\u001B[39;49m\u001B[43mbatch_norm\u001B[49m\u001B[43m(\u001B[49m\n\u001B[1;32m    177\u001B[0m \u001B[43m    \u001B[49m\u001B[38;5;28;43minput\u001B[39;49m\u001B[43m,\u001B[49m\n\u001B[1;32m    178\u001B[0m \u001B[43m    \u001B[49m\u001B[38;5;66;43;03m# If buffers are not to be tracked, ensure that they won't be updated\u001B[39;49;00m\n\u001B[1;32m    179\u001B[0m \u001B[43m    \u001B[49m\u001B[38;5;28;43mself\u001B[39;49m\u001B[38;5;241;43m.\u001B[39;49m\u001B[43mrunning_mean\u001B[49m\n\u001B[1;32m    180\u001B[0m \u001B[43m    \u001B[49m\u001B[38;5;28;43;01mif\u001B[39;49;00m\u001B[43m \u001B[49m\u001B[38;5;129;43;01mnot\u001B[39;49;00m\u001B[43m \u001B[49m\u001B[38;5;28;43mself\u001B[39;49m\u001B[38;5;241;43m.\u001B[39;49m\u001B[43mtraining\u001B[49m\u001B[43m \u001B[49m\u001B[38;5;129;43;01mor\u001B[39;49;00m\u001B[43m \u001B[49m\u001B[38;5;28;43mself\u001B[39;49m\u001B[38;5;241;43m.\u001B[39;49m\u001B[43mtrack_running_stats\u001B[49m\n\u001B[1;32m    181\u001B[0m \u001B[43m    \u001B[49m\u001B[38;5;28;43;01melse\u001B[39;49;00m\u001B[43m \u001B[49m\u001B[38;5;28;43;01mNone\u001B[39;49;00m\u001B[43m,\u001B[49m\n\u001B[1;32m    182\u001B[0m \u001B[43m    \u001B[49m\u001B[38;5;28;43mself\u001B[39;49m\u001B[38;5;241;43m.\u001B[39;49m\u001B[43mrunning_var\u001B[49m\u001B[43m \u001B[49m\u001B[38;5;28;43;01mif\u001B[39;49;00m\u001B[43m \u001B[49m\u001B[38;5;129;43;01mnot\u001B[39;49;00m\u001B[43m \u001B[49m\u001B[38;5;28;43mself\u001B[39;49m\u001B[38;5;241;43m.\u001B[39;49m\u001B[43mtraining\u001B[49m\u001B[43m \u001B[49m\u001B[38;5;129;43;01mor\u001B[39;49;00m\u001B[43m \u001B[49m\u001B[38;5;28;43mself\u001B[39;49m\u001B[38;5;241;43m.\u001B[39;49m\u001B[43mtrack_running_stats\u001B[49m\u001B[43m \u001B[49m\u001B[38;5;28;43;01melse\u001B[39;49;00m\u001B[43m \u001B[49m\u001B[38;5;28;43;01mNone\u001B[39;49;00m\u001B[43m,\u001B[49m\n\u001B[1;32m    183\u001B[0m \u001B[43m    \u001B[49m\u001B[38;5;28;43mself\u001B[39;49m\u001B[38;5;241;43m.\u001B[39;49m\u001B[43mweight\u001B[49m\u001B[43m,\u001B[49m\n\u001B[1;32m    184\u001B[0m \u001B[43m    \u001B[49m\u001B[38;5;28;43mself\u001B[39;49m\u001B[38;5;241;43m.\u001B[39;49m\u001B[43mbias\u001B[49m\u001B[43m,\u001B[49m\n\u001B[1;32m    185\u001B[0m \u001B[43m    \u001B[49m\u001B[43mbn_training\u001B[49m\u001B[43m,\u001B[49m\n\u001B[1;32m    186\u001B[0m \u001B[43m    \u001B[49m\u001B[43mexponential_average_factor\u001B[49m\u001B[43m,\u001B[49m\n\u001B[1;32m    187\u001B[0m \u001B[43m    \u001B[49m\u001B[38;5;28;43mself\u001B[39;49m\u001B[38;5;241;43m.\u001B[39;49m\u001B[43meps\u001B[49m\u001B[43m,\u001B[49m\n\u001B[1;32m    188\u001B[0m \u001B[43m\u001B[49m\u001B[43m)\u001B[49m\n",
      "File \u001B[0;32m~/Documents/CVDclassification-based-on-ECG-signals/.venv/lib/python3.12/site-packages/torch/nn/functional.py:2512\u001B[0m, in \u001B[0;36mbatch_norm\u001B[0;34m(input, running_mean, running_var, weight, bias, training, momentum, eps)\u001B[0m\n\u001B[1;32m   2509\u001B[0m \u001B[38;5;28;01mif\u001B[39;00m training:\n\u001B[1;32m   2510\u001B[0m     _verify_batch_size(\u001B[38;5;28minput\u001B[39m\u001B[38;5;241m.\u001B[39msize())\n\u001B[0;32m-> 2512\u001B[0m \u001B[38;5;28;01mreturn\u001B[39;00m \u001B[43mtorch\u001B[49m\u001B[38;5;241;43m.\u001B[39;49m\u001B[43mbatch_norm\u001B[49m\u001B[43m(\u001B[49m\n\u001B[1;32m   2513\u001B[0m \u001B[43m    \u001B[49m\u001B[38;5;28;43minput\u001B[39;49m\u001B[43m,\u001B[49m\u001B[43m \u001B[49m\u001B[43mweight\u001B[49m\u001B[43m,\u001B[49m\u001B[43m \u001B[49m\u001B[43mbias\u001B[49m\u001B[43m,\u001B[49m\u001B[43m \u001B[49m\u001B[43mrunning_mean\u001B[49m\u001B[43m,\u001B[49m\u001B[43m \u001B[49m\u001B[43mrunning_var\u001B[49m\u001B[43m,\u001B[49m\u001B[43m \u001B[49m\u001B[43mtraining\u001B[49m\u001B[43m,\u001B[49m\u001B[43m \u001B[49m\u001B[43mmomentum\u001B[49m\u001B[43m,\u001B[49m\u001B[43m \u001B[49m\u001B[43meps\u001B[49m\u001B[43m,\u001B[49m\u001B[43m \u001B[49m\u001B[43mtorch\u001B[49m\u001B[38;5;241;43m.\u001B[39;49m\u001B[43mbackends\u001B[49m\u001B[38;5;241;43m.\u001B[39;49m\u001B[43mcudnn\u001B[49m\u001B[38;5;241;43m.\u001B[39;49m\u001B[43menabled\u001B[49m\n\u001B[1;32m   2514\u001B[0m \u001B[43m\u001B[49m\u001B[43m)\u001B[49m\n",
      "\u001B[0;31mKeyboardInterrupt\u001B[0m: "
     ]
    },
    {
     "data": {
      "text/plain": "<Figure size 640x480 with 1 Axes>",
      "image/png": "[encoded data removed]"
     },
     "metadata": {},
     "output_type": "display_data"
    }
   ],
   "source": [
    "from ver4_journal.common.data.ECG_Data import ECG_Data\n",
    "from ver4_journal.common.data.create_final_data import create_final_data\n",
    "\n",
    "# 각각의 BCResNets 학습\n",
    "for dd in range(5):\n",
    "    temp = [\n",
    "        [1,0,0,0,0],\n",
    "        [0,1,0,0,0],\n",
    "        [0,0,1,0,0],\n",
    "        [0,0,0,1,0],\n",
    "        [0,0,0,0,1]\n",
    "    ]\n",
    "    \n",
    "    final_data=create_final_data(temp, dd)\n",
    "    sns.countplot(data=final_data,x='Labels')\n",
    "    ECG_train = final_data[final_data['strat_fold'].isin([1, 2, 3, 4, 5, 6, 7, 8])].reset_index(drop=True)\n",
    "    ECG_val = final_data[final_data['strat_fold'] == 9].reset_index(drop=True)\n",
    "    ECG_test = final_data[final_data['strat_fold'] == 10].reset_index(drop=True)\n",
    "\n",
    "    ECG_train = ECG_train[ECG_train['Labels'].isin([0,1])].reset_index(drop=True)\n",
    "    ECG_val = ECG_val[ECG_val['Labels'].isin([0,1])].reset_index(drop=True)\n",
    "    ECG_test = ECG_test[ECG_test['Labels'].isin([0,1])].reset_index(drop=True)\n",
    "\n",
    "    # ECG_train=ECG_train.reset_index()\n",
    "    # ECG_test=ECG_test.reset_index()\n",
    "    class_0_count = (ECG_train['Labels'] == 0).sum()\n",
    "    class_1_count = (ECG_train['Labels'] == 1).sum()\n",
    "\n",
    "    print(\"Class 0 count in ECG_train:\", class_0_count)\n",
    "    print(\"Class 1 count in ECG_train:\", class_1_count)   \n",
    "\n",
    "    import torch\n",
    "    # 각 클래스의 데이터 개수 세기\n",
    "    class_counts = {\n",
    "        0: class_0_count,\n",
    "        1: class_1_count\n",
    "    }\n",
    "\n",
    "    # 클래스의 비율 계산\n",
    "    total_samples = sum(class_counts.values())\n",
    "    class_ratios = {class_label: count / total_samples for class_label, count in class_counts.items()}\n",
    "\n",
    "    # weight 계산\n",
    "    class_weights = {class_label: 1.0 / ratio for class_label, ratio in class_ratios.items()}\n",
    "\n",
    "    # weight를 tensor로 변환\n",
    "    weight_tensor = torch.tensor(list(class_weights.values()), dtype=torch.float)\n",
    "\n",
    "    print(\"Class weights:\", class_weights)\n",
    "    print(\"Weight tensor:\", weight_tensor)\n",
    "\n",
    "    train_dataset = ECG_Data(ECG_train)\n",
    "    train_loader = DataLoader(train_dataset,batch_size=32, shuffle=True)\n",
    "\n",
    "    val_dataset=ECG_Data(ECG_val)\n",
    "    val_loader=DataLoader(val_dataset,batch_size=32, shuffle=True)\n",
    "\n",
    "    test_dataset=ECG_Data(ECG_test)\n",
    "    test_loader=DataLoader(test_dataset,batch_size=32, shuffle=True)\n",
    "\n",
    "    first_batch, label = next(iter(train_loader))\n",
    "\n",
    "    print(f\"Batch shape: {first_batch.shape}\")\n",
    "\n",
    "    print(len(train_loader), len(val_loader), len(test_loader))\n",
    "\n",
    "    device = torch.device(\"mps\" if torch.backends.mps.is_available() else \"cpu\")\n",
    "    \n",
    "    print(f\"Using {device} device\")\n",
    "    num_epochs = 50\n",
    "    tau = 2\n",
    "    #model = BCResNets(int(tau * 8), 5).to(device)\n",
    "    in_channel = 12\n",
    "    best_test_auc = float(\"-inf\")\n",
    "\n",
    "    model = BCResNets(int(tau * 8), 1, in_channel).to(device)\n",
    "    #model.load_state_dict(torch.load('/content/drive/MyDrive/bcresnet3_best_weights_5.pth'))\n",
    "\n",
    "    \"\"\"\n",
    "    torch.save({\n",
    "        'model_state_dict': model.state_dict(),\n",
    "        'classifier_state_dict': model.classifier.state_dict()\n",
    "    }, 'model_checkpoint.pth')\n",
    "    checkpoint = torch.load('model_checkpoint.pth')\n",
    "    model.load_state_dict(checkpoint['model_state_dict'])\n",
    "\n",
    "    num_classes = 1\n",
    "    # classifier 부분 수정\n",
    "    model.classifier = nn.Sequential(\n",
    "        nn.Conv2d(\n",
    "            model.c[-2], model.c[-2], (5, 5), bias=False, groups=model.c[-2], padding=(0, 2)\n",
    "        ),\n",
    "        nn.Conv2d(model.c[-2], model.c[-1], 1, bias=False),\n",
    "        nn.BatchNorm2d(model.c[-1]),\n",
    "        nn.ReLU(True),\n",
    "        nn.AdaptiveAvgPool2d((1, 1)),\n",
    "        nn.Conv2d(model.c[-1], num_classes, 1),\n",
    "    )\n",
    "    \"\"\"\n",
    "    #print(model)\n",
    "    model = model.to(device)\n",
    "    total_iter = len(train_loader) * num_epochs\n",
    "    iterations = 0\n",
    "    init_lr = 1e-2\n",
    "    lr_lower_limit = 0\n",
    "\n",
    "    optim = torch.optim.Adam(model.parameters(), lr=init_lr)\n",
    "    #loss_fn = torch.nn.CrossEntropyLoss(class_weights)\n",
    "    loss_fn = torch.nn.BCELoss(weight=weight_tensor[1].float().to(device))\n",
    "    #loss_fn = torch.nn.CrossEntropyLoss()\n",
    "\n",
    "    def acc(op, labels):\n",
    "        op = torch.softmax(op, dim=1)\n",
    "        _, preds = torch.max(op, dim=1)\n",
    "        return (preds == labels).float().mean()\n",
    "\n",
    "    for epoch in range(num_epochs):\n",
    "        model.train()\n",
    "        train_accuracy = []\n",
    "        train_loss_sum = 0\n",
    "        for data, label in train_loader:\n",
    "\n",
    "            data, label = data.to(device), label.to(device)\n",
    "\n",
    "            optim.zero_grad()\n",
    "            output = model(data)\n",
    "            loss_value = loss_fn(torch.sigmoid(output).squeeze(-1).float(), label.float())\n",
    "            loss_value.backward()\n",
    "            optim.step()\n",
    "\n",
    "            train_loss_sum += loss_value.item()\n",
    "            train_accuracy.append(acc(output, label).item())\n",
    "\n",
    "        avg_train_accuracy = np.mean(train_accuracy)\n",
    "        avg_train_loss = train_loss_sum / len(train_loader)\n",
    "        print(f'Epoch: {epoch+1}/{num_epochs}, Training Loss: {avg_train_loss:.4f}, Training Accuracy: {avg_train_accuracy:.2f}%')\n",
    "\n",
    "        model.eval()\n",
    "        test_accuracy = []\n",
    "        test_loss_sum = 0\n",
    "        y_true = []\n",
    "        y_pred = []\n",
    "        with torch.no_grad():\n",
    "            for data, label in test_loader:\n",
    "                data, label = data.to(device), label.to(device)\n",
    "\n",
    "                output = model(data)\n",
    "                loss_value = loss_fn(torch.sigmoid(output).squeeze(-1).float(), label.float())\n",
    "\n",
    "                test_loss_sum += loss_value.item()\n",
    "                test_accuracy.append(acc(output, label).item())\n",
    "\n",
    "                y_true.extend(label.cpu().numpy())\n",
    "                y_pred.extend(torch.sigmoid(output).cpu().numpy())\n",
    "\n",
    "        avg_test_accuracy = np.mean(test_accuracy)\n",
    "        avg_test_loss = test_loss_sum / len(test_loader)\n",
    "        print(f'Test Loss: {avg_test_loss:.4f}, Test Accuracy: {avg_test_accuracy:.2f}%')\n",
    "\n",
    "        y_true = np.array(y_true)\n",
    "        y_pred = np.array(y_pred)\n",
    "\n",
    "        # Calculate macro AUC\n",
    "        macro_auc_ovo = roc_auc_score(y_true, y_pred, average='macro', multi_class='ovo')\n",
    "        macro_auc_ovr = roc_auc_score(y_true, y_pred, average='macro', multi_class='ovr')\n",
    "        if macro_auc_ovr > best_test_auc:\n",
    "          torch.save(model.state_dict(), f'../common/best_models/{dd}model.pth')\n",
    "        print(f'Macro AUC: {macro_auc_ovo:.4f}, {macro_auc_ovr:.4f}')"
   ],
   "metadata": {
    "collapsed": false,
    "ExecuteTime": {
     "end_time": "2024-10-09T02:51:35.712104Z",
     "start_time": "2024-10-09T01:50:32.130378Z"
    }
   },
   "id": "eeeb4b2a96977469",
   "execution_count": 6
  }
 ],
 "metadata": {
  "kernelspec": {
   "display_name": "Python 3",
   "language": "python",
   "name": "python3"
  },
  "language_info": {
   "codemirror_mode": {
    "name": "ipython",
    "version": 2
   },
   "file_extension": ".py",
   "mimetype": "text/x-python",
   "name": "python",
   "nbconvert_exporter": "python",
   "pygments_lexer": "ipython2",
   "version": "2.7.6"
  }
 },
 "nbformat": 4,
 "nbformat_minor": 5
}
