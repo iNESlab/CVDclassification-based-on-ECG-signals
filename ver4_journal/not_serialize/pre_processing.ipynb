{
 "cells": [
  {
   "cell_type": "code",
   "execution_count": 1,
   "id": "initial_id",
   "metadata": {
    "collapsed": true,
    "ExecuteTime": {
     "end_time": "2024-10-09T00:31:29.608818Z",
     "start_time": "2024-10-09T00:31:28.818094Z"
    }
   },
   "outputs": [],
   "source": [
    "import pandas as pd\n",
    "import matplotlib.pyplot as plt\n",
    "import seaborn as sns\n",
    "import torch\n",
    "from torch.utils.data import DataLoader\n",
    "import re"
   ]
  },
  {
   "cell_type": "code",
   "outputs": [],
   "source": [
    "device = torch.device(\"mps\" if torch.backends.mps.is_available() else \"cpu\")\n",
    "# model = MyModel().to(device)"
   ],
   "metadata": {
    "collapsed": false,
    "ExecuteTime": {
     "end_time": "2024-10-09T00:31:29.624949Z",
     "start_time": "2024-10-09T00:31:29.609798Z"
    }
   },
   "id": "de9d5b30d7674499",
   "execution_count": 2
  },
  {
   "cell_type": "code",
   "outputs": [],
   "source": [
    "diagnostics={\"NORM\":['NORM','CSD'],\n",
    "             \"STTC\":['NDT', 'NST_', 'DIG', 'LNGQT', 'ISC_', 'ISCAL', 'ISCIN', 'ISCIL', 'ISCAS', 'ISCLA', 'ANEUR', 'EL', 'ISCAN' ],\n",
    "             \"MI\":['IMI', 'ASMI', 'ILMI', 'AMI', 'ALMI', 'INJAS', 'LMI', 'INJAL', 'IPLMI', 'IPMI', 'INJIN', 'INJLA', 'PMI', 'INJIL'],\n",
    "             \"HYP\":['LVH', 'LAO/LAE', 'RVH', 'RAO/RAE', 'SEHYP'],\n",
    "             \"CD\":['LAFB', 'IRBBB', '1AVB', 'IVCD', 'CRBBB', 'CLBBB', 'LPFB', 'WPW', 'ILBBB', '3AVB', '2AVB'],\n",
    "             \"OTHER\":['AFLT', 'AFIB', 'PSVT', 'STACH', 'PVC', 'PACE', 'PAC']\n",
    "            }"
   ],
   "metadata": {
    "collapsed": false,
    "ExecuteTime": {
     "end_time": "2024-10-09T00:31:29.627741Z",
     "start_time": "2024-10-09T00:31:29.625559Z"
    }
   },
   "id": "e9e285246ce0b562",
   "execution_count": 3
  },
  {
   "cell_type": "code",
   "outputs": [
    {
     "data": {
      "text/plain": "   ecg_id  patient_id   age  sex  height  weight  nurse  site     device  \\\n0       1     15709.0  56.0    1     NaN    63.0    2.0   0.0  CS-12   E   \n1       2     13243.0  19.0    0     NaN    70.0    2.0   0.0  CS-12   E   \n2       3     20372.0  37.0    1     NaN    69.0    2.0   0.0  CS-12   E   \n3       4     17014.0  24.0    0     NaN    82.0    2.0   0.0  CS-12   E   \n4       5     17448.0  19.0    1     NaN    70.0    2.0   0.0  CS-12   E   \n\n        recording_date  ... validated_by_human  baseline_drift static_noise  \\\n0  1984-11-09 09:17:34  ...               True             NaN    , I-V1,     \n1  1984-11-14 12:55:37  ...               True             NaN          NaN   \n2  1984-11-15 12:49:10  ...               True             NaN          NaN   \n3  1984-11-15 13:44:57  ...               True    , II,III,AVF          NaN   \n4  1984-11-17 10:43:15  ...               True   , III,AVR,AVF          NaN   \n\n  burst_noise electrodes_problems  extra_beats  pacemaker  strat_fold  \\\n0         NaN                 NaN          NaN        NaN           3   \n1         NaN                 NaN          NaN        NaN           2   \n2         NaN                 NaN          NaN        NaN           5   \n3         NaN                 NaN          NaN        NaN           3   \n4         NaN                 NaN          NaN        NaN           4   \n\n                 filename_lr                filename_hr  \n0  records100/00000/00001_lr  records500/00000/00001_hr  \n1  records100/00000/00002_lr  records500/00000/00002_hr  \n2  records100/00000/00003_lr  records500/00000/00003_hr  \n3  records100/00000/00004_lr  records500/00000/00004_hr  \n4  records100/00000/00005_lr  records500/00000/00005_hr  \n\n[5 rows x 28 columns]",
      "text/html": "<div>\n<style scoped>\n    .dataframe tbody tr th:only-of-type {\n        vertical-align: middle;\n    }\n\n    .dataframe tbody tr th {\n        vertical-align: top;\n    }\n\n    .dataframe thead th {\n        text-align: right;\n    }\n</style>\n<table border=\"1\" class=\"dataframe\">\n  <thead>\n    <tr style=\"text-align: right;\">\n      <th></th>\n      <th>ecg_id</th>\n      <th>patient_id</th>\n      <th>age</th>\n      <th>sex</th>\n      <th>height</th>\n      <th>weight</th>\n      <th>nurse</th>\n      <th>site</th>\n      <th>device</th>\n      <th>recording_date</th>\n      <th>...</th>\n      <th>validated_by_human</th>\n      <th>baseline_drift</th>\n      <th>static_noise</th>\n      <th>burst_noise</th>\n      <th>electrodes_problems</th>\n      <th>extra_beats</th>\n      <th>pacemaker</th>\n      <th>strat_fold</th>\n      <th>filename_lr</th>\n      <th>filename_hr</th>\n    </tr>\n  </thead>\n  <tbody>\n    <tr>\n      <th>0</th>\n      <td>1</td>\n      <td>15709.0</td>\n      <td>56.0</td>\n      <td>1</td>\n      <td>NaN</td>\n      <td>63.0</td>\n      <td>2.0</td>\n      <td>0.0</td>\n      <td>CS-12   E</td>\n      <td>1984-11-09 09:17:34</td>\n      <td>...</td>\n      <td>True</td>\n      <td>NaN</td>\n      <td>, I-V1,</td>\n      <td>NaN</td>\n      <td>NaN</td>\n      <td>NaN</td>\n      <td>NaN</td>\n      <td>3</td>\n      <td>records100/00000/00001_lr</td>\n      <td>records500/00000/00001_hr</td>\n    </tr>\n    <tr>\n      <th>1</th>\n      <td>2</td>\n      <td>13243.0</td>\n      <td>19.0</td>\n      <td>0</td>\n      <td>NaN</td>\n      <td>70.0</td>\n      <td>2.0</td>\n      <td>0.0</td>\n      <td>CS-12   E</td>\n      <td>1984-11-14 12:55:37</td>\n      <td>...</td>\n      <td>True</td>\n      <td>NaN</td>\n      <td>NaN</td>\n      <td>NaN</td>\n      <td>NaN</td>\n      <td>NaN</td>\n      <td>NaN</td>\n      <td>2</td>\n      <td>records100/00000/00002_lr</td>\n      <td>records500/00000/00002_hr</td>\n    </tr>\n    <tr>\n      <th>2</th>\n      <td>3</td>\n      <td>20372.0</td>\n      <td>37.0</td>\n      <td>1</td>\n      <td>NaN</td>\n      <td>69.0</td>\n      <td>2.0</td>\n      <td>0.0</td>\n      <td>CS-12   E</td>\n      <td>1984-11-15 12:49:10</td>\n      <td>...</td>\n      <td>True</td>\n      <td>NaN</td>\n      <td>NaN</td>\n      <td>NaN</td>\n      <td>NaN</td>\n      <td>NaN</td>\n      <td>NaN</td>\n      <td>5</td>\n      <td>records100/00000/00003_lr</td>\n      <td>records500/00000/00003_hr</td>\n    </tr>\n    <tr>\n      <th>3</th>\n      <td>4</td>\n      <td>17014.0</td>\n      <td>24.0</td>\n      <td>0</td>\n      <td>NaN</td>\n      <td>82.0</td>\n      <td>2.0</td>\n      <td>0.0</td>\n      <td>CS-12   E</td>\n      <td>1984-11-15 13:44:57</td>\n      <td>...</td>\n      <td>True</td>\n      <td>, II,III,AVF</td>\n      <td>NaN</td>\n      <td>NaN</td>\n      <td>NaN</td>\n      <td>NaN</td>\n      <td>NaN</td>\n      <td>3</td>\n      <td>records100/00000/00004_lr</td>\n      <td>records500/00000/00004_hr</td>\n    </tr>\n    <tr>\n      <th>4</th>\n      <td>5</td>\n      <td>17448.0</td>\n      <td>19.0</td>\n      <td>1</td>\n      <td>NaN</td>\n      <td>70.0</td>\n      <td>2.0</td>\n      <td>0.0</td>\n      <td>CS-12   E</td>\n      <td>1984-11-17 10:43:15</td>\n      <td>...</td>\n      <td>True</td>\n      <td>, III,AVR,AVF</td>\n      <td>NaN</td>\n      <td>NaN</td>\n      <td>NaN</td>\n      <td>NaN</td>\n      <td>NaN</td>\n      <td>4</td>\n      <td>records100/00000/00005_lr</td>\n      <td>records500/00000/00005_hr</td>\n    </tr>\n  </tbody>\n</table>\n<p>5 rows × 28 columns</p>\n</div>"
     },
     "execution_count": 4,
     "metadata": {},
     "output_type": "execute_result"
    }
   ],
   "source": [
    "db_path=\"../ptb-xl-a-large-publicly-available-electrocardiography-dataset-1.0.3\"\n",
    "ecg_data=pd.read_csv(f'{db_path}/ptbxl_database.csv')\n",
    "ecg_data.head()"
   ],
   "metadata": {
    "collapsed": false,
    "ExecuteTime": {
     "end_time": "2024-10-09T00:31:29.933300Z",
     "start_time": "2024-10-09T00:31:29.840431Z"
    }
   },
   "id": "f0292ebf0a08ad50",
   "execution_count": 4
  },
  {
   "cell_type": "code",
   "outputs": [
    {
     "name": "stdout",
     "output_type": "stream",
     "text": [
      "<class 'pandas.core.frame.DataFrame'>\n",
      "RangeIndex: 21799 entries, 0 to 21798\n",
      "Data columns (total 28 columns):\n",
      " #   Column                        Non-Null Count  Dtype  \n",
      "---  ------                        --------------  -----  \n",
      " 0   ecg_id                        21799 non-null  int64  \n",
      " 1   patient_id                    21799 non-null  float64\n",
      " 2   age                           21799 non-null  float64\n",
      " 3   sex                           21799 non-null  int64  \n",
      " 4   height                        6974 non-null   float64\n",
      " 5   weight                        9421 non-null   float64\n",
      " 6   nurse                         20326 non-null  float64\n",
      " 7   site                          21782 non-null  float64\n",
      " 8   device                        21799 non-null  object \n",
      " 9   recording_date                21799 non-null  object \n",
      " 10  report                        21799 non-null  object \n",
      " 11  scp_codes                     21799 non-null  object \n",
      " 12  heart_axis                    13331 non-null  object \n",
      " 13  infarction_stadium1           5612 non-null   object \n",
      " 14  infarction_stadium2           103 non-null    object \n",
      " 15  validated_by                  12421 non-null  float64\n",
      " 16  second_opinion                21799 non-null  bool   \n",
      " 17  initial_autogenerated_report  21799 non-null  bool   \n",
      " 18  validated_by_human            21799 non-null  bool   \n",
      " 19  baseline_drift                1598 non-null   object \n",
      " 20  static_noise                  3260 non-null   object \n",
      " 21  burst_noise                   613 non-null    object \n",
      " 22  electrodes_problems           30 non-null     object \n",
      " 23  extra_beats                   1949 non-null   object \n",
      " 24  pacemaker                     291 non-null    object \n",
      " 25  strat_fold                    21799 non-null  int64  \n",
      " 26  filename_lr                   21799 non-null  object \n",
      " 27  filename_hr                   21799 non-null  object \n",
      "dtypes: bool(3), float64(7), int64(3), object(15)\n",
      "memory usage: 4.2+ MB\n"
     ]
    }
   ],
   "source": [
    "ecg_data.info()"
   ],
   "metadata": {
    "collapsed": false,
    "ExecuteTime": {
     "end_time": "2024-10-09T00:31:30.241904Z",
     "start_time": "2024-10-09T00:31:30.229788Z"
    }
   },
   "id": "dd480fae632895ef",
   "execution_count": 5
  },
  {
   "cell_type": "code",
   "outputs": [
    {
     "data": {
      "text/plain": "   ecg_id  patient_id   age  sex  height  weight  nurse  site     device  \\\n0       1     15709.0  56.0    1     NaN    63.0    2.0   0.0  CS-12   E   \n1       2     13243.0  19.0    0     NaN    70.0    2.0   0.0  CS-12   E   \n2       3     20372.0  37.0    1     NaN    69.0    2.0   0.0  CS-12   E   \n3       4     17014.0  24.0    0     NaN    82.0    2.0   0.0  CS-12   E   \n4       5     17448.0  19.0    1     NaN    70.0    2.0   0.0  CS-12   E   \n\n        recording_date  ...  baseline_drift static_noise burst_noise  \\\n0  1984-11-09 09:17:34  ...             NaN    , I-V1,           NaN   \n1  1984-11-14 12:55:37  ...             NaN          NaN         NaN   \n2  1984-11-15 12:49:10  ...             NaN          NaN         NaN   \n3  1984-11-15 13:44:57  ...    , II,III,AVF          NaN         NaN   \n4  1984-11-17 10:43:15  ...   , III,AVR,AVF          NaN         NaN   \n\n  electrodes_problems extra_beats  pacemaker  strat_fold  \\\n0                 NaN         NaN        NaN           3   \n1                 NaN         NaN        NaN           2   \n2                 NaN         NaN        NaN           5   \n3                 NaN         NaN        NaN           3   \n4                 NaN         NaN        NaN           4   \n\n                 filename_lr                filename_hr Labels  \n0  records100/00000/00001_lr  records500/00000/00001_hr      0  \n1  records100/00000/00002_lr  records500/00000/00002_hr      0  \n2  records100/00000/00003_lr  records500/00000/00003_hr      0  \n3  records100/00000/00004_lr  records500/00000/00004_hr      0  \n4  records100/00000/00005_lr  records500/00000/00005_hr      0  \n\n[5 rows x 29 columns]",
      "text/html": "<div>\n<style scoped>\n    .dataframe tbody tr th:only-of-type {\n        vertical-align: middle;\n    }\n\n    .dataframe tbody tr th {\n        vertical-align: top;\n    }\n\n    .dataframe thead th {\n        text-align: right;\n    }\n</style>\n<table border=\"1\" class=\"dataframe\">\n  <thead>\n    <tr style=\"text-align: right;\">\n      <th></th>\n      <th>ecg_id</th>\n      <th>patient_id</th>\n      <th>age</th>\n      <th>sex</th>\n      <th>height</th>\n      <th>weight</th>\n      <th>nurse</th>\n      <th>site</th>\n      <th>device</th>\n      <th>recording_date</th>\n      <th>...</th>\n      <th>baseline_drift</th>\n      <th>static_noise</th>\n      <th>burst_noise</th>\n      <th>electrodes_problems</th>\n      <th>extra_beats</th>\n      <th>pacemaker</th>\n      <th>strat_fold</th>\n      <th>filename_lr</th>\n      <th>filename_hr</th>\n      <th>Labels</th>\n    </tr>\n  </thead>\n  <tbody>\n    <tr>\n      <th>0</th>\n      <td>1</td>\n      <td>15709.0</td>\n      <td>56.0</td>\n      <td>1</td>\n      <td>NaN</td>\n      <td>63.0</td>\n      <td>2.0</td>\n      <td>0.0</td>\n      <td>CS-12   E</td>\n      <td>1984-11-09 09:17:34</td>\n      <td>...</td>\n      <td>NaN</td>\n      <td>, I-V1,</td>\n      <td>NaN</td>\n      <td>NaN</td>\n      <td>NaN</td>\n      <td>NaN</td>\n      <td>3</td>\n      <td>records100/00000/00001_lr</td>\n      <td>records500/00000/00001_hr</td>\n      <td>0</td>\n    </tr>\n    <tr>\n      <th>1</th>\n      <td>2</td>\n      <td>13243.0</td>\n      <td>19.0</td>\n      <td>0</td>\n      <td>NaN</td>\n      <td>70.0</td>\n      <td>2.0</td>\n      <td>0.0</td>\n      <td>CS-12   E</td>\n      <td>1984-11-14 12:55:37</td>\n      <td>...</td>\n      <td>NaN</td>\n      <td>NaN</td>\n      <td>NaN</td>\n      <td>NaN</td>\n      <td>NaN</td>\n      <td>NaN</td>\n      <td>2</td>\n      <td>records100/00000/00002_lr</td>\n      <td>records500/00000/00002_hr</td>\n      <td>0</td>\n    </tr>\n    <tr>\n      <th>2</th>\n      <td>3</td>\n      <td>20372.0</td>\n      <td>37.0</td>\n      <td>1</td>\n      <td>NaN</td>\n      <td>69.0</td>\n      <td>2.0</td>\n      <td>0.0</td>\n      <td>CS-12   E</td>\n      <td>1984-11-15 12:49:10</td>\n      <td>...</td>\n      <td>NaN</td>\n      <td>NaN</td>\n      <td>NaN</td>\n      <td>NaN</td>\n      <td>NaN</td>\n      <td>NaN</td>\n      <td>5</td>\n      <td>records100/00000/00003_lr</td>\n      <td>records500/00000/00003_hr</td>\n      <td>0</td>\n    </tr>\n    <tr>\n      <th>3</th>\n      <td>4</td>\n      <td>17014.0</td>\n      <td>24.0</td>\n      <td>0</td>\n      <td>NaN</td>\n      <td>82.0</td>\n      <td>2.0</td>\n      <td>0.0</td>\n      <td>CS-12   E</td>\n      <td>1984-11-15 13:44:57</td>\n      <td>...</td>\n      <td>, II,III,AVF</td>\n      <td>NaN</td>\n      <td>NaN</td>\n      <td>NaN</td>\n      <td>NaN</td>\n      <td>NaN</td>\n      <td>3</td>\n      <td>records100/00000/00004_lr</td>\n      <td>records500/00000/00004_hr</td>\n      <td>0</td>\n    </tr>\n    <tr>\n      <th>4</th>\n      <td>5</td>\n      <td>17448.0</td>\n      <td>19.0</td>\n      <td>1</td>\n      <td>NaN</td>\n      <td>70.0</td>\n      <td>2.0</td>\n      <td>0.0</td>\n      <td>CS-12   E</td>\n      <td>1984-11-17 10:43:15</td>\n      <td>...</td>\n      <td>, III,AVR,AVF</td>\n      <td>NaN</td>\n      <td>NaN</td>\n      <td>NaN</td>\n      <td>NaN</td>\n      <td>NaN</td>\n      <td>4</td>\n      <td>records100/00000/00005_lr</td>\n      <td>records500/00000/00005_hr</td>\n      <td>0</td>\n    </tr>\n  </tbody>\n</table>\n<p>5 rows × 29 columns</p>\n</div>"
     },
     "execution_count": 6,
     "metadata": {},
     "output_type": "execute_result"
    }
   ],
   "source": [
    "#Merging the diagnosis into a superclass:\n",
    "labels=[]\n",
    "discard=[]\n",
    "for index in range(ecg_data.shape[0]):\n",
    "    counter=0\n",
    "    temp_diag=ecg_data['scp_codes'][index]\n",
    "    temp_diag=re.sub('{',\"\",str(temp_diag))\n",
    "    temp_diag=re.sub('}',\"\",temp_diag)\n",
    "    temp_diag=temp_diag.split(',')\n",
    "    len_diag=len(temp_diag)\n",
    "    for idx in range(len_diag):\n",
    "        temp_d=temp_diag[idx]\n",
    "        temp_d=temp_d.split(':')[0]\n",
    "        temp_d=re.sub(r'[^\\w\\s]',\"\",temp_d)\n",
    "\n",
    "        # 이진분류시 하나뺴고 나머지 레이블을 0또는 1로 변경\n",
    "        # 이 부분 코드는 자동 학습 코드에 반영되어있지만 수정이 필요할 수 있음\n",
    "        if temp_d in diagnostics['NORM']:\n",
    "            label=0\n",
    "            counter=1\n",
    "        elif temp_d in diagnostics['STTC']:\n",
    "            label=1\n",
    "            counter=1\n",
    "        elif temp_d in diagnostics['MI']:\n",
    "            label=2\n",
    "            counter=1\n",
    "        elif temp_d in diagnostics['HYP']:\n",
    "            label=3\n",
    "            counter=1\n",
    "        elif temp_d in diagnostics['CD']:\n",
    "            label=4\n",
    "            counter=1\n",
    "        elif temp_d in diagnostics['OTHER']:\n",
    "            label=5\n",
    "            counter=1\n",
    "        else:\n",
    "            label=100\n",
    "        labels.append(label)\n",
    "    if counter==0:\n",
    "        discard.append(index)\n",
    "\n",
    "final_labels=[]\n",
    "for index in range(len(labels)):\n",
    "    if labels[index]!=100:\n",
    "        final_labels.append(labels[index])\n",
    "\n",
    "final_data=ecg_data.drop(axis=0,index=discard)\n",
    "final_data['Labels']=final_labels\n",
    "final_data.head()"
   ],
   "metadata": {
    "collapsed": false,
    "ExecuteTime": {
     "end_time": "2024-10-09T00:31:30.814713Z",
     "start_time": "2024-10-09T00:31:30.664492Z"
    }
   },
   "id": "3a04da2608f23936",
   "execution_count": 6
  },
  {
   "cell_type": "code",
   "outputs": [
    {
     "name": "stdout",
     "output_type": "stream",
     "text": [
      "Labels\n",
      "0    9514\n",
      "2    5420\n",
      "1    2803\n",
      "4    2321\n",
      "3    1237\n",
      "5     425\n",
      "Name: count, dtype: int64\n"
     ]
    },
    {
     "data": {
      "text/plain": "<Axes: xlabel='Labels', ylabel='count'>"
     },
     "execution_count": 7,
     "metadata": {},
     "output_type": "execute_result"
    },
    {
     "data": {
      "text/plain": "<Figure size 640x480 with 1 Axes>",
      "image/png": "[encoded data removed]"
     },
     "metadata": {},
     "output_type": "display_data"
    }
   ],
   "source": [
    "print(final_data['Labels'].value_counts())\n",
    "sns.countplot(data=final_data,x='Labels')"
   ],
   "metadata": {
    "collapsed": false,
    "ExecuteTime": {
     "end_time": "2024-10-09T00:31:31.467865Z",
     "start_time": "2024-10-09T00:31:31.360368Z"
    }
   },
   "id": "43ff7e571996fede",
   "execution_count": 7
  },
  {
   "cell_type": "code",
   "outputs": [
    {
     "data": {
      "text/plain": "Labels\n0    7596\n2    4341\n1    2233\n4    1839\n3    1002\n5     346\nName: count, dtype: int64"
     },
     "execution_count": 8,
     "metadata": {},
     "output_type": "execute_result"
    }
   ],
   "source": [
    "ECG_train = final_data[final_data['strat_fold'].isin([1, 2, 3, 4, 5, 6, 7, 8])].reset_index(drop=True)\n",
    "ECG_val = final_data[final_data['strat_fold'] == 9].reset_index(drop=True)\n",
    "ECG_test = final_data[final_data['strat_fold'] == 10].reset_index(drop=True)\n",
    "\n",
    "ECG_train['Labels'].value_counts()  "
   ],
   "metadata": {
    "collapsed": false,
    "ExecuteTime": {
     "end_time": "2024-10-09T00:31:31.808298Z",
     "start_time": "2024-10-09T00:31:31.794093Z"
    }
   },
   "id": "2913622500285466",
   "execution_count": 8
  },
  {
   "cell_type": "code",
   "outputs": [
    {
     "data": {
      "text/plain": "Labels\n0    7596\n2    4341\n1    2233\n4    1839\n3    1002\nName: count, dtype: int64"
     },
     "execution_count": 9,
     "metadata": {},
     "output_type": "execute_result"
    }
   ],
   "source": [
    "\"\"\" \n",
    "ECG_train = ECG_train[ECG_train['Labels'].isin([0,1])].reset_index(drop=True)\n",
    "ECG_val = ECG_val[ECG_val['Labels'].isin([0,1])].reset_index(drop=True)\n",
    "ECG_test = ECG_test[ECG_test['Labels'].isin([0,1])].reset_index(drop=True)\n",
    "\"\"\"\n",
    "\n",
    "ECG_train = ECG_train[ECG_train['Labels'].isin([0,1,2,3,4])].reset_index(drop=True)\n",
    "ECG_val = ECG_val[ECG_val['Labels'].isin([0,1,2,3,4])].reset_index(drop=True)\n",
    "ECG_test = ECG_test[ECG_test['Labels'].isin([0,1,2,3,4])].reset_index(drop=True)\n",
    "\n",
    "ECG_train['Labels'].value_counts()"
   ],
   "metadata": {
    "collapsed": false,
    "ExecuteTime": {
     "end_time": "2024-10-09T00:31:32.397238Z",
     "start_time": "2024-10-09T00:31:32.386185Z"
    }
   },
   "id": "2284c4a7bee9c218",
   "execution_count": 9
  },
  {
   "cell_type": "code",
   "outputs": [
    {
     "name": "stdout",
     "output_type": "stream",
     "text": [
      "Batch shape: torch.Size([64, 12, 1000])\n"
     ]
    },
    {
     "data": {
      "text/plain": "\"\\nfor i in range(12):\\n    print(f'channel {i}: {torch.min(first_batch[:, i])}, {torch.max(first_batch[:, i])}')\\n\""
     },
     "execution_count": 10,
     "metadata": {},
     "output_type": "execute_result"
    }
   ],
   "source": [
    "from ver4_journal.common.data.ECG_Data import ECG_Data\n",
    "\n",
    "# ECG_train=ECG_train.reset_index()\n",
    "# ECG_test=ECG_test.reset_index()\n",
    "\n",
    "train_dataset = ECG_Data(ECG_train)\n",
    "train_loader = DataLoader(train_dataset,batch_size=64, shuffle=True)\n",
    "\n",
    "val_dataset=ECG_Data(ECG_val)\n",
    "val_loader=DataLoader(val_dataset,batch_size=64, shuffle=True)\n",
    "\n",
    "test_dataset=ECG_Data(ECG_test)\n",
    "test_loader=DataLoader(test_dataset,batch_size=64, shuffle=True)\n",
    "\n",
    "first_batch, label = next(iter(train_loader))\n",
    "\n",
    "print(f\"Batch shape: {first_batch.shape}\")\n",
    "\n",
    "\"\"\"\n",
    "for i in range(12):\n",
    "    print(f'channel {i}: {torch.min(first_batch[:, i])}, {torch.max(first_batch[:, i])}')\n",
    "\"\"\""
   ],
   "metadata": {
    "collapsed": false,
    "ExecuteTime": {
     "end_time": "2024-10-09T00:31:33.022917Z",
     "start_time": "2024-10-09T00:31:32.807969Z"
    }
   },
   "id": "a5d60c2aaa2ce9e6",
   "execution_count": 10
  },
  {
   "cell_type": "code",
   "outputs": [
    {
     "name": "stdout",
     "output_type": "stream",
     "text": [
      "Batch shape: torch.Size([64, 12, 1000])\n"
     ]
    },
    {
     "data": {
      "text/plain": "\"\\nfor i in range(12):\\n    print(f'channel {i}: {torch.min(first_batch[:, i])}, {torch.max(first_batch[:, i])}')\\n\""
     },
     "execution_count": 11,
     "metadata": {},
     "output_type": "execute_result"
    }
   ],
   "source": [
    "from ver4_journal.common.data.ECG_Data import ECG_Data\n",
    "\n",
    "# ECG_train=ECG_train.reset_index()\n",
    "# ECG_test=ECG_test.reset_index()\n",
    "\n",
    "train_dataset = ECG_Data(ECG_train)\n",
    "train_loader = DataLoader(train_dataset,batch_size=64, shuffle=True)\n",
    "\n",
    "val_dataset=ECG_Data(ECG_val)\n",
    "val_loader=DataLoader(val_dataset,batch_size=64, shuffle=True)\n",
    "\n",
    "test_dataset=ECG_Data(ECG_test)\n",
    "test_loader=DataLoader(test_dataset,batch_size=64, shuffle=True)\n",
    "\n",
    "first_batch, label = next(iter(train_loader))\n",
    "\n",
    "print(f\"Batch shape: {first_batch.shape}\")\n",
    "\n",
    "\"\"\"\n",
    "for i in range(12):\n",
    "    print(f'channel {i}: {torch.min(first_batch[:, i])}, {torch.max(first_batch[:, i])}')\n",
    "\"\"\""
   ],
   "metadata": {
    "collapsed": false,
    "ExecuteTime": {
     "end_time": "2024-10-09T00:31:34.607211Z",
     "start_time": "2024-10-09T00:31:34.458546Z"
    }
   },
   "id": "f633fbfee5db1659",
   "execution_count": 11
  },
  {
   "cell_type": "code",
   "outputs": [
    {
     "data": {
      "text/plain": "[<matplotlib.lines.Line2D at 0x11220a1b0>]"
     },
     "execution_count": 12,
     "metadata": {},
     "output_type": "execute_result"
    },
    {
     "data": {
      "text/plain": "<Figure size 1200x300 with 1 Axes>",
      "image/png": "[encoded data removed]"
     },
     "metadata": {},
     "output_type": "display_data"
    }
   ],
   "source": [
    "sample = first_batch[0]\n",
    "plt.figure(figsize=(12,3))\n",
    "plt.axis(False)\n",
    "plt.plot(sample[1,:])"
   ],
   "metadata": {
    "collapsed": false,
    "ExecuteTime": {
     "end_time": "2024-10-09T00:31:35.901294Z",
     "start_time": "2024-10-09T00:31:35.846014Z"
    }
   },
   "id": "b0abbb92905ad303",
   "execution_count": 12
  },
  {
   "cell_type": "code",
   "outputs": [
    {
     "data": {
      "text/plain": "(266, 34, 34)"
     },
     "execution_count": 13,
     "metadata": {},
     "output_type": "execute_result"
    }
   ],
   "source": [
    "len(train_loader), len(val_loader), len(test_loader)"
   ],
   "metadata": {
    "collapsed": false,
    "ExecuteTime": {
     "end_time": "2024-10-09T00:31:37.219781Z",
     "start_time": "2024-10-09T00:31:37.214775Z"
    }
   },
   "id": "d802edc9f2c7822a",
   "execution_count": 13
  }
 ],
 "metadata": {
  "kernelspec": {
   "display_name": "Python 3",
   "language": "python",
   "name": "python3"
  },
  "language_info": {
   "codemirror_mode": {
    "name": "ipython",
    "version": 2
   },
   "file_extension": ".py",
   "mimetype": "text/x-python",
   "name": "python",
   "nbconvert_exporter": "python",
   "pygments_lexer": "ipython2",
   "version": "2.7.6"
  }
 },
 "nbformat": 4,
 "nbformat_minor": 5
}
