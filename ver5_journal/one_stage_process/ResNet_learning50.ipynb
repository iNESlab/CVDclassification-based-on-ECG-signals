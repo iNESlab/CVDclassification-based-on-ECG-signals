{
 "cells": [
  {
   "cell_type": "code",
   "outputs": [],
   "source": [
    "import os\n",
    "\n",
    "import pandas as pd"
   ],
   "metadata": {
    "collapsed": false,
    "ExecuteTime": {
     "end_time": "2024-10-20T06:14:53.536580Z",
     "start_time": "2024-10-20T06:14:53.149557Z"
    }
   },
   "id": "4a2ddd3ff0184e55",
   "execution_count": 1
  },
  {
   "cell_type": "code",
   "outputs": [
    {
     "data": {
      "text/plain": "True"
     },
     "execution_count": 2,
     "metadata": {},
     "output_type": "execute_result"
    }
   ],
   "source": [
    "from dotenv import load_dotenv\n",
    "\n",
    "# 현재 작업 디렉토리 가져오기\n",
    "current_dir = os.getcwd()  # 현재 Jupyter Notebook의 작업 디렉토\n",
    "env_path = os.path.join(current_dir, '../.env')\n",
    "\n",
    "# .env 파일 로드\n",
    "load_dotenv(env_path)"
   ],
   "metadata": {
    "collapsed": false,
    "ExecuteTime": {
     "end_time": "2024-10-20T06:14:53.549880Z",
     "start_time": "2024-10-20T06:14:53.537912Z"
    }
   },
   "id": "8bd25b100b584a0c",
   "execution_count": 2
  },
  {
   "cell_type": "code",
   "outputs": [
    {
     "data": {
      "text/plain": "   ecg_id  patient_id   age  sex  height  weight  nurse  site     device  \\\n0       1     15709.0  56.0    1     NaN    63.0    2.0   0.0  CS-12   E   \n1       2     13243.0  19.0    0     NaN    70.0    2.0   0.0  CS-12   E   \n2       3     20372.0  37.0    1     NaN    69.0    2.0   0.0  CS-12   E   \n3       4     17014.0  24.0    0     NaN    82.0    2.0   0.0  CS-12   E   \n4       5     17448.0  19.0    1     NaN    70.0    2.0   0.0  CS-12   E   \n\n        recording_date  ... validated_by_human  baseline_drift static_noise  \\\n0  1984-11-09 09:17:34  ...               True             NaN    , I-V1,     \n1  1984-11-14 12:55:37  ...               True             NaN          NaN   \n2  1984-11-15 12:49:10  ...               True             NaN          NaN   \n3  1984-11-15 13:44:57  ...               True    , II,III,AVF          NaN   \n4  1984-11-17 10:43:15  ...               True   , III,AVR,AVF          NaN   \n\n  burst_noise electrodes_problems  extra_beats  pacemaker  strat_fold  \\\n0         NaN                 NaN          NaN        NaN           3   \n1         NaN                 NaN          NaN        NaN           2   \n2         NaN                 NaN          NaN        NaN           5   \n3         NaN                 NaN          NaN        NaN           3   \n4         NaN                 NaN          NaN        NaN           4   \n\n                 filename_lr                filename_hr  \n0  records100/00000/00001_lr  records500/00000/00001_hr  \n1  records100/00000/00002_lr  records500/00000/00002_hr  \n2  records100/00000/00003_lr  records500/00000/00003_hr  \n3  records100/00000/00004_lr  records500/00000/00004_hr  \n4  records100/00000/00005_lr  records500/00000/00005_hr  \n\n[5 rows x 28 columns]",
      "text/html": "<div>\n<style scoped>\n    .dataframe tbody tr th:only-of-type {\n        vertical-align: middle;\n    }\n\n    .dataframe tbody tr th {\n        vertical-align: top;\n    }\n\n    .dataframe thead th {\n        text-align: right;\n    }\n</style>\n<table border=\"1\" class=\"dataframe\">\n  <thead>\n    <tr style=\"text-align: right;\">\n      <th></th>\n      <th>ecg_id</th>\n      <th>patient_id</th>\n      <th>age</th>\n      <th>sex</th>\n      <th>height</th>\n      <th>weight</th>\n      <th>nurse</th>\n      <th>site</th>\n      <th>device</th>\n      <th>recording_date</th>\n      <th>...</th>\n      <th>validated_by_human</th>\n      <th>baseline_drift</th>\n      <th>static_noise</th>\n      <th>burst_noise</th>\n      <th>electrodes_problems</th>\n      <th>extra_beats</th>\n      <th>pacemaker</th>\n      <th>strat_fold</th>\n      <th>filename_lr</th>\n      <th>filename_hr</th>\n    </tr>\n  </thead>\n  <tbody>\n    <tr>\n      <th>0</th>\n      <td>1</td>\n      <td>15709.0</td>\n      <td>56.0</td>\n      <td>1</td>\n      <td>NaN</td>\n      <td>63.0</td>\n      <td>2.0</td>\n      <td>0.0</td>\n      <td>CS-12   E</td>\n      <td>1984-11-09 09:17:34</td>\n      <td>...</td>\n      <td>True</td>\n      <td>NaN</td>\n      <td>, I-V1,</td>\n      <td>NaN</td>\n      <td>NaN</td>\n      <td>NaN</td>\n      <td>NaN</td>\n      <td>3</td>\n      <td>records100/00000/00001_lr</td>\n      <td>records500/00000/00001_hr</td>\n    </tr>\n    <tr>\n      <th>1</th>\n      <td>2</td>\n      <td>13243.0</td>\n      <td>19.0</td>\n      <td>0</td>\n      <td>NaN</td>\n      <td>70.0</td>\n      <td>2.0</td>\n      <td>0.0</td>\n      <td>CS-12   E</td>\n      <td>1984-11-14 12:55:37</td>\n      <td>...</td>\n      <td>True</td>\n      <td>NaN</td>\n      <td>NaN</td>\n      <td>NaN</td>\n      <td>NaN</td>\n      <td>NaN</td>\n      <td>NaN</td>\n      <td>2</td>\n      <td>records100/00000/00002_lr</td>\n      <td>records500/00000/00002_hr</td>\n    </tr>\n    <tr>\n      <th>2</th>\n      <td>3</td>\n      <td>20372.0</td>\n      <td>37.0</td>\n      <td>1</td>\n      <td>NaN</td>\n      <td>69.0</td>\n      <td>2.0</td>\n      <td>0.0</td>\n      <td>CS-12   E</td>\n      <td>1984-11-15 12:49:10</td>\n      <td>...</td>\n      <td>True</td>\n      <td>NaN</td>\n      <td>NaN</td>\n      <td>NaN</td>\n      <td>NaN</td>\n      <td>NaN</td>\n      <td>NaN</td>\n      <td>5</td>\n      <td>records100/00000/00003_lr</td>\n      <td>records500/00000/00003_hr</td>\n    </tr>\n    <tr>\n      <th>3</th>\n      <td>4</td>\n      <td>17014.0</td>\n      <td>24.0</td>\n      <td>0</td>\n      <td>NaN</td>\n      <td>82.0</td>\n      <td>2.0</td>\n      <td>0.0</td>\n      <td>CS-12   E</td>\n      <td>1984-11-15 13:44:57</td>\n      <td>...</td>\n      <td>True</td>\n      <td>, II,III,AVF</td>\n      <td>NaN</td>\n      <td>NaN</td>\n      <td>NaN</td>\n      <td>NaN</td>\n      <td>NaN</td>\n      <td>3</td>\n      <td>records100/00000/00004_lr</td>\n      <td>records500/00000/00004_hr</td>\n    </tr>\n    <tr>\n      <th>4</th>\n      <td>5</td>\n      <td>17448.0</td>\n      <td>19.0</td>\n      <td>1</td>\n      <td>NaN</td>\n      <td>70.0</td>\n      <td>2.0</td>\n      <td>0.0</td>\n      <td>CS-12   E</td>\n      <td>1984-11-17 10:43:15</td>\n      <td>...</td>\n      <td>True</td>\n      <td>, III,AVR,AVF</td>\n      <td>NaN</td>\n      <td>NaN</td>\n      <td>NaN</td>\n      <td>NaN</td>\n      <td>NaN</td>\n      <td>4</td>\n      <td>records100/00000/00005_lr</td>\n      <td>records500/00000/00005_hr</td>\n    </tr>\n  </tbody>\n</table>\n<p>5 rows × 28 columns</p>\n</div>"
     },
     "execution_count": 3,
     "metadata": {},
     "output_type": "execute_result"
    }
   ],
   "source": [
    "db_path=os.getenv(\"DATA_PATH\")\n",
    "\n",
    "ecg_data=pd.read_csv(f'{db_path}/ptbxl_database.csv')\n",
    "ecg_data.head()"
   ],
   "metadata": {
    "collapsed": false,
    "ExecuteTime": {
     "end_time": "2024-10-20T06:14:54.022826Z",
     "start_time": "2024-10-20T06:14:53.876733Z"
    }
   },
   "id": "41d7712d02c12fdc",
   "execution_count": 3
  },
  {
   "cell_type": "markdown",
   "source": [
    "## ResNet 훈련"
   ],
   "metadata": {
    "collapsed": false
   },
   "id": "92dc6ab07ba70006"
  },
  {
   "cell_type": "code",
   "outputs": [],
   "source": [
    "import torch\n",
    "import torch.nn as nn\n",
    "from torchvision import models\n",
    "\n",
    "# ResNet 모델을 불러오고 사전 학습된 가중치를 사용하지 않음\n",
    "model = models.resnet50(weights=None)\n",
    "\n",
    "# 첫 번째 Conv 레이어를 수정 (in_channels=1)\n",
    "model.conv1 = nn.Conv2d(in_channels=1, out_channels=64, kernel_size=(7, 7), stride=(2, 2), padding=(3, 3), bias=False)\n",
    "\n",
    "# Multi-label classification을 위해 마지막 레이어를 수정\n",
    "model.fc = nn.Linear(model.fc.in_features, 5) "
   ],
   "metadata": {
    "collapsed": false,
    "ExecuteTime": {
     "end_time": "2024-10-20T06:14:59.215291Z",
     "start_time": "2024-10-20T06:14:54.965849Z"
    }
   },
   "id": "4fb98c0cd588c53b",
   "execution_count": 4
  },
  {
   "cell_type": "code",
   "outputs": [],
   "source": [
    "from sklearn.metrics import roc_auc_score\n",
    "import numpy as np\n",
    "\n",
    "device = torch.device(\"mps\" if torch.backends.mps.is_available() else \"cpu\")\n",
    "model = model.to(device)\n",
    "\n",
    "optimizer = torch.optim.Adam(model.parameters(), lr=1e-3)\n",
    "loss_fn = nn.BCEWithLogitsLoss()\n",
    "\n",
    "best_macro_auc = -np.inf  # macro AUC 최댓값 추적\n",
    "model_path = \"../common/one_stage_models/resnet_models.pth\"  # 모델 저장 경로\n",
    "\n",
    "def train_one_epoch(train_loader):\n",
    "    model.train()\n",
    "    total_loss = 0\n",
    "\n",
    "    for data, labels in train_loader:\n",
    "        data, labels = data.to(device), labels.to(device)\n",
    "        data = data.unsqueeze(1)  # 3D 데이터를 4D로 변환 (batch_size, 1, sequence_length, features)\n",
    "        \n",
    "        # Forward\n",
    "        outputs = model(data)\n",
    "        loss = loss_fn(outputs, labels)\n",
    "        \n",
    "        # Backward\n",
    "        optimizer.zero_grad()\n",
    "        loss.backward()\n",
    "        optimizer.step()\n",
    "        \n",
    "        total_loss += loss.item()\n",
    "    \n",
    "    return total_loss / len(train_loader)\n",
    "\n",
    "def validate(val_loader):\n",
    "    model.eval()\n",
    "    y_true = []\n",
    "    y_pred = []\n",
    "    \n",
    "    with torch.no_grad():\n",
    "        for data, labels in val_loader:\n",
    "            data, labels = data.to(device), labels.to(device)\n",
    "            data = data.unsqueeze(1)  # 3D 데이터를 4D로 변환 (batch_size, 1, sequence_length, features)\n",
    "\n",
    "            outputs = model(data)\n",
    "            \n",
    "            # Sigmoid 후 임계값을 넘으면 1, 아니면 0으로 예측\n",
    "            preds = torch.sigmoid(outputs).cpu().numpy()\n",
    "            y_pred.append(preds)\n",
    "            y_true.append(labels.cpu().numpy())\n",
    "    \n",
    "    y_true = np.vstack(y_true)\n",
    "    y_pred = np.vstack(y_pred)\n",
    "    \n",
    "    # 각 클래스별 AUC 계산 후 macro AUC 계산\n",
    "    auc_per_class = []\n",
    "    for i in range(y_true.shape[1]):  # 클래스마다 AUC 계산\n",
    "        auc_per_class.append(roc_auc_score(y_true[:, i], y_pred[:, i]))\n",
    "    macro_auc = np.mean(auc_per_class)  # macro AUC 계산\n",
    "    \n",
    "    return macro_auc"
   ],
   "metadata": {
    "collapsed": false,
    "ExecuteTime": {
     "end_time": "2024-10-20T06:15:00.112579Z",
     "start_time": "2024-10-20T06:14:59.218895Z"
    }
   },
   "id": "4276524b2ac064ff",
   "execution_count": 5
  },
  {
   "cell_type": "code",
   "outputs": [
    {
     "name": "stdout",
     "output_type": "stream",
     "text": [
      "Epoch 1/100, Train Loss: 0.3858, Val Macro AUC: 0.8716\n",
      "Best model saved with Macro AUC: 0.8716\n",
      "Epoch 2/100, Train Loss: 0.3185, Val Macro AUC: 0.8281\n",
      "Epoch 3/100, Train Loss: 0.2958, Val Macro AUC: 0.9072\n",
      "Best model saved with Macro AUC: 0.9072\n",
      "Epoch 4/100, Train Loss: 0.2815, Val Macro AUC: 0.9130\n",
      "Best model saved with Macro AUC: 0.9130\n",
      "Epoch 5/100, Train Loss: 0.2697, Val Macro AUC: 0.8999\n",
      "Epoch 6/100, Train Loss: 0.2648, Val Macro AUC: 0.9194\n",
      "Best model saved with Macro AUC: 0.9194\n",
      "Epoch 7/100, Train Loss: 0.2602, Val Macro AUC: 0.9169\n",
      "Epoch 8/100, Train Loss: 0.2511, Val Macro AUC: 0.9274\n",
      "Best model saved with Macro AUC: 0.9274\n",
      "Epoch 9/100, Train Loss: 0.2442, Val Macro AUC: 0.9200\n",
      "Epoch 10/100, Train Loss: 0.2379, Val Macro AUC: 0.9234\n",
      "Epoch 11/100, Train Loss: 0.2342, Val Macro AUC: 0.9282\n",
      "Best model saved with Macro AUC: 0.9282\n",
      "Epoch 12/100, Train Loss: 0.2290, Val Macro AUC: 0.9246\n",
      "Epoch 13/100, Train Loss: 0.2233, Val Macro AUC: 0.9274\n",
      "Epoch 14/100, Train Loss: 0.2202, Val Macro AUC: 0.9191\n",
      "Epoch 15/100, Train Loss: 0.2119, Val Macro AUC: 0.9199\n",
      "Epoch 16/100, Train Loss: 0.2045, Val Macro AUC: 0.9232\n",
      "Epoch 17/100, Train Loss: 0.1972, Val Macro AUC: 0.9214\n",
      "Epoch 18/100, Train Loss: 0.1884, Val Macro AUC: 0.9229\n",
      "Epoch 19/100, Train Loss: 0.1820, Val Macro AUC: 0.9149\n",
      "Epoch 20/100, Train Loss: 0.1779, Val Macro AUC: 0.9065\n",
      "Epoch 21/100, Train Loss: 0.1643, Val Macro AUC: 0.9149\n",
      "Epoch 22/100, Train Loss: 0.1513, Val Macro AUC: 0.9125\n",
      "Epoch 23/100, Train Loss: 0.1382, Val Macro AUC: 0.9127\n",
      "Epoch 24/100, Train Loss: 0.1262, Val Macro AUC: 0.9168\n",
      "Epoch 25/100, Train Loss: 0.1174, Val Macro AUC: 0.9072\n",
      "Epoch 26/100, Train Loss: 0.1043, Val Macro AUC: 0.9083\n",
      "Epoch 27/100, Train Loss: 0.0971, Val Macro AUC: 0.9037\n",
      "Epoch 28/100, Train Loss: 0.0881, Val Macro AUC: 0.9009\n",
      "Epoch 29/100, Train Loss: 0.0786, Val Macro AUC: 0.9008\n",
      "Epoch 30/100, Train Loss: 0.0707, Val Macro AUC: 0.9042\n",
      "Epoch 31/100, Train Loss: 0.0640, Val Macro AUC: 0.9076\n",
      "Epoch 32/100, Train Loss: 0.0609, Val Macro AUC: 0.9006\n",
      "Epoch 33/100, Train Loss: 0.0595, Val Macro AUC: 0.9054\n",
      "Epoch 34/100, Train Loss: 0.0497, Val Macro AUC: 0.9065\n",
      "Epoch 35/100, Train Loss: 0.0469, Val Macro AUC: 0.9014\n",
      "Epoch 36/100, Train Loss: 0.0456, Val Macro AUC: 0.9039\n",
      "Epoch 37/100, Train Loss: 0.0450, Val Macro AUC: 0.9065\n",
      "Epoch 38/100, Train Loss: 0.0401, Val Macro AUC: 0.9040\n",
      "Epoch 39/100, Train Loss: 0.0394, Val Macro AUC: 0.9060\n",
      "Epoch 40/100, Train Loss: 0.0393, Val Macro AUC: 0.9077\n",
      "Epoch 41/100, Train Loss: 0.0345, Val Macro AUC: 0.9025\n",
      "Epoch 42/100, Train Loss: 0.0349, Val Macro AUC: 0.9033\n",
      "Epoch 43/100, Train Loss: 0.0385, Val Macro AUC: 0.9036\n",
      "Epoch 44/100, Train Loss: 0.0315, Val Macro AUC: 0.9032\n",
      "Epoch 45/100, Train Loss: 0.0271, Val Macro AUC: 0.9017\n",
      "Epoch 46/100, Train Loss: 0.0343, Val Macro AUC: 0.9020\n",
      "Epoch 47/100, Train Loss: 0.0277, Val Macro AUC: 0.8945\n",
      "Epoch 48/100, Train Loss: 0.0306, Val Macro AUC: 0.9007\n",
      "Epoch 49/100, Train Loss: 0.0323, Val Macro AUC: 0.9040\n",
      "Epoch 50/100, Train Loss: 0.0231, Val Macro AUC: 0.9045\n",
      "Epoch 51/100, Train Loss: 0.0237, Val Macro AUC: 0.9034\n",
      "Epoch 52/100, Train Loss: 0.0259, Val Macro AUC: 0.9053\n",
      "Epoch 53/100, Train Loss: 0.0265, Val Macro AUC: 0.9099\n",
      "Epoch 54/100, Train Loss: 0.0308, Val Macro AUC: 0.9007\n",
      "Epoch 55/100, Train Loss: 0.0252, Val Macro AUC: 0.9051\n",
      "Epoch 56/100, Train Loss: 0.0202, Val Macro AUC: 0.9044\n",
      "Epoch 57/100, Train Loss: 0.0322, Val Macro AUC: 0.9004\n",
      "Epoch 58/100, Train Loss: 0.0287, Val Macro AUC: 0.9067\n",
      "Epoch 59/100, Train Loss: 0.0157, Val Macro AUC: 0.9061\n",
      "Epoch 60/100, Train Loss: 0.0158, Val Macro AUC: 0.9015\n",
      "Epoch 61/100, Train Loss: 0.0202, Val Macro AUC: 0.8994\n",
      "Epoch 62/100, Train Loss: 0.0242, Val Macro AUC: 0.9040\n",
      "Epoch 63/100, Train Loss: 0.0163, Val Macro AUC: 0.9024\n",
      "Epoch 64/100, Train Loss: 0.0235, Val Macro AUC: 0.8959\n",
      "Epoch 65/100, Train Loss: 0.0218, Val Macro AUC: 0.8940\n",
      "Epoch 66/100, Train Loss: 0.0200, Val Macro AUC: 0.9018\n",
      "Epoch 67/100, Train Loss: 0.0168, Val Macro AUC: 0.9045\n",
      "Epoch 68/100, Train Loss: 0.0193, Val Macro AUC: 0.9039\n",
      "Epoch 69/100, Train Loss: 0.0216, Val Macro AUC: 0.9027\n",
      "Epoch 70/100, Train Loss: 0.0167, Val Macro AUC: 0.8974\n",
      "Epoch 71/100, Train Loss: 0.0159, Val Macro AUC: 0.9052\n",
      "Epoch 72/100, Train Loss: 0.0114, Val Macro AUC: 0.8979\n",
      "Epoch 73/100, Train Loss: 0.0226, Val Macro AUC: 0.9022\n",
      "Epoch 74/100, Train Loss: 0.0160, Val Macro AUC: 0.8995\n",
      "Epoch 75/100, Train Loss: 0.0134, Val Macro AUC: 0.8992\n",
      "Epoch 76/100, Train Loss: 0.0202, Val Macro AUC: 0.9063\n",
      "Epoch 77/100, Train Loss: 0.0179, Val Macro AUC: 0.9058\n",
      "Epoch 78/100, Train Loss: 0.0117, Val Macro AUC: 0.8996\n",
      "Epoch 79/100, Train Loss: 0.0165, Val Macro AUC: 0.9038\n",
      "Epoch 80/100, Train Loss: 0.0143, Val Macro AUC: 0.9052\n",
      "Epoch 81/100, Train Loss: 0.0162, Val Macro AUC: 0.8965\n",
      "Epoch 82/100, Train Loss: 0.0162, Val Macro AUC: 0.8983\n",
      "Epoch 83/100, Train Loss: 0.0139, Val Macro AUC: 0.9009\n",
      "Epoch 84/100, Train Loss: 0.0131, Val Macro AUC: 0.9021\n",
      "Epoch 85/100, Train Loss: 0.0140, Val Macro AUC: 0.9037\n",
      "Epoch 86/100, Train Loss: 0.0122, Val Macro AUC: 0.8996\n",
      "Epoch 87/100, Train Loss: 0.0144, Val Macro AUC: 0.9033\n",
      "Epoch 88/100, Train Loss: 0.0148, Val Macro AUC: 0.8970\n",
      "Epoch 89/100, Train Loss: 0.0127, Val Macro AUC: 0.8979\n",
      "Epoch 90/100, Train Loss: 0.0111, Val Macro AUC: 0.9034\n",
      "Epoch 91/100, Train Loss: 0.0179, Val Macro AUC: 0.9037\n",
      "Epoch 92/100, Train Loss: 0.0145, Val Macro AUC: 0.9019\n",
      "Epoch 93/100, Train Loss: 0.0094, Val Macro AUC: 0.9028\n",
      "Epoch 94/100, Train Loss: 0.0109, Val Macro AUC: 0.8985\n",
      "Epoch 95/100, Train Loss: 0.0138, Val Macro AUC: 0.9009\n",
      "Epoch 96/100, Train Loss: 0.0100, Val Macro AUC: 0.9021\n",
      "Epoch 97/100, Train Loss: 0.0123, Val Macro AUC: 0.9056\n",
      "Epoch 98/100, Train Loss: 0.0122, Val Macro AUC: 0.9020\n",
      "Epoch 99/100, Train Loss: 0.0123, Val Macro AUC: 0.9024\n",
      "Epoch 100/100, Train Loss: 0.0134, Val Macro AUC: 0.8965\n"
     ]
    },
    {
     "data": {
      "text/plain": "<Figure size 640x480 with 1 Axes>",
      "image/png": "[encoded data removed]"
     },
     "metadata": {},
     "output_type": "display_data"
    }
   ],
   "source": [
    "from ver5_journal.common.data.create_final_data import create_final_data\n",
    "from ver5_journal.common.data.ECG_Data import ECG_Data\n",
    "from torch.utils.data import DataLoader\n",
    "\n",
    "# 데이터 로더 준비\n",
    "label_columns = ['NORM', 'MI', 'STTC', 'CD', 'HYP']\n",
    "num_epochs = 100\n",
    "\n",
    "# train/val/test 분리\n",
    "final_data = create_final_data()\n",
    "ECG_train = final_data[final_data['strat_fold'].isin([1, 2, 3, 4, 5, 6, 7, 8])].reset_index(drop=True)\n",
    "ECG_val = final_data[final_data['strat_fold'] == 9].reset_index(drop=True)\n",
    "# ECG_test = final_data[final_data['strat_fold'] == 10].reset_index(drop=True)\n",
    "\n",
    "train_dataset = ECG_Data(ECG_train)\n",
    "train_loader = DataLoader(train_dataset, batch_size=32, shuffle=True)\n",
    "\n",
    "val_dataset = ECG_Data(ECG_val)\n",
    "val_loader = DataLoader(val_dataset, batch_size=32, shuffle=True)\n",
    "\n",
    "# 모델 정의 및 학습\n",
    "device = torch.device(\"mps\" if torch.backends.mps.is_available() else \"cpu\")\n",
    "# 학습 루프\n",
    "for epoch in range(num_epochs):\n",
    "    train_loss = train_one_epoch(train_loader)\n",
    "    macro_auc = validate(val_loader)\n",
    "    \n",
    "    print(f\"Epoch {epoch+1}/{num_epochs}, Train Loss: {train_loss:.4f}, Val Macro AUC: {macro_auc:.4f}\")\n",
    "    \n",
    "    # Macro AUC가 최고일 때 모델 저장\n",
    "    if macro_auc > best_macro_auc:\n",
    "        best_macro_auc = macro_auc\n",
    "        torch.save(model.state_dict(), model_path)\n",
    "        print(f\"Best model saved with Macro AUC: {best_macro_auc:.4f}\")\n"
   ],
   "metadata": {
    "collapsed": false,
    "ExecuteTime": {
     "end_time": "2024-10-20T21:08:00.396244Z",
     "start_time": "2024-10-20T06:15:00.114007Z"
    }
   },
   "id": "15399908fc0b06a7",
   "execution_count": 6
  }
 ],
 "metadata": {
  "kernelspec": {
   "display_name": "Python 3",
   "language": "python",
   "name": "python3"
  },
  "language_info": {
   "codemirror_mode": {
    "name": "ipython",
    "version": 2
   },
   "file_extension": ".py",
   "mimetype": "text/x-python",
   "name": "python",
   "nbconvert_exporter": "python",
   "pygments_lexer": "ipython2",
   "version": "2.7.6"
  }
 },
 "nbformat": 4,
 "nbformat_minor": 5
}
