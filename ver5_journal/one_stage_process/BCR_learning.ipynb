{
 "cells": [
  {
   "cell_type": "code",
   "outputs": [],
   "source": [
    "import os\n",
    "\n",
    "import pandas as pd\n",
    "import torch"
   ],
   "metadata": {
    "collapsed": false,
    "ExecuteTime": {
     "end_time": "2024-10-19T03:36:30.701497Z",
     "start_time": "2024-10-19T03:36:29.510353Z"
    }
   },
   "id": "4a2ddd3ff0184e55",
   "execution_count": 1
  },
  {
   "cell_type": "code",
   "outputs": [
    {
     "data": {
      "text/plain": "True"
     },
     "execution_count": 2,
     "metadata": {},
     "output_type": "execute_result"
    }
   ],
   "source": [
    "from dotenv import load_dotenv\n",
    "\n",
    "# 현재 작업 디렉토리 가져오기\n",
    "current_dir = os.getcwd()  # 현재 Jupyter Notebook의 작업 디렉토\n",
    "env_path = os.path.join(current_dir, '../.env')\n",
    "\n",
    "# .env 파일 로드\n",
    "load_dotenv(env_path)"
   ],
   "metadata": {
    "collapsed": false,
    "ExecuteTime": {
     "end_time": "2024-10-19T03:36:30.714092Z",
     "start_time": "2024-10-19T03:36:30.703598Z"
    }
   },
   "id": "8bd25b100b584a0c",
   "execution_count": 2
  },
  {
   "cell_type": "code",
   "outputs": [
    {
     "data": {
      "text/plain": "   ecg_id  patient_id   age  sex  height  weight  nurse  site     device  \\\n0       1     15709.0  56.0    1     NaN    63.0    2.0   0.0  CS-12   E   \n1       2     13243.0  19.0    0     NaN    70.0    2.0   0.0  CS-12   E   \n2       3     20372.0  37.0    1     NaN    69.0    2.0   0.0  CS-12   E   \n3       4     17014.0  24.0    0     NaN    82.0    2.0   0.0  CS-12   E   \n4       5     17448.0  19.0    1     NaN    70.0    2.0   0.0  CS-12   E   \n\n        recording_date  ... validated_by_human  baseline_drift static_noise  \\\n0  1984-11-09 09:17:34  ...               True             NaN    , I-V1,     \n1  1984-11-14 12:55:37  ...               True             NaN          NaN   \n2  1984-11-15 12:49:10  ...               True             NaN          NaN   \n3  1984-11-15 13:44:57  ...               True    , II,III,AVF          NaN   \n4  1984-11-17 10:43:15  ...               True   , III,AVR,AVF          NaN   \n\n  burst_noise electrodes_problems  extra_beats  pacemaker  strat_fold  \\\n0         NaN                 NaN          NaN        NaN           3   \n1         NaN                 NaN          NaN        NaN           2   \n2         NaN                 NaN          NaN        NaN           5   \n3         NaN                 NaN          NaN        NaN           3   \n4         NaN                 NaN          NaN        NaN           4   \n\n                 filename_lr                filename_hr  \n0  records100/00000/00001_lr  records500/00000/00001_hr  \n1  records100/00000/00002_lr  records500/00000/00002_hr  \n2  records100/00000/00003_lr  records500/00000/00003_hr  \n3  records100/00000/00004_lr  records500/00000/00004_hr  \n4  records100/00000/00005_lr  records500/00000/00005_hr  \n\n[5 rows x 28 columns]",
      "text/html": "<div>\n<style scoped>\n    .dataframe tbody tr th:only-of-type {\n        vertical-align: middle;\n    }\n\n    .dataframe tbody tr th {\n        vertical-align: top;\n    }\n\n    .dataframe thead th {\n        text-align: right;\n    }\n</style>\n<table border=\"1\" class=\"dataframe\">\n  <thead>\n    <tr style=\"text-align: right;\">\n      <th></th>\n      <th>ecg_id</th>\n      <th>patient_id</th>\n      <th>age</th>\n      <th>sex</th>\n      <th>height</th>\n      <th>weight</th>\n      <th>nurse</th>\n      <th>site</th>\n      <th>device</th>\n      <th>recording_date</th>\n      <th>...</th>\n      <th>validated_by_human</th>\n      <th>baseline_drift</th>\n      <th>static_noise</th>\n      <th>burst_noise</th>\n      <th>electrodes_problems</th>\n      <th>extra_beats</th>\n      <th>pacemaker</th>\n      <th>strat_fold</th>\n      <th>filename_lr</th>\n      <th>filename_hr</th>\n    </tr>\n  </thead>\n  <tbody>\n    <tr>\n      <th>0</th>\n      <td>1</td>\n      <td>15709.0</td>\n      <td>56.0</td>\n      <td>1</td>\n      <td>NaN</td>\n      <td>63.0</td>\n      <td>2.0</td>\n      <td>0.0</td>\n      <td>CS-12   E</td>\n      <td>1984-11-09 09:17:34</td>\n      <td>...</td>\n      <td>True</td>\n      <td>NaN</td>\n      <td>, I-V1,</td>\n      <td>NaN</td>\n      <td>NaN</td>\n      <td>NaN</td>\n      <td>NaN</td>\n      <td>3</td>\n      <td>records100/00000/00001_lr</td>\n      <td>records500/00000/00001_hr</td>\n    </tr>\n    <tr>\n      <th>1</th>\n      <td>2</td>\n      <td>13243.0</td>\n      <td>19.0</td>\n      <td>0</td>\n      <td>NaN</td>\n      <td>70.0</td>\n      <td>2.0</td>\n      <td>0.0</td>\n      <td>CS-12   E</td>\n      <td>1984-11-14 12:55:37</td>\n      <td>...</td>\n      <td>True</td>\n      <td>NaN</td>\n      <td>NaN</td>\n      <td>NaN</td>\n      <td>NaN</td>\n      <td>NaN</td>\n      <td>NaN</td>\n      <td>2</td>\n      <td>records100/00000/00002_lr</td>\n      <td>records500/00000/00002_hr</td>\n    </tr>\n    <tr>\n      <th>2</th>\n      <td>3</td>\n      <td>20372.0</td>\n      <td>37.0</td>\n      <td>1</td>\n      <td>NaN</td>\n      <td>69.0</td>\n      <td>2.0</td>\n      <td>0.0</td>\n      <td>CS-12   E</td>\n      <td>1984-11-15 12:49:10</td>\n      <td>...</td>\n      <td>True</td>\n      <td>NaN</td>\n      <td>NaN</td>\n      <td>NaN</td>\n      <td>NaN</td>\n      <td>NaN</td>\n      <td>NaN</td>\n      <td>5</td>\n      <td>records100/00000/00003_lr</td>\n      <td>records500/00000/00003_hr</td>\n    </tr>\n    <tr>\n      <th>3</th>\n      <td>4</td>\n      <td>17014.0</td>\n      <td>24.0</td>\n      <td>0</td>\n      <td>NaN</td>\n      <td>82.0</td>\n      <td>2.0</td>\n      <td>0.0</td>\n      <td>CS-12   E</td>\n      <td>1984-11-15 13:44:57</td>\n      <td>...</td>\n      <td>True</td>\n      <td>, II,III,AVF</td>\n      <td>NaN</td>\n      <td>NaN</td>\n      <td>NaN</td>\n      <td>NaN</td>\n      <td>NaN</td>\n      <td>3</td>\n      <td>records100/00000/00004_lr</td>\n      <td>records500/00000/00004_hr</td>\n    </tr>\n    <tr>\n      <th>4</th>\n      <td>5</td>\n      <td>17448.0</td>\n      <td>19.0</td>\n      <td>1</td>\n      <td>NaN</td>\n      <td>70.0</td>\n      <td>2.0</td>\n      <td>0.0</td>\n      <td>CS-12   E</td>\n      <td>1984-11-17 10:43:15</td>\n      <td>...</td>\n      <td>True</td>\n      <td>, III,AVR,AVF</td>\n      <td>NaN</td>\n      <td>NaN</td>\n      <td>NaN</td>\n      <td>NaN</td>\n      <td>NaN</td>\n      <td>4</td>\n      <td>records100/00000/00005_lr</td>\n      <td>records500/00000/00005_hr</td>\n    </tr>\n  </tbody>\n</table>\n<p>5 rows × 28 columns</p>\n</div>"
     },
     "execution_count": 3,
     "metadata": {},
     "output_type": "execute_result"
    }
   ],
   "source": [
    "db_path=os.getenv(\"DATA_PATH\")\n",
    "ecg_data=pd.read_csv(f'{db_path}/ptbxl_database.csv')\n",
    "ecg_data.head()"
   ],
   "metadata": {
    "collapsed": false,
    "ExecuteTime": {
     "end_time": "2024-10-19T03:36:30.821461Z",
     "start_time": "2024-10-19T03:36:30.714867Z"
    }
   },
   "id": "41d7712d02c12fdc",
   "execution_count": 3
  },
  {
   "cell_type": "markdown",
   "source": [
    "## 모델 및 하이퍼파라미터 준비\n",
    "BCResNet의 cnn_first의 stride나 다른 conv의 stride에 따라 입력 또는 출력의 크기가 달라짐.\n",
    "이는 조절해가면서 실험필요"
   ],
   "metadata": {
    "collapsed": false
   },
   "id": "92dc6ab07ba70006"
  },
  {
   "cell_type": "code",
   "outputs": [
    {
     "name": "stdout",
     "output_type": "stream",
     "text": [
      "torch.Size([1, 12, 1000])\n"
     ]
    },
    {
     "data": {
      "text/plain": "torch.Size([1, 5])"
     },
     "execution_count": 4,
     "metadata": {},
     "output_type": "execute_result"
    }
   ],
   "source": [
    "from ver5_journal.common.BCRnetwork.BCResNets import BCResNets\n",
    "\n",
    "tau = 1\n",
    "in_channel = 12\n",
    "model = BCResNets(int(tau * 8), 5, in_channel)\n",
    "\n",
    "if in_channel == 1:\n",
    "    sample = torch.randn(1,12,1000)\n",
    "else:\n",
    "    sample = torch.randn(1,12,1000)\n",
    "    #sample = torch.randn(1,12,20,48)\n",
    "\n",
    "print(sample.shape)\n",
    "pred = model(sample)\n",
    "pred.shape"
   ],
   "metadata": {
    "collapsed": false,
    "ExecuteTime": {
     "end_time": "2024-10-19T03:36:30.858153Z",
     "start_time": "2024-10-19T03:36:30.822512Z"
    }
   },
   "id": "8060e95182a8bfb7",
   "execution_count": 4
  },
  {
   "cell_type": "code",
   "outputs": [
    {
     "data": {
      "text/plain": "<Figure size 640x480 with 1 Axes>",
      "image/png": "[encoded data removed]"
     },
     "metadata": {},
     "output_type": "display_data"
    }
   ],
   "source": [
    "from ver5_journal.common.data.create_final_data import create_final_data\n",
    "from ver5_journal.common.data.ECG_Data import ECG_Data\n",
    "from sklearn.metrics import roc_auc_score, accuracy_score\n",
    "import torch\n",
    "from torch.utils.data import DataLoader\n",
    "import numpy as np\n",
    "\n",
    "# 레이블 순서 : 데이터가 많은 순\n",
    "label_columns = ['NORM', 'MI', 'STTC', 'CD', 'HYP']\n",
    "num_epochs = 100\n",
    "\n",
    "# train/val/test 분리\n",
    "final_data = create_final_data()\n",
    "ECG_train = final_data[final_data['strat_fold'].isin([1, 2, 3, 4, 5, 6, 7, 8])].reset_index(drop=True)\n",
    "ECG_val = final_data[final_data['strat_fold'] == 9].reset_index(drop=True)\n",
    "ECG_test = final_data[final_data['strat_fold'] == 10].reset_index(drop=True)\n",
    "\n",
    "# Training 함수 정의\n",
    "def train_one_epoch(model, train_loader, optimizer, loss_fn, device):\n",
    "    model.train()\n",
    "    train_loss = 0\n",
    "    y_true = []\n",
    "    y_pred = []\n",
    "\n",
    "    for data, label in train_loader:\n",
    "        data, label = data.to(device), label.to(device)\n",
    "        optimizer.zero_grad()\n",
    "\n",
    "        output = model(data)\n",
    "        loss = loss_fn(torch.sigmoid(output).squeeze(-1), label)  # BCEWithLogitsLoss 사용\n",
    "        loss.backward()\n",
    "        optimizer.step()\n",
    "\n",
    "        train_loss += loss.item()\n",
    "\n",
    "        # Accuracy 계산을 위해 예측값 저장\n",
    "        y_true.extend(label.cpu().numpy())\n",
    "        y_pred.extend(torch.sigmoid(output).detach().cpu().numpy())  # Sigmoid 후 확률로 변환\n",
    "\n",
    "    avg_loss = train_loss / len(train_loader)\n",
    "    train_accuracy = accuracy_score(np.array(y_true), (np.array(y_pred) > 0.5).astype(int))  # 정확도 계산\n",
    "    return avg_loss, train_accuracy\n",
    "\n",
    "# Validation 함수 정의\n",
    "def validate_one_epoch(model, val_loader, loss_fn, device):\n",
    "    model.eval()\n",
    "    val_loss = 0\n",
    "    y_true = []\n",
    "    y_pred = []\n",
    "\n",
    "    with torch.no_grad():\n",
    "        for data, label in val_loader:\n",
    "            data, label = data.to(device), label.to(device)\n",
    "\n",
    "            output = model(data)\n",
    "            loss = loss_fn(torch.sigmoid(output).squeeze(-1), label)  # BCEWithLogitsLoss 사용\n",
    "            val_loss += loss.item()\n",
    "    \n",
    "            # Accuracy 계산을 위해 예측값 저장\n",
    "            y_true.extend(label.cpu().numpy())\n",
    "            y_pred.extend(torch.sigmoid(output).detach().cpu().numpy())  # Sigmoid 후 확률로 변환\n",
    "\n",
    "    avg_val_loss = val_loss / len(val_loader)\n",
    "    val_auc = roc_auc_score(y_true, y_pred, average='macro')\n",
    "    val_accuracy = accuracy_score(np.array(y_true), (np.array(y_pred) > 0.5).astype(int))  # 정확도 계산\n",
    "    return avg_val_loss, val_auc, val_accuracy"
   ],
   "metadata": {
    "collapsed": false,
    "ExecuteTime": {
     "end_time": "2024-10-19T03:36:32.888153Z",
     "start_time": "2024-10-19T03:36:30.861004Z"
    }
   },
   "id": "1ef739ff4ab589b1",
   "execution_count": 5
  },
  {
   "cell_type": "code",
   "outputs": [
    {
     "name": "stdout",
     "output_type": "stream",
     "text": [
      "Epoch 1/100, Train Loss: 0.6936, Train Accuracy: 0.0206\n",
      "Epoch 1/100, Val Loss: 0.6932, Val AUC: 0.4349, Val Accuracy: 0.0174\n",
      "Best model saved with AUC 0.4349\n",
      "Epoch 2/100, Train Loss: 0.6931, Train Accuracy: 0.0198\n",
      "Epoch 2/100, Val Loss: 0.6932, Val AUC: 0.4350, Val Accuracy: 0.0174\n",
      "Best model saved with AUC 0.4350\n",
      "Epoch 3/100, Train Loss: 0.6931, Train Accuracy: 0.0198\n",
      "Epoch 3/100, Val Loss: 0.6932, Val AUC: 0.4355, Val Accuracy: 0.0174\n",
      "Best model saved with AUC 0.4355\n",
      "Epoch 4/100, Train Loss: 0.6931, Train Accuracy: 0.0198\n",
      "Epoch 4/100, Val Loss: 0.6932, Val AUC: 0.4361, Val Accuracy: 0.0174\n",
      "Best model saved with AUC 0.4361\n",
      "Epoch 5/100, Train Loss: 0.6931, Train Accuracy: 0.0198\n",
      "Epoch 5/100, Val Loss: 0.6932, Val AUC: 0.4368, Val Accuracy: 0.0174\n",
      "Best model saved with AUC 0.4368\n",
      "Epoch 6/100, Train Loss: 0.6931, Train Accuracy: 0.0198\n",
      "Epoch 6/100, Val Loss: 0.6932, Val AUC: 0.4360, Val Accuracy: 0.0174\n",
      "Epoch 7/100, Train Loss: 0.6931, Train Accuracy: 0.0198\n",
      "Epoch 7/100, Val Loss: 0.6932, Val AUC: 0.4377, Val Accuracy: 0.0174\n",
      "Best model saved with AUC 0.4377\n",
      "Epoch 8/100, Train Loss: 0.6931, Train Accuracy: 0.0198\n",
      "Epoch 8/100, Val Loss: 0.6932, Val AUC: 0.4377, Val Accuracy: 0.0174\n",
      "Best model saved with AUC 0.4377\n",
      "Epoch 9/100, Train Loss: 0.6931, Train Accuracy: 0.0198\n",
      "Epoch 9/100, Val Loss: 0.6932, Val AUC: 0.4391, Val Accuracy: 0.0174\n",
      "Best model saved with AUC 0.4391\n",
      "Epoch 10/100, Train Loss: 0.6931, Train Accuracy: 0.0198\n",
      "Epoch 10/100, Val Loss: 0.6932, Val AUC: 0.4394, Val Accuracy: 0.0174\n",
      "Best model saved with AUC 0.4394\n",
      "Epoch 11/100, Train Loss: 0.6931, Train Accuracy: 0.0198\n",
      "Epoch 11/100, Val Loss: 0.6932, Val AUC: 0.4411, Val Accuracy: 0.0174\n",
      "Best model saved with AUC 0.4411\n",
      "Epoch 12/100, Train Loss: 0.6931, Train Accuracy: 0.0198\n",
      "Epoch 12/100, Val Loss: 0.6932, Val AUC: 0.4394, Val Accuracy: 0.0174\n",
      "Epoch 13/100, Train Loss: 0.6931, Train Accuracy: 0.0198\n",
      "Epoch 13/100, Val Loss: 0.6932, Val AUC: 0.4420, Val Accuracy: 0.0174\n",
      "Best model saved with AUC 0.4420\n",
      "Epoch 14/100, Train Loss: 0.6931, Train Accuracy: 0.0198\n",
      "Epoch 14/100, Val Loss: 0.6932, Val AUC: 0.4423, Val Accuracy: 0.0174\n",
      "Best model saved with AUC 0.4423\n",
      "Epoch 15/100, Train Loss: 0.6931, Train Accuracy: 0.0198\n",
      "Epoch 15/100, Val Loss: 0.6932, Val AUC: 0.4420, Val Accuracy: 0.0174\n",
      "Epoch 16/100, Train Loss: 0.6931, Train Accuracy: 0.0198\n",
      "Epoch 16/100, Val Loss: 0.6932, Val AUC: 0.4430, Val Accuracy: 0.0174\n",
      "Best model saved with AUC 0.4430\n",
      "Epoch 17/100, Train Loss: 0.6931, Train Accuracy: 0.0198\n",
      "Epoch 17/100, Val Loss: 0.6932, Val AUC: 0.4425, Val Accuracy: 0.0174\n",
      "Epoch 18/100, Train Loss: 0.6931, Train Accuracy: 0.0198\n",
      "Epoch 18/100, Val Loss: 0.6932, Val AUC: 0.4452, Val Accuracy: 0.0174\n",
      "Best model saved with AUC 0.4452\n",
      "Epoch 19/100, Train Loss: 0.6931, Train Accuracy: 0.0198\n",
      "Epoch 19/100, Val Loss: 0.6932, Val AUC: 0.4484, Val Accuracy: 0.0174\n",
      "Best model saved with AUC 0.4484\n",
      "Epoch 20/100, Train Loss: 0.6931, Train Accuracy: 0.0198\n",
      "Epoch 20/100, Val Loss: 0.6932, Val AUC: 0.4493, Val Accuracy: 0.0174\n",
      "Best model saved with AUC 0.4493\n",
      "Epoch 21/100, Train Loss: 0.6931, Train Accuracy: 0.0198\n",
      "Epoch 21/100, Val Loss: 0.6932, Val AUC: 0.4513, Val Accuracy: 0.0174\n",
      "Best model saved with AUC 0.4513\n",
      "Epoch 22/100, Train Loss: 0.6931, Train Accuracy: 0.0198\n",
      "Epoch 22/100, Val Loss: 0.6932, Val AUC: 0.4542, Val Accuracy: 0.0174\n",
      "Best model saved with AUC 0.4542\n",
      "Epoch 23/100, Train Loss: 0.6931, Train Accuracy: 0.0198\n",
      "Epoch 23/100, Val Loss: 0.6932, Val AUC: 0.4568, Val Accuracy: 0.0174\n",
      "Best model saved with AUC 0.4568\n",
      "Epoch 24/100, Train Loss: 0.6931, Train Accuracy: 0.0198\n",
      "Epoch 24/100, Val Loss: 0.6932, Val AUC: 0.4558, Val Accuracy: 0.0174\n",
      "Epoch 25/100, Train Loss: 0.6931, Train Accuracy: 0.0198\n",
      "Epoch 25/100, Val Loss: 0.6932, Val AUC: 0.4616, Val Accuracy: 0.0174\n",
      "Best model saved with AUC 0.4616\n",
      "Epoch 26/100, Train Loss: 0.6931, Train Accuracy: 0.0198\n",
      "Epoch 26/100, Val Loss: 0.6931, Val AUC: 0.4627, Val Accuracy: 0.0174\n",
      "Best model saved with AUC 0.4627\n",
      "Epoch 27/100, Train Loss: 0.6931, Train Accuracy: 0.0198\n",
      "Epoch 27/100, Val Loss: 0.6931, Val AUC: 0.4662, Val Accuracy: 0.0174\n",
      "Best model saved with AUC 0.4662\n",
      "Epoch 28/100, Train Loss: 0.6931, Train Accuracy: 0.0198\n",
      "Epoch 28/100, Val Loss: 0.6931, Val AUC: 0.4708, Val Accuracy: 0.0174\n",
      "Best model saved with AUC 0.4708\n",
      "Epoch 29/100, Train Loss: 0.6931, Train Accuracy: 0.0198\n",
      "Epoch 29/100, Val Loss: 0.6931, Val AUC: 0.4671, Val Accuracy: 0.0174\n",
      "Epoch 30/100, Train Loss: 0.6931, Train Accuracy: 0.0198\n",
      "Epoch 30/100, Val Loss: 0.6931, Val AUC: 0.4765, Val Accuracy: 0.0174\n",
      "Best model saved with AUC 0.4765\n",
      "Epoch 31/100, Train Loss: 0.6931, Train Accuracy: 0.0198\n",
      "Epoch 31/100, Val Loss: 0.6931, Val AUC: 0.4809, Val Accuracy: 0.0174\n",
      "Best model saved with AUC 0.4809\n",
      "Epoch 32/100, Train Loss: 0.6931, Train Accuracy: 0.0198\n",
      "Epoch 32/100, Val Loss: 0.6931, Val AUC: 0.4861, Val Accuracy: 0.0174\n",
      "Best model saved with AUC 0.4861\n",
      "Epoch 33/100, Train Loss: 0.6931, Train Accuracy: 0.0198\n",
      "Epoch 33/100, Val Loss: 0.6931, Val AUC: 0.4846, Val Accuracy: 0.0174\n",
      "Epoch 34/100, Train Loss: 0.6931, Train Accuracy: 0.0198\n",
      "Epoch 34/100, Val Loss: 0.6931, Val AUC: 0.4905, Val Accuracy: 0.0174\n",
      "Best model saved with AUC 0.4905\n",
      "Epoch 35/100, Train Loss: 0.6931, Train Accuracy: 0.0198\n",
      "Epoch 35/100, Val Loss: 0.6931, Val AUC: 0.4925, Val Accuracy: 0.0174\n",
      "Best model saved with AUC 0.4925\n",
      "Epoch 36/100, Train Loss: 0.6931, Train Accuracy: 0.0198\n",
      "Epoch 36/100, Val Loss: 0.6931, Val AUC: 0.4943, Val Accuracy: 0.0174\n",
      "Best model saved with AUC 0.4943\n",
      "Epoch 37/100, Train Loss: 0.6931, Train Accuracy: 0.0198\n",
      "Epoch 37/100, Val Loss: 0.6931, Val AUC: 0.5000, Val Accuracy: 0.0174\n",
      "Best model saved with AUC 0.5000\n",
      "Epoch 38/100, Train Loss: 0.6931, Train Accuracy: 0.0198\n",
      "Epoch 38/100, Val Loss: 0.6931, Val AUC: 0.4994, Val Accuracy: 0.0174\n",
      "Epoch 39/100, Train Loss: 0.6931, Train Accuracy: 0.0198\n",
      "Epoch 39/100, Val Loss: 0.6931, Val AUC: 0.4996, Val Accuracy: 0.0174\n",
      "Epoch 40/100, Train Loss: 0.6931, Train Accuracy: 0.0198\n",
      "Epoch 40/100, Val Loss: 0.6931, Val AUC: 0.5019, Val Accuracy: 0.0174\n",
      "Best model saved with AUC 0.5019\n",
      "Epoch 41/100, Train Loss: 0.6931, Train Accuracy: 0.0198\n",
      "Epoch 41/100, Val Loss: 0.6931, Val AUC: 0.5083, Val Accuracy: 0.0174\n",
      "Best model saved with AUC 0.5083\n",
      "Epoch 42/100, Train Loss: 0.6931, Train Accuracy: 0.0198\n",
      "Epoch 42/100, Val Loss: 0.6931, Val AUC: 0.5110, Val Accuracy: 0.0174\n",
      "Best model saved with AUC 0.5110\n"
     ]
    },
    {
     "ename": "KeyboardInterrupt",
     "evalue": "",
     "output_type": "error",
     "traceback": [
      "\u001B[0;31m---------------------------------------------------------------------------\u001B[0m",
      "\u001B[0;31mKeyboardInterrupt\u001B[0m                         Traceback (most recent call last)",
      "Cell \u001B[0;32mIn[6], line 23\u001B[0m\n\u001B[1;32m     19\u001B[0m num_epochs \u001B[38;5;241m=\u001B[39m \u001B[38;5;241m100\u001B[39m\n\u001B[1;32m     21\u001B[0m \u001B[38;5;28;01mfor\u001B[39;00m epoch \u001B[38;5;129;01min\u001B[39;00m \u001B[38;5;28mrange\u001B[39m(num_epochs):\n\u001B[1;32m     22\u001B[0m     \u001B[38;5;66;03m# Training 단계\u001B[39;00m\n\u001B[0;32m---> 23\u001B[0m     train_loss, train_accuracy \u001B[38;5;241m=\u001B[39m \u001B[43mtrain_one_epoch\u001B[49m\u001B[43m(\u001B[49m\u001B[43mmodel\u001B[49m\u001B[43m,\u001B[49m\u001B[43m \u001B[49m\u001B[43mtrain_loader\u001B[49m\u001B[43m,\u001B[49m\u001B[43m \u001B[49m\u001B[43moptimizer\u001B[49m\u001B[43m,\u001B[49m\u001B[43m \u001B[49m\u001B[43mloss_fn\u001B[49m\u001B[43m,\u001B[49m\u001B[43m \u001B[49m\u001B[43mdevice\u001B[49m\u001B[43m)\u001B[49m\n\u001B[1;32m     25\u001B[0m     \u001B[38;5;66;03m# Validation 단계\u001B[39;00m\n\u001B[1;32m     26\u001B[0m     val_loss, val_auc, val_accuracy \u001B[38;5;241m=\u001B[39m validate_one_epoch(model, val_loader, loss_fn, device)\n",
      "Cell \u001B[0;32mIn[5], line 32\u001B[0m, in \u001B[0;36mtrain_one_epoch\u001B[0;34m(model, train_loader, optimizer, loss_fn, device)\u001B[0m\n\u001B[1;32m     30\u001B[0m output \u001B[38;5;241m=\u001B[39m model(data)\n\u001B[1;32m     31\u001B[0m loss \u001B[38;5;241m=\u001B[39m loss_fn(torch\u001B[38;5;241m.\u001B[39msigmoid(output)\u001B[38;5;241m.\u001B[39msqueeze(\u001B[38;5;241m-\u001B[39m\u001B[38;5;241m1\u001B[39m), label)  \u001B[38;5;66;03m# BCEWithLogitsLoss 사용\u001B[39;00m\n\u001B[0;32m---> 32\u001B[0m \u001B[43mloss\u001B[49m\u001B[38;5;241;43m.\u001B[39;49m\u001B[43mbackward\u001B[49m\u001B[43m(\u001B[49m\u001B[43m)\u001B[49m\n\u001B[1;32m     33\u001B[0m optimizer\u001B[38;5;241m.\u001B[39mstep()\n\u001B[1;32m     35\u001B[0m train_loss \u001B[38;5;241m+\u001B[39m\u001B[38;5;241m=\u001B[39m loss\u001B[38;5;241m.\u001B[39mitem()\n",
      "File \u001B[0;32m~/Documents/CVDclassification-based-on-ECG-signals/.venv/lib/python3.12/site-packages/torch/_tensor.py:521\u001B[0m, in \u001B[0;36mTensor.backward\u001B[0;34m(self, gradient, retain_graph, create_graph, inputs)\u001B[0m\n\u001B[1;32m    511\u001B[0m \u001B[38;5;28;01mif\u001B[39;00m has_torch_function_unary(\u001B[38;5;28mself\u001B[39m):\n\u001B[1;32m    512\u001B[0m     \u001B[38;5;28;01mreturn\u001B[39;00m handle_torch_function(\n\u001B[1;32m    513\u001B[0m         Tensor\u001B[38;5;241m.\u001B[39mbackward,\n\u001B[1;32m    514\u001B[0m         (\u001B[38;5;28mself\u001B[39m,),\n\u001B[0;32m   (...)\u001B[0m\n\u001B[1;32m    519\u001B[0m         inputs\u001B[38;5;241m=\u001B[39minputs,\n\u001B[1;32m    520\u001B[0m     )\n\u001B[0;32m--> 521\u001B[0m \u001B[43mtorch\u001B[49m\u001B[38;5;241;43m.\u001B[39;49m\u001B[43mautograd\u001B[49m\u001B[38;5;241;43m.\u001B[39;49m\u001B[43mbackward\u001B[49m\u001B[43m(\u001B[49m\n\u001B[1;32m    522\u001B[0m \u001B[43m    \u001B[49m\u001B[38;5;28;43mself\u001B[39;49m\u001B[43m,\u001B[49m\u001B[43m \u001B[49m\u001B[43mgradient\u001B[49m\u001B[43m,\u001B[49m\u001B[43m \u001B[49m\u001B[43mretain_graph\u001B[49m\u001B[43m,\u001B[49m\u001B[43m \u001B[49m\u001B[43mcreate_graph\u001B[49m\u001B[43m,\u001B[49m\u001B[43m \u001B[49m\u001B[43minputs\u001B[49m\u001B[38;5;241;43m=\u001B[39;49m\u001B[43minputs\u001B[49m\n\u001B[1;32m    523\u001B[0m \u001B[43m\u001B[49m\u001B[43m)\u001B[49m\n",
      "File \u001B[0;32m~/Documents/CVDclassification-based-on-ECG-signals/.venv/lib/python3.12/site-packages/torch/autograd/__init__.py:289\u001B[0m, in \u001B[0;36mbackward\u001B[0;34m(tensors, grad_tensors, retain_graph, create_graph, grad_variables, inputs)\u001B[0m\n\u001B[1;32m    284\u001B[0m     retain_graph \u001B[38;5;241m=\u001B[39m create_graph\n\u001B[1;32m    286\u001B[0m \u001B[38;5;66;03m# The reason we repeat the same comment below is that\u001B[39;00m\n\u001B[1;32m    287\u001B[0m \u001B[38;5;66;03m# some Python versions print out the first line of a multi-line function\u001B[39;00m\n\u001B[1;32m    288\u001B[0m \u001B[38;5;66;03m# calls in the traceback and some print out the last line\u001B[39;00m\n\u001B[0;32m--> 289\u001B[0m \u001B[43m_engine_run_backward\u001B[49m\u001B[43m(\u001B[49m\n\u001B[1;32m    290\u001B[0m \u001B[43m    \u001B[49m\u001B[43mtensors\u001B[49m\u001B[43m,\u001B[49m\n\u001B[1;32m    291\u001B[0m \u001B[43m    \u001B[49m\u001B[43mgrad_tensors_\u001B[49m\u001B[43m,\u001B[49m\n\u001B[1;32m    292\u001B[0m \u001B[43m    \u001B[49m\u001B[43mretain_graph\u001B[49m\u001B[43m,\u001B[49m\n\u001B[1;32m    293\u001B[0m \u001B[43m    \u001B[49m\u001B[43mcreate_graph\u001B[49m\u001B[43m,\u001B[49m\n\u001B[1;32m    294\u001B[0m \u001B[43m    \u001B[49m\u001B[43minputs\u001B[49m\u001B[43m,\u001B[49m\n\u001B[1;32m    295\u001B[0m \u001B[43m    \u001B[49m\u001B[43mallow_unreachable\u001B[49m\u001B[38;5;241;43m=\u001B[39;49m\u001B[38;5;28;43;01mTrue\u001B[39;49;00m\u001B[43m,\u001B[49m\n\u001B[1;32m    296\u001B[0m \u001B[43m    \u001B[49m\u001B[43maccumulate_grad\u001B[49m\u001B[38;5;241;43m=\u001B[39;49m\u001B[38;5;28;43;01mTrue\u001B[39;49;00m\u001B[43m,\u001B[49m\n\u001B[1;32m    297\u001B[0m \u001B[43m\u001B[49m\u001B[43m)\u001B[49m\n",
      "File \u001B[0;32m~/Documents/CVDclassification-based-on-ECG-signals/.venv/lib/python3.12/site-packages/torch/autograd/graph.py:769\u001B[0m, in \u001B[0;36m_engine_run_backward\u001B[0;34m(t_outputs, *args, **kwargs)\u001B[0m\n\u001B[1;32m    767\u001B[0m     unregister_hooks \u001B[38;5;241m=\u001B[39m _register_logging_hooks_on_whole_graph(t_outputs)\n\u001B[1;32m    768\u001B[0m \u001B[38;5;28;01mtry\u001B[39;00m:\n\u001B[0;32m--> 769\u001B[0m     \u001B[38;5;28;01mreturn\u001B[39;00m \u001B[43mVariable\u001B[49m\u001B[38;5;241;43m.\u001B[39;49m\u001B[43m_execution_engine\u001B[49m\u001B[38;5;241;43m.\u001B[39;49m\u001B[43mrun_backward\u001B[49m\u001B[43m(\u001B[49m\u001B[43m  \u001B[49m\u001B[38;5;66;43;03m# Calls into the C++ engine to run the backward pass\u001B[39;49;00m\n\u001B[1;32m    770\u001B[0m \u001B[43m        \u001B[49m\u001B[43mt_outputs\u001B[49m\u001B[43m,\u001B[49m\u001B[43m \u001B[49m\u001B[38;5;241;43m*\u001B[39;49m\u001B[43margs\u001B[49m\u001B[43m,\u001B[49m\u001B[43m \u001B[49m\u001B[38;5;241;43m*\u001B[39;49m\u001B[38;5;241;43m*\u001B[39;49m\u001B[43mkwargs\u001B[49m\n\u001B[1;32m    771\u001B[0m \u001B[43m    \u001B[49m\u001B[43m)\u001B[49m  \u001B[38;5;66;03m# Calls into the C++ engine to run the backward pass\u001B[39;00m\n\u001B[1;32m    772\u001B[0m \u001B[38;5;28;01mfinally\u001B[39;00m:\n\u001B[1;32m    773\u001B[0m     \u001B[38;5;28;01mif\u001B[39;00m attach_logging_hooks:\n",
      "\u001B[0;31mKeyboardInterrupt\u001B[0m: "
     ]
    }
   ],
   "source": [
    "# 데이터 로더 준비\n",
    "train_dataset = ECG_Data(ECG_train)\n",
    "train_loader = DataLoader(train_dataset, batch_size=32, shuffle=True)\n",
    "\n",
    "val_dataset = ECG_Data(ECG_val)\n",
    "val_loader = DataLoader(val_dataset, batch_size=32, shuffle=True)\n",
    "\n",
    "# 모델 정의 및 학습\n",
    "device = torch.device(\"mps\" if torch.backends.mps.is_available() else \"cpu\")\n",
    "\n",
    "# 모델 정의 및 학습 루프\n",
    "model = BCResNets(base_c=16, num_classes=5, in_channel=12).to(device)\n",
    "optimizer = torch.optim.Adam(model.parameters(), lr=1e-2)\n",
    "loss_fn = torch.nn.BCEWithLogitsLoss()\n",
    "\n",
    "best_val_auc = float('-inf')  # 가장 높은 AUC를 기록하기 위한 변수\n",
    "model_path = '../common/one_stage_models.pth'  # 모델 저장 경로\n",
    "\n",
    "num_epochs = 100\n",
    "\n",
    "for epoch in range(num_epochs):\n",
    "    # Training 단계\n",
    "    train_loss, train_accuracy = train_one_epoch(model, train_loader, optimizer, loss_fn, device)\n",
    "    \n",
    "    # Validation 단계\n",
    "    val_loss, val_auc, val_accuracy = validate_one_epoch(model, val_loader, loss_fn, device)\n",
    "    \n",
    "    print(f'Epoch {epoch+1}/{num_epochs}, Train Loss: {train_loss:.4f}, Train Accuracy: {train_accuracy:.4f}')\n",
    "    print(f'Epoch {epoch+1}/{num_epochs}, Val Loss: {val_loss:.4f}, Val AUC: {val_auc:.4f}, Val Accuracy: {val_accuracy:.4f}')\n",
    "    \n",
    "    # AUC가 가장 높을 때 모델을 저장\n",
    "    if val_auc > best_val_auc:\n",
    "        best_val_auc = val_auc\n",
    "        torch.save(model.state_dict(), model_path)  # 모델 저장\n",
    "        print(f\"Best model saved with AUC {best_val_auc:.4f}\")\n",
    "\n",
    "print(f\"Training completed. Best AUC: {best_val_auc:.4f}\")"
   ],
   "metadata": {
    "collapsed": false,
    "ExecuteTime": {
     "end_time": "2024-10-19T05:28:00.472536Z",
     "start_time": "2024-10-19T03:36:32.889682Z"
    }
   },
   "id": "51b475029b272f8d",
   "execution_count": 6
  }
 ],
 "metadata": {
  "kernelspec": {
   "display_name": "Python 3",
   "language": "python",
   "name": "python3"
  },
  "language_info": {
   "codemirror_mode": {
    "name": "ipython",
    "version": 2
   },
   "file_extension": ".py",
   "mimetype": "text/x-python",
   "name": "python",
   "nbconvert_exporter": "python",
   "pygments_lexer": "ipython2",
   "version": "2.7.6"
  }
 },
 "nbformat": 4,
 "nbformat_minor": 5
}
