{
 "cells": [
  {
   "cell_type": "markdown",
   "source": [
    "### 테스트 데이터셋 만들기\n",
    " - 이전에는 각 분류기를 학습하는 것이기 때문에, 0,1로 레이블을 변경해주었다.\n",
    " - 하지만, 직렬로 연결하고 나서는 0,1,2,3,4로 레이블을 변경해야 한다.\n",
    "  - 훈련하는게 아니므로 train, val은 생략."
   ],
   "metadata": {
    "collapsed": false
   },
   "id": "4faaa5157acd50c1"
  },
  {
   "cell_type": "code",
   "outputs": [
    {
     "data": {
      "text/plain": "   ecg_id  patient_id   age  sex  height  weight  nurse  site     device  \\\n0       9     18792.0  55.0    0     NaN    70.0    2.0   0.0  CS-12   E   \n1      38     17076.0  40.0    0     NaN    72.0    2.0   0.0  CS-12   E   \n2      40     19501.0  60.0    0     NaN    85.0    2.0   0.0  CS-12   E   \n3      57     16063.0  26.0    0     NaN    93.0    2.0   0.0  CS-12   E   \n4      59     19475.0  54.0    0     NaN    67.0    2.0   0.0  CS-12   E   \n\n        recording_date  ... extra_beats pacemaker strat_fold  \\\n0  1984-12-08 09:44:43  ...         NaN       NaN         10   \n1  1985-02-15 11:48:22  ...         NaN       NaN         10   \n2  1985-02-20 11:43:45  ...         NaN       NaN         10   \n3  1985-06-06 11:32:43  ...         NaN       NaN         10   \n4  1985-06-12 06:36:01  ...         NaN       NaN         10   \n\n                 filename_lr                filename_hr  NORM  MI  STTC CD HYP  \n0  records100/00000/00009_lr  records500/00000/00009_hr     1   0     0  0   0  \n1  records100/00000/00038_lr  records500/00000/00038_hr     1   0     0  0   0  \n2  records100/00000/00040_lr  records500/00000/00040_hr     1   0     0  0   0  \n3  records100/00000/00057_lr  records500/00000/00057_hr     1   0     0  0   0  \n4  records100/00000/00059_lr  records500/00000/00059_hr     1   0     0  0   0  \n\n[5 rows x 32 columns]",
      "text/html": "<div>\n<style scoped>\n    .dataframe tbody tr th:only-of-type {\n        vertical-align: middle;\n    }\n\n    .dataframe tbody tr th {\n        vertical-align: top;\n    }\n\n    .dataframe thead th {\n        text-align: right;\n    }\n</style>\n<table border=\"1\" class=\"dataframe\">\n  <thead>\n    <tr style=\"text-align: right;\">\n      <th></th>\n      <th>ecg_id</th>\n      <th>patient_id</th>\n      <th>age</th>\n      <th>sex</th>\n      <th>height</th>\n      <th>weight</th>\n      <th>nurse</th>\n      <th>site</th>\n      <th>device</th>\n      <th>recording_date</th>\n      <th>...</th>\n      <th>extra_beats</th>\n      <th>pacemaker</th>\n      <th>strat_fold</th>\n      <th>filename_lr</th>\n      <th>filename_hr</th>\n      <th>NORM</th>\n      <th>MI</th>\n      <th>STTC</th>\n      <th>CD</th>\n      <th>HYP</th>\n    </tr>\n  </thead>\n  <tbody>\n    <tr>\n      <th>0</th>\n      <td>9</td>\n      <td>18792.0</td>\n      <td>55.0</td>\n      <td>0</td>\n      <td>NaN</td>\n      <td>70.0</td>\n      <td>2.0</td>\n      <td>0.0</td>\n      <td>CS-12   E</td>\n      <td>1984-12-08 09:44:43</td>\n      <td>...</td>\n      <td>NaN</td>\n      <td>NaN</td>\n      <td>10</td>\n      <td>records100/00000/00009_lr</td>\n      <td>records500/00000/00009_hr</td>\n      <td>1</td>\n      <td>0</td>\n      <td>0</td>\n      <td>0</td>\n      <td>0</td>\n    </tr>\n    <tr>\n      <th>1</th>\n      <td>38</td>\n      <td>17076.0</td>\n      <td>40.0</td>\n      <td>0</td>\n      <td>NaN</td>\n      <td>72.0</td>\n      <td>2.0</td>\n      <td>0.0</td>\n      <td>CS-12   E</td>\n      <td>1985-02-15 11:48:22</td>\n      <td>...</td>\n      <td>NaN</td>\n      <td>NaN</td>\n      <td>10</td>\n      <td>records100/00000/00038_lr</td>\n      <td>records500/00000/00038_hr</td>\n      <td>1</td>\n      <td>0</td>\n      <td>0</td>\n      <td>0</td>\n      <td>0</td>\n    </tr>\n    <tr>\n      <th>2</th>\n      <td>40</td>\n      <td>19501.0</td>\n      <td>60.0</td>\n      <td>0</td>\n      <td>NaN</td>\n      <td>85.0</td>\n      <td>2.0</td>\n      <td>0.0</td>\n      <td>CS-12   E</td>\n      <td>1985-02-20 11:43:45</td>\n      <td>...</td>\n      <td>NaN</td>\n      <td>NaN</td>\n      <td>10</td>\n      <td>records100/00000/00040_lr</td>\n      <td>records500/00000/00040_hr</td>\n      <td>1</td>\n      <td>0</td>\n      <td>0</td>\n      <td>0</td>\n      <td>0</td>\n    </tr>\n    <tr>\n      <th>3</th>\n      <td>57</td>\n      <td>16063.0</td>\n      <td>26.0</td>\n      <td>0</td>\n      <td>NaN</td>\n      <td>93.0</td>\n      <td>2.0</td>\n      <td>0.0</td>\n      <td>CS-12   E</td>\n      <td>1985-06-06 11:32:43</td>\n      <td>...</td>\n      <td>NaN</td>\n      <td>NaN</td>\n      <td>10</td>\n      <td>records100/00000/00057_lr</td>\n      <td>records500/00000/00057_hr</td>\n      <td>1</td>\n      <td>0</td>\n      <td>0</td>\n      <td>0</td>\n      <td>0</td>\n    </tr>\n    <tr>\n      <th>4</th>\n      <td>59</td>\n      <td>19475.0</td>\n      <td>54.0</td>\n      <td>0</td>\n      <td>NaN</td>\n      <td>67.0</td>\n      <td>2.0</td>\n      <td>0.0</td>\n      <td>CS-12   E</td>\n      <td>1985-06-12 06:36:01</td>\n      <td>...</td>\n      <td>NaN</td>\n      <td>NaN</td>\n      <td>10</td>\n      <td>records100/00000/00059_lr</td>\n      <td>records500/00000/00059_hr</td>\n      <td>1</td>\n      <td>0</td>\n      <td>0</td>\n      <td>0</td>\n      <td>0</td>\n    </tr>\n  </tbody>\n</table>\n<p>5 rows × 32 columns</p>\n</div>"
     },
     "execution_count": 12,
     "metadata": {},
     "output_type": "execute_result"
    },
    {
     "data": {
      "text/plain": "<Figure size 640x480 with 1 Axes>",
      "image/png": "[encoded data removed]"
     },
     "metadata": {},
     "output_type": "display_data"
    }
   ],
   "source": [
    "from torch.utils.data import DataLoader\n",
    "from ver5_journal.common.data.ECG_Data import ECG_Data\n",
    "from ver5_journal.common.data.create_final_data import create_final_data\n",
    "\n",
    "final_data=create_final_data()\n",
    "\n",
    "ECG_test = final_data[final_data['strat_fold'] == 10].reset_index(drop=True)\n",
    "\n",
    "test_dataset=ECG_Data(ECG_test)\n",
    "test_loader=DataLoader(test_dataset,batch_size=32, shuffle=True)\n",
    "ECG_test.head()"
   ],
   "metadata": {
    "collapsed": false,
    "ExecuteTime": {
     "end_time": "2024-10-15T17:19:21.828532Z",
     "start_time": "2024-10-15T17:19:21.126962Z"
    }
   },
   "id": "1692560caec9cc61",
   "execution_count": 12
  },
  {
   "cell_type": "markdown",
   "source": [
    "### 현재 모델의 0~4번 순서는 데이터셋의 양에 따라 정해진게 아니다\n",
    "-  `NORM - STTC - MI - HYP - CD`로 임의로 돼있다.\n",
    "-  이를 `NORM - MI - STTC - CD - HYP`로 순서를 바꿔야 한다."
   ],
   "metadata": {
    "collapsed": false
   },
   "id": "521909df4d2893e2"
  },
  {
   "cell_type": "code",
   "outputs": [],
   "source": [
    "# 모든 분류기에 동일한 threshold를 적용\n",
    "\n",
    "from ver5_journal.common.network.BCResNets import BCResNets\n",
    "import torch\n",
    "import numpy as np\n",
    "from sklearn.metrics import confusion_matrix, classification_report\n",
    "\n",
    "# 모델 순서 정의\n",
    "sequence = ['NORM', 'MI', 'STTC', 'CD', 'HYP']\n",
    "\n",
    "num_models = len(sequence)\n",
    "\n",
    "# 각 모델을 불러와 AUC 테스트를 수행하는 코드\n",
    "best_models = []\n",
    "\n",
    "device = torch.device(\"mps\" if torch.backends.mps.is_available() else \"cpu\")\n",
    "\n",
    "# 모델 입력 채널 수 정의\n",
    "in_channel = 12\n",
    "\n",
    "# 저장된 각 모델을 로드하여 리스트에 저장\n",
    "for dd in sequence:\n",
    "    model_path = f'../common/best_models/{dd}_model.pth'\n",
    "    model = BCResNets(int(2 * 8), 1, in_channel).to(device)  # 모델 구조 동일하게 맞춰야 함\n",
    "    # model.load_state_dict(torch.load(model_path, weights_only=True))\n",
    "    model.load_state_dict(torch.load(model_path, weights_only=True))\n",
    "    model.eval()\n",
    "    best_models.append(model)"
   ],
   "metadata": {
    "collapsed": false,
    "ExecuteTime": {
     "end_time": "2024-10-15T16:11:16.826291Z",
     "start_time": "2024-10-15T16:11:16.226883Z"
    }
   },
   "id": "b55edff24d318e20",
   "execution_count": 9
  },
  {
   "cell_type": "code",
   "outputs": [
    {
     "name": "stdout",
     "output_type": "stream",
     "text": [
      "=====================================================================\n",
      "\n",
      "Testing Serialized Model Pipeline with Threshold: 0.20\n",
      "Label: NORM, AUC: 0.8237\n",
      "Label: MI, AUC: 0.8127\n",
      "Label: STTC, AUC: 0.8357\n",
      "Label: CD, AUC: 0.7385\n",
      "Label: HYP, AUC: 0.8003\n",
      "Overall accuracy with threshold 0.20: 0.2337\n",
      "Average Test Loss with threshold 0.20: 0.3123\n",
      "=====================================================================\n",
      "=====================================================================\n",
      "\n",
      "Testing Serialized Model Pipeline with Threshold: 0.30\n",
      "Label: NORM, AUC: 0.8525\n",
      "Label: MI, AUC: 0.8463\n",
      "Label: STTC, AUC: 0.8668\n",
      "Label: CD, AUC: 0.8269\n",
      "Label: HYP, AUC: 0.8153\n",
      "Overall accuracy with threshold 0.30: 0.4066\n",
      "Average Test Loss with threshold 0.30: 0.3124\n",
      "=====================================================================\n",
      "=====================================================================\n",
      "\n",
      "Testing Serialized Model Pipeline with Threshold: 0.40\n",
      "Label: NORM, AUC: 0.8661\n",
      "Label: MI, AUC: 0.8478\n",
      "Label: STTC, AUC: 0.8442\n",
      "Label: CD, AUC: 0.8478\n",
      "Label: HYP, AUC: 0.7837\n",
      "Overall accuracy with threshold 0.40: 0.5327\n",
      "Average Test Loss with threshold 0.40: 0.3124\n",
      "=====================================================================\n",
      "=====================================================================\n",
      "\n",
      "Testing Serialized Model Pipeline with Threshold: 0.50\n",
      "Label: NORM, AUC: 0.8648\n",
      "Label: MI, AUC: 0.8312\n",
      "Label: STTC, AUC: 0.8003\n",
      "Label: CD, AUC: 0.8511\n",
      "Label: HYP, AUC: 0.7222\n",
      "Overall accuracy with threshold 0.50: 0.5753\n",
      "Average Test Loss with threshold 0.50: 0.3124\n",
      "=====================================================================\n",
      "=====================================================================\n",
      "\n",
      "Testing Serialized Model Pipeline with Threshold: 0.60\n",
      "Label: NORM, AUC: 0.8442\n",
      "Label: MI, AUC: 0.8108\n",
      "Label: STTC, AUC: 0.7066\n",
      "Label: CD, AUC: 0.8330\n",
      "Label: HYP, AUC: 0.6402\n",
      "Overall accuracy with threshold 0.60: 0.5318\n",
      "Average Test Loss with threshold 0.60: 0.3123\n",
      "=====================================================================\n",
      "=====================================================================\n",
      "\n",
      "Testing Serialized Model Pipeline with Threshold: 0.70\n",
      "Label: NORM, AUC: 0.8069\n",
      "Label: MI, AUC: 0.7684\n",
      "Label: STTC, AUC: 0.5859\n",
      "Label: CD, AUC: 0.8054\n",
      "Label: HYP, AUC: 0.5984\n",
      "Overall accuracy with threshold 0.70: 0.4409\n",
      "Average Test Loss with threshold 0.70: 0.3132\n",
      "=====================================================================\n",
      "=====================================================================\n",
      "\n",
      "Testing Serialized Model Pipeline with Threshold: 0.80\n",
      "Label: NORM, AUC: 0.7136\n",
      "Label: MI, AUC: 0.6938\n",
      "Label: STTC, AUC: 0.5096\n",
      "Label: CD, AUC: 0.7468\n",
      "Label: HYP, AUC: 0.5324\n",
      "Overall accuracy with threshold 0.80: 0.3023\n",
      "Average Test Loss with threshold 0.80: 0.3125\n",
      "=====================================================================\n",
      "=====================================================================\n",
      "\n",
      "Testing Serialized Model Pipeline with Threshold: 0.90\n",
      "Label: NORM, AUC: 0.5488\n",
      "Label: MI, AUC: 0.5709\n",
      "Label: STTC, AUC: 0.5000\n",
      "Label: CD, AUC: 0.6516\n",
      "Label: HYP, AUC: 0.5019\n",
      "Overall accuracy with threshold 0.90: 0.0969\n",
      "Average Test Loss with threshold 0.90: 0.3135\n",
      "=====================================================================\n"
     ]
    }
   ],
   "source": [
    "from sklearn.metrics import roc_auc_score, accuracy_score\n",
    "\n",
    "# 임계값을 0.05씩 증가시키며 테스트\n",
    "thresholds = np.arange(0.2, 1.0, 0.1)\n",
    "loss_fn = torch.nn.BCELoss()\n",
    "\n",
    "for threshold in thresholds:\n",
    "    print(\"=====================================================================\")\n",
    "    print(f'\\nTesting Serialized Model Pipeline with Threshold: {threshold:.2f}')\n",
    "    y_true = []\n",
    "    y_pred = []\n",
    "    total_test_loss = 0  # 테스트 전체 Loss 저장\n",
    "\n",
    "    # 테스트 데이터셋을 연결된 모델에 사용\n",
    "    with torch.no_grad():\n",
    "        for data, label in test_loader:\n",
    "            data, label = data.to(device), label.to(device)\n",
    "            \n",
    "            # 각 데이터 포인트별로 모든 클래스에 대한 예측값을 저장하기 위한 리스트\n",
    "            batch_predictions = []\n",
    "            batch_loss = 0  # 배치에 대한 Loss 저장\n",
    "            \n",
    "            # 각 분류기에 대해 예측값을 얻음 (모델을 순차적으로 실행)\n",
    "            for idx, model in enumerate(best_models):\n",
    "                output = model(data)  # 각 모델이 배치에 대한 예측값을 출력 (배치 크기만큼의 값 반환)\n",
    "                output = torch.sigmoid(output).squeeze(-1)  # Sigmoid 함수 적용 후 배치 크기 유지\n",
    "\n",
    "                # 실제 레이블에서 해당 클래스만 선택\n",
    "                label_data = label[:, idx].float()  # 각 클래스에 대한 실제 레이블\n",
    "                loss = loss_fn(output, label_data)  # 각 클래스에 대한 Loss 계산\n",
    "                batch_loss += loss.item()  # 배치에 대한 Loss 누적\n",
    "\n",
    "                # 각 모델의 출력이 임계값을 넘으면 1, 아니면 0으로 설정\n",
    "                predictions = (output.detach().cpu().numpy() > threshold).astype(int)\n",
    "                batch_predictions.append(predictions)\n",
    "\n",
    "            # 배치에 대한 평균 Loss 계산\n",
    "            batch_loss /= len(best_models)  # 각 모델별로 계산된 Loss의 평균\n",
    "            total_test_loss += batch_loss  # 배치별 Loss를 전체 테스트 Loss에 누적\n",
    "            \n",
    "            # 모든 클래스에 대한 예측값을 저장\n",
    "            batch_predictions = np.array(batch_predictions)  # (num_models, batch_size) 형태\n",
    "            batch_predictions = batch_predictions.T  # (batch_size, num_models) 형태로 변환\n",
    "\n",
    "            # 각 샘플에 대해 예측값과 실제값 저장\n",
    "            y_true.extend(label.cpu().numpy())  # 실제값 (멀티레이블)\n",
    "            y_pred.extend(batch_predictions)    # 예측값 (멀티레이블)\n",
    "\n",
    "    y_true = np.array(y_true)\n",
    "    y_pred = np.array(y_pred)\n",
    "\n",
    "    # 각 클래스별 ROC-AUC 점수 계산\n",
    "    for i, label_name in enumerate(sequence):\n",
    "        auc = roc_auc_score(y_true[:, i], y_pred[:, i])\n",
    "        print(f'Label: {label_name}, AUC: {auc:.4f}')\n",
    "    \n",
    "    # 멀티레이블 전체의 Accuracy 계산\n",
    "    total_accuracy = accuracy_score(y_true, y_pred)\n",
    "    avg_test_loss = total_test_loss / len(test_loader)  # 전체 테스트에 대한 평균 Loss\n",
    "    print(f'Overall accuracy with threshold {threshold:.2f}: {total_accuracy:.4f}')\n",
    "    print(f'Average Test Loss with threshold {threshold:.2f}: {avg_test_loss:.4f}')\n",
    "    print(\"=====================================================================\")\n"
   ],
   "metadata": {
    "collapsed": false,
    "ExecuteTime": {
     "end_time": "2024-10-15T16:54:33.327748Z",
     "start_time": "2024-10-15T16:52:35.953838Z"
    }
   },
   "id": "9f03d95ba466b288",
   "execution_count": 11
  }
 ],
 "metadata": {
  "kernelspec": {
   "display_name": "Python 3",
   "language": "python",
   "name": "python3"
  },
  "language_info": {
   "codemirror_mode": {
    "name": "ipython",
    "version": 2
   },
   "file_extension": ".py",
   "mimetype": "text/x-python",
   "name": "python",
   "nbconvert_exporter": "python",
   "pygments_lexer": "ipython2",
   "version": "2.7.6"
  }
 },
 "nbformat": 4,
 "nbformat_minor": 5
}
