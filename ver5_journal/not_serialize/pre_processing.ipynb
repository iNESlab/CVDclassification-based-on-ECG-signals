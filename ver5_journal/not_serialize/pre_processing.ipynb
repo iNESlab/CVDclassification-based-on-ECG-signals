{
 "cells": [
  {
   "cell_type": "code",
   "execution_count": 1,
   "id": "initial_id",
   "metadata": {
    "collapsed": true,
    "ExecuteTime": {
     "end_time": "2024-10-15T07:26:41.534348Z",
     "start_time": "2024-10-15T07:26:38.624299Z"
    }
   },
   "outputs": [],
   "source": [
    "import pandas as pd\n",
    "import matplotlib.pyplot as plt\n",
    "import torch\n",
    "from torch.utils.data import DataLoader"
   ]
  },
  {
   "cell_type": "code",
   "outputs": [],
   "source": [
    "device = torch.device(\"mps\" if torch.backends.mps.is_available() else \"cpu\")\n",
    "# model = MyModel().to(device)"
   ],
   "metadata": {
    "collapsed": false,
    "ExecuteTime": {
     "end_time": "2024-10-15T07:26:41.580649Z",
     "start_time": "2024-10-15T07:26:41.536521Z"
    }
   },
   "id": "de9d5b30d7674499",
   "execution_count": 2
  },
  {
   "cell_type": "code",
   "outputs": [],
   "source": [
    "diagnostics={\"NORM\":['NORM','CSD'],\n",
    "             \"STTC\":['NDT', 'NST_', 'DIG', 'LNGQT', 'ISC_', 'ISCAL', 'ISCIN', 'ISCIL', 'ISCAS', 'ISCLA', 'ANEUR', 'EL', 'ISCAN' ],\n",
    "             \"MI\":['IMI', 'ASMI', 'ILMI', 'AMI', 'ALMI', 'INJAS', 'LMI', 'INJAL', 'IPLMI', 'IPMI', 'INJIN', 'INJLA', 'PMI', 'INJIL'],\n",
    "             \"HYP\":['LVH', 'LAO/LAE', 'RVH', 'RAO/RAE', 'SEHYP'],\n",
    "             \"CD\":['LAFB', 'IRBBB', '1AVB', 'IVCD', 'CRBBB', 'CLBBB', 'LPFB', 'WPW', 'ILBBB', '3AVB', '2AVB'],\n",
    "             \"OTHER\":['AFLT', 'AFIB', 'PSVT', 'STACH', 'PVC', 'PACE', 'PAC']\n",
    "            }"
   ],
   "metadata": {
    "collapsed": false,
    "ExecuteTime": {
     "end_time": "2024-10-15T07:26:41.587847Z",
     "start_time": "2024-10-15T07:26:41.582414Z"
    }
   },
   "id": "e9e285246ce0b562",
   "execution_count": 3
  },
  {
   "cell_type": "code",
   "outputs": [
    {
     "data": {
      "text/plain": "       ecg_id  patient_id    age  sex  height  weight  nurse  site  \\\n0           1     15709.0   56.0    1     NaN    63.0    2.0   0.0   \n1           2     13243.0   19.0    0     NaN    70.0    2.0   0.0   \n2           3     20372.0   37.0    1     NaN    69.0    2.0   0.0   \n3           4     17014.0   24.0    0     NaN    82.0    2.0   0.0   \n4           5     17448.0   19.0    1     NaN    70.0    2.0   0.0   \n...       ...         ...    ...  ...     ...     ...    ...   ...   \n21794   21833     17180.0   67.0    1     NaN     NaN    1.0   2.0   \n21795   21834     20703.0  300.0    0     NaN     NaN    1.0   2.0   \n21796   21835     19311.0   59.0    1     NaN     NaN    1.0   2.0   \n21797   21836      8873.0   64.0    1     NaN     NaN    1.0   2.0   \n21798   21837     11744.0   68.0    0     NaN     NaN    1.0   2.0   \n\n           device       recording_date  ... validated_by_human  \\\n0       CS-12   E  1984-11-09 09:17:34  ...               True   \n1       CS-12   E  1984-11-14 12:55:37  ...               True   \n2       CS-12   E  1984-11-15 12:49:10  ...               True   \n3       CS-12   E  1984-11-15 13:44:57  ...               True   \n4       CS-12   E  1984-11-17 10:43:15  ...               True   \n...           ...                  ...  ...                ...   \n21794  AT-60    3  2001-05-31 09:14:35  ...               True   \n21795  AT-60    3  2001-06-05 11:33:39  ...               True   \n21796  AT-60    3  2001-06-08 10:30:27  ...               True   \n21797  AT-60    3  2001-06-09 18:21:49  ...               True   \n21798  AT-60    3  2001-06-11 16:43:01  ...               True   \n\n       baseline_drift static_noise burst_noise electrodes_problems  \\\n0                 NaN    , I-V1,           NaN                 NaN   \n1                 NaN          NaN         NaN                 NaN   \n2                 NaN          NaN         NaN                 NaN   \n3        , II,III,AVF          NaN         NaN                 NaN   \n4       , III,AVR,AVF          NaN         NaN                 NaN   \n...               ...          ...         ...                 ...   \n21794             NaN   , alles,           NaN                 NaN   \n21795             NaN          NaN         NaN                 NaN   \n21796             NaN   , I-AVR,           NaN                 NaN   \n21797             NaN          NaN         NaN                 NaN   \n21798             NaN   , I-AVL,           NaN                 NaN   \n\n       extra_beats  pacemaker  strat_fold                filename_lr  \\\n0              NaN        NaN           3  records100/00000/00001_lr   \n1              NaN        NaN           2  records100/00000/00002_lr   \n2              NaN        NaN           5  records100/00000/00003_lr   \n3              NaN        NaN           3  records100/00000/00004_lr   \n4              NaN        NaN           4  records100/00000/00005_lr   \n...            ...        ...         ...                        ...   \n21794          1ES        NaN           7  records100/21000/21833_lr   \n21795          NaN        NaN           4  records100/21000/21834_lr   \n21796          NaN        NaN           2  records100/21000/21835_lr   \n21797         SVES        NaN           8  records100/21000/21836_lr   \n21798          NaN        NaN           9  records100/21000/21837_lr   \n\n                     filename_hr  \n0      records500/00000/00001_hr  \n1      records500/00000/00002_hr  \n2      records500/00000/00003_hr  \n3      records500/00000/00004_hr  \n4      records500/00000/00005_hr  \n...                          ...  \n21794  records500/21000/21833_hr  \n21795  records500/21000/21834_hr  \n21796  records500/21000/21835_hr  \n21797  records500/21000/21836_hr  \n21798  records500/21000/21837_hr  \n\n[21799 rows x 28 columns]",
      "text/html": "<div>\n<style scoped>\n    .dataframe tbody tr th:only-of-type {\n        vertical-align: middle;\n    }\n\n    .dataframe tbody tr th {\n        vertical-align: top;\n    }\n\n    .dataframe thead th {\n        text-align: right;\n    }\n</style>\n<table border=\"1\" class=\"dataframe\">\n  <thead>\n    <tr style=\"text-align: right;\">\n      <th></th>\n      <th>ecg_id</th>\n      <th>patient_id</th>\n      <th>age</th>\n      <th>sex</th>\n      <th>height</th>\n      <th>weight</th>\n      <th>nurse</th>\n      <th>site</th>\n      <th>device</th>\n      <th>recording_date</th>\n      <th>...</th>\n      <th>validated_by_human</th>\n      <th>baseline_drift</th>\n      <th>static_noise</th>\n      <th>burst_noise</th>\n      <th>electrodes_problems</th>\n      <th>extra_beats</th>\n      <th>pacemaker</th>\n      <th>strat_fold</th>\n      <th>filename_lr</th>\n      <th>filename_hr</th>\n    </tr>\n  </thead>\n  <tbody>\n    <tr>\n      <th>0</th>\n      <td>1</td>\n      <td>15709.0</td>\n      <td>56.0</td>\n      <td>1</td>\n      <td>NaN</td>\n      <td>63.0</td>\n      <td>2.0</td>\n      <td>0.0</td>\n      <td>CS-12   E</td>\n      <td>1984-11-09 09:17:34</td>\n      <td>...</td>\n      <td>True</td>\n      <td>NaN</td>\n      <td>, I-V1,</td>\n      <td>NaN</td>\n      <td>NaN</td>\n      <td>NaN</td>\n      <td>NaN</td>\n      <td>3</td>\n      <td>records100/00000/00001_lr</td>\n      <td>records500/00000/00001_hr</td>\n    </tr>\n    <tr>\n      <th>1</th>\n      <td>2</td>\n      <td>13243.0</td>\n      <td>19.0</td>\n      <td>0</td>\n      <td>NaN</td>\n      <td>70.0</td>\n      <td>2.0</td>\n      <td>0.0</td>\n      <td>CS-12   E</td>\n      <td>1984-11-14 12:55:37</td>\n      <td>...</td>\n      <td>True</td>\n      <td>NaN</td>\n      <td>NaN</td>\n      <td>NaN</td>\n      <td>NaN</td>\n      <td>NaN</td>\n      <td>NaN</td>\n      <td>2</td>\n      <td>records100/00000/00002_lr</td>\n      <td>records500/00000/00002_hr</td>\n    </tr>\n    <tr>\n      <th>2</th>\n      <td>3</td>\n      <td>20372.0</td>\n      <td>37.0</td>\n      <td>1</td>\n      <td>NaN</td>\n      <td>69.0</td>\n      <td>2.0</td>\n      <td>0.0</td>\n      <td>CS-12   E</td>\n      <td>1984-11-15 12:49:10</td>\n      <td>...</td>\n      <td>True</td>\n      <td>NaN</td>\n      <td>NaN</td>\n      <td>NaN</td>\n      <td>NaN</td>\n      <td>NaN</td>\n      <td>NaN</td>\n      <td>5</td>\n      <td>records100/00000/00003_lr</td>\n      <td>records500/00000/00003_hr</td>\n    </tr>\n    <tr>\n      <th>3</th>\n      <td>4</td>\n      <td>17014.0</td>\n      <td>24.0</td>\n      <td>0</td>\n      <td>NaN</td>\n      <td>82.0</td>\n      <td>2.0</td>\n      <td>0.0</td>\n      <td>CS-12   E</td>\n      <td>1984-11-15 13:44:57</td>\n      <td>...</td>\n      <td>True</td>\n      <td>, II,III,AVF</td>\n      <td>NaN</td>\n      <td>NaN</td>\n      <td>NaN</td>\n      <td>NaN</td>\n      <td>NaN</td>\n      <td>3</td>\n      <td>records100/00000/00004_lr</td>\n      <td>records500/00000/00004_hr</td>\n    </tr>\n    <tr>\n      <th>4</th>\n      <td>5</td>\n      <td>17448.0</td>\n      <td>19.0</td>\n      <td>1</td>\n      <td>NaN</td>\n      <td>70.0</td>\n      <td>2.0</td>\n      <td>0.0</td>\n      <td>CS-12   E</td>\n      <td>1984-11-17 10:43:15</td>\n      <td>...</td>\n      <td>True</td>\n      <td>, III,AVR,AVF</td>\n      <td>NaN</td>\n      <td>NaN</td>\n      <td>NaN</td>\n      <td>NaN</td>\n      <td>NaN</td>\n      <td>4</td>\n      <td>records100/00000/00005_lr</td>\n      <td>records500/00000/00005_hr</td>\n    </tr>\n    <tr>\n      <th>...</th>\n      <td>...</td>\n      <td>...</td>\n      <td>...</td>\n      <td>...</td>\n      <td>...</td>\n      <td>...</td>\n      <td>...</td>\n      <td>...</td>\n      <td>...</td>\n      <td>...</td>\n      <td>...</td>\n      <td>...</td>\n      <td>...</td>\n      <td>...</td>\n      <td>...</td>\n      <td>...</td>\n      <td>...</td>\n      <td>...</td>\n      <td>...</td>\n      <td>...</td>\n      <td>...</td>\n    </tr>\n    <tr>\n      <th>21794</th>\n      <td>21833</td>\n      <td>17180.0</td>\n      <td>67.0</td>\n      <td>1</td>\n      <td>NaN</td>\n      <td>NaN</td>\n      <td>1.0</td>\n      <td>2.0</td>\n      <td>AT-60    3</td>\n      <td>2001-05-31 09:14:35</td>\n      <td>...</td>\n      <td>True</td>\n      <td>NaN</td>\n      <td>, alles,</td>\n      <td>NaN</td>\n      <td>NaN</td>\n      <td>1ES</td>\n      <td>NaN</td>\n      <td>7</td>\n      <td>records100/21000/21833_lr</td>\n      <td>records500/21000/21833_hr</td>\n    </tr>\n    <tr>\n      <th>21795</th>\n      <td>21834</td>\n      <td>20703.0</td>\n      <td>300.0</td>\n      <td>0</td>\n      <td>NaN</td>\n      <td>NaN</td>\n      <td>1.0</td>\n      <td>2.0</td>\n      <td>AT-60    3</td>\n      <td>2001-06-05 11:33:39</td>\n      <td>...</td>\n      <td>True</td>\n      <td>NaN</td>\n      <td>NaN</td>\n      <td>NaN</td>\n      <td>NaN</td>\n      <td>NaN</td>\n      <td>NaN</td>\n      <td>4</td>\n      <td>records100/21000/21834_lr</td>\n      <td>records500/21000/21834_hr</td>\n    </tr>\n    <tr>\n      <th>21796</th>\n      <td>21835</td>\n      <td>19311.0</td>\n      <td>59.0</td>\n      <td>1</td>\n      <td>NaN</td>\n      <td>NaN</td>\n      <td>1.0</td>\n      <td>2.0</td>\n      <td>AT-60    3</td>\n      <td>2001-06-08 10:30:27</td>\n      <td>...</td>\n      <td>True</td>\n      <td>NaN</td>\n      <td>, I-AVR,</td>\n      <td>NaN</td>\n      <td>NaN</td>\n      <td>NaN</td>\n      <td>NaN</td>\n      <td>2</td>\n      <td>records100/21000/21835_lr</td>\n      <td>records500/21000/21835_hr</td>\n    </tr>\n    <tr>\n      <th>21797</th>\n      <td>21836</td>\n      <td>8873.0</td>\n      <td>64.0</td>\n      <td>1</td>\n      <td>NaN</td>\n      <td>NaN</td>\n      <td>1.0</td>\n      <td>2.0</td>\n      <td>AT-60    3</td>\n      <td>2001-06-09 18:21:49</td>\n      <td>...</td>\n      <td>True</td>\n      <td>NaN</td>\n      <td>NaN</td>\n      <td>NaN</td>\n      <td>NaN</td>\n      <td>SVES</td>\n      <td>NaN</td>\n      <td>8</td>\n      <td>records100/21000/21836_lr</td>\n      <td>records500/21000/21836_hr</td>\n    </tr>\n    <tr>\n      <th>21798</th>\n      <td>21837</td>\n      <td>11744.0</td>\n      <td>68.0</td>\n      <td>0</td>\n      <td>NaN</td>\n      <td>NaN</td>\n      <td>1.0</td>\n      <td>2.0</td>\n      <td>AT-60    3</td>\n      <td>2001-06-11 16:43:01</td>\n      <td>...</td>\n      <td>True</td>\n      <td>NaN</td>\n      <td>, I-AVL,</td>\n      <td>NaN</td>\n      <td>NaN</td>\n      <td>NaN</td>\n      <td>NaN</td>\n      <td>9</td>\n      <td>records100/21000/21837_lr</td>\n      <td>records500/21000/21837_hr</td>\n    </tr>\n  </tbody>\n</table>\n<p>21799 rows × 28 columns</p>\n</div>"
     },
     "execution_count": 4,
     "metadata": {},
     "output_type": "execute_result"
    }
   ],
   "source": [
    "db_path=\"../../dataset/ptb-xl-a-large-publicly-available-electrocardiography-dataset-1.0.3\"\n",
    "ecg_data=pd.read_csv(f'{db_path}/ptbxl_database.csv')\n",
    "ecg_data"
   ],
   "metadata": {
    "collapsed": false,
    "ExecuteTime": {
     "end_time": "2024-10-15T07:26:41.916995Z",
     "start_time": "2024-10-15T07:26:41.589624Z"
    }
   },
   "id": "f0292ebf0a08ad50",
   "execution_count": 4
  },
  {
   "cell_type": "code",
   "outputs": [
    {
     "name": "stdout",
     "output_type": "stream",
     "text": [
      "       ecg_id  patient_id    age  sex  height  weight  nurse  site  \\\n",
      "0           1     15709.0   56.0    1     NaN    63.0    2.0   0.0   \n",
      "1           2     13243.0   19.0    0     NaN    70.0    2.0   0.0   \n",
      "2           3     20372.0   37.0    1     NaN    69.0    2.0   0.0   \n",
      "3           4     17014.0   24.0    0     NaN    82.0    2.0   0.0   \n",
      "4           5     17448.0   19.0    1     NaN    70.0    2.0   0.0   \n",
      "...       ...         ...    ...  ...     ...     ...    ...   ...   \n",
      "21794   21833     17180.0   67.0    1     NaN     NaN    1.0   2.0   \n",
      "21795   21834     20703.0  300.0    0     NaN     NaN    1.0   2.0   \n",
      "21796   21835     19311.0   59.0    1     NaN     NaN    1.0   2.0   \n",
      "21797   21836      8873.0   64.0    1     NaN     NaN    1.0   2.0   \n",
      "21798   21837     11744.0   68.0    0     NaN     NaN    1.0   2.0   \n",
      "\n",
      "           device       recording_date  ... validated_by_human  \\\n",
      "0       CS-12   E  1984-11-09 09:17:34  ...               True   \n",
      "1       CS-12   E  1984-11-14 12:55:37  ...               True   \n",
      "2       CS-12   E  1984-11-15 12:49:10  ...               True   \n",
      "3       CS-12   E  1984-11-15 13:44:57  ...               True   \n",
      "4       CS-12   E  1984-11-17 10:43:15  ...               True   \n",
      "...           ...                  ...  ...                ...   \n",
      "21794  AT-60    3  2001-05-31 09:14:35  ...               True   \n",
      "21795  AT-60    3  2001-06-05 11:33:39  ...               True   \n",
      "21796  AT-60    3  2001-06-08 10:30:27  ...               True   \n",
      "21797  AT-60    3  2001-06-09 18:21:49  ...               True   \n",
      "21798  AT-60    3  2001-06-11 16:43:01  ...               True   \n",
      "\n",
      "       baseline_drift static_noise burst_noise electrodes_problems  \\\n",
      "0                 NaN    , I-V1,           NaN                 NaN   \n",
      "1                 NaN          NaN         NaN                 NaN   \n",
      "2                 NaN          NaN         NaN                 NaN   \n",
      "3        , II,III,AVF          NaN         NaN                 NaN   \n",
      "4       , III,AVR,AVF          NaN         NaN                 NaN   \n",
      "...               ...          ...         ...                 ...   \n",
      "21794             NaN   , alles,           NaN                 NaN   \n",
      "21795             NaN          NaN         NaN                 NaN   \n",
      "21796             NaN   , I-AVR,           NaN                 NaN   \n",
      "21797             NaN          NaN         NaN                 NaN   \n",
      "21798             NaN   , I-AVL,           NaN                 NaN   \n",
      "\n",
      "       extra_beats  pacemaker  strat_fold                filename_lr  \\\n",
      "0              NaN        NaN           3  records100/00000/00001_lr   \n",
      "1              NaN        NaN           2  records100/00000/00002_lr   \n",
      "2              NaN        NaN           5  records100/00000/00003_lr   \n",
      "3              NaN        NaN           3  records100/00000/00004_lr   \n",
      "4              NaN        NaN           4  records100/00000/00005_lr   \n",
      "...            ...        ...         ...                        ...   \n",
      "21794          1ES        NaN           7  records100/21000/21833_lr   \n",
      "21795          NaN        NaN           4  records100/21000/21834_lr   \n",
      "21796          NaN        NaN           2  records100/21000/21835_lr   \n",
      "21797         SVES        NaN           8  records100/21000/21836_lr   \n",
      "21798          NaN        NaN           9  records100/21000/21837_lr   \n",
      "\n",
      "                     filename_hr  \n",
      "0      records500/00000/00001_hr  \n",
      "1      records500/00000/00002_hr  \n",
      "2      records500/00000/00003_hr  \n",
      "3      records500/00000/00004_hr  \n",
      "4      records500/00000/00005_hr  \n",
      "...                          ...  \n",
      "21794  records500/21000/21833_hr  \n",
      "21795  records500/21000/21834_hr  \n",
      "21796  records500/21000/21835_hr  \n",
      "21797  records500/21000/21836_hr  \n",
      "21798  records500/21000/21837_hr  \n",
      "\n",
      "[21799 rows x 28 columns]\n"
     ]
    }
   ],
   "source": [
    "print(ecg_data)"
   ],
   "metadata": {
    "collapsed": false,
    "ExecuteTime": {
     "end_time": "2024-10-15T07:26:41.949508Z",
     "start_time": "2024-10-15T07:26:41.924281Z"
    }
   },
   "id": "b86fcf445066a5fe",
   "execution_count": 5
  },
  {
   "cell_type": "code",
   "outputs": [
    {
     "name": "stdout",
     "output_type": "stream",
     "text": [
      "<class 'pandas.core.frame.DataFrame'>\n",
      "RangeIndex: 21799 entries, 0 to 21798\n",
      "Data columns (total 28 columns):\n",
      " #   Column                        Non-Null Count  Dtype  \n",
      "---  ------                        --------------  -----  \n",
      " 0   ecg_id                        21799 non-null  int64  \n",
      " 1   patient_id                    21799 non-null  float64\n",
      " 2   age                           21799 non-null  float64\n",
      " 3   sex                           21799 non-null  int64  \n",
      " 4   height                        6974 non-null   float64\n",
      " 5   weight                        9421 non-null   float64\n",
      " 6   nurse                         20326 non-null  float64\n",
      " 7   site                          21782 non-null  float64\n",
      " 8   device                        21799 non-null  object \n",
      " 9   recording_date                21799 non-null  object \n",
      " 10  report                        21799 non-null  object \n",
      " 11  scp_codes                     21799 non-null  object \n",
      " 12  heart_axis                    13331 non-null  object \n",
      " 13  infarction_stadium1           5612 non-null   object \n",
      " 14  infarction_stadium2           103 non-null    object \n",
      " 15  validated_by                  12421 non-null  float64\n",
      " 16  second_opinion                21799 non-null  bool   \n",
      " 17  initial_autogenerated_report  21799 non-null  bool   \n",
      " 18  validated_by_human            21799 non-null  bool   \n",
      " 19  baseline_drift                1598 non-null   object \n",
      " 20  static_noise                  3260 non-null   object \n",
      " 21  burst_noise                   613 non-null    object \n",
      " 22  electrodes_problems           30 non-null     object \n",
      " 23  extra_beats                   1949 non-null   object \n",
      " 24  pacemaker                     291 non-null    object \n",
      " 25  strat_fold                    21799 non-null  int64  \n",
      " 26  filename_lr                   21799 non-null  object \n",
      " 27  filename_hr                   21799 non-null  object \n",
      "dtypes: bool(3), float64(7), int64(3), object(15)\n",
      "memory usage: 4.2+ MB\n"
     ]
    }
   ],
   "source": [
    "ecg_data.info()"
   ],
   "metadata": {
    "collapsed": false,
    "ExecuteTime": {
     "end_time": "2024-10-15T07:26:41.987940Z",
     "start_time": "2024-10-15T07:26:41.951955Z"
    }
   },
   "id": "dd480fae632895ef",
   "execution_count": 6
  },
  {
   "cell_type": "code",
   "outputs": [
    {
     "data": {
      "text/plain": "   ecg_id  patient_id   age  sex  height  weight  nurse  site     device  \\\n0       1     15709.0  56.0    1     NaN    63.0    2.0   0.0  CS-12   E   \n1       2     13243.0  19.0    0     NaN    70.0    2.0   0.0  CS-12   E   \n2       3     20372.0  37.0    1     NaN    69.0    2.0   0.0  CS-12   E   \n3       4     17014.0  24.0    0     NaN    82.0    2.0   0.0  CS-12   E   \n4       5     17448.0  19.0    1     NaN    70.0    2.0   0.0  CS-12   E   \n\n        recording_date  ... extra_beats pacemaker strat_fold  \\\n0  1984-11-09 09:17:34  ...         NaN       NaN          3   \n1  1984-11-14 12:55:37  ...         NaN       NaN          2   \n2  1984-11-15 12:49:10  ...         NaN       NaN          5   \n3  1984-11-15 13:44:57  ...         NaN       NaN          3   \n4  1984-11-17 10:43:15  ...         NaN       NaN          4   \n\n                 filename_lr                filename_hr  NORM  MI  STTC  CD  \\\n0  records100/00000/00001_lr  records500/00000/00001_hr     1   0     0   0   \n1  records100/00000/00002_lr  records500/00000/00002_hr     1   0     0   0   \n2  records100/00000/00003_lr  records500/00000/00003_hr     1   0     0   0   \n3  records100/00000/00004_lr  records500/00000/00004_hr     1   0     0   0   \n4  records100/00000/00005_lr  records500/00000/00005_hr     1   0     0   0   \n\n  HYP  \n0   0  \n1   0  \n2   0  \n3   0  \n4   0  \n\n[5 rows x 33 columns]",
      "text/html": "<div>\n<style scoped>\n    .dataframe tbody tr th:only-of-type {\n        vertical-align: middle;\n    }\n\n    .dataframe tbody tr th {\n        vertical-align: top;\n    }\n\n    .dataframe thead th {\n        text-align: right;\n    }\n</style>\n<table border=\"1\" class=\"dataframe\">\n  <thead>\n    <tr style=\"text-align: right;\">\n      <th></th>\n      <th>ecg_id</th>\n      <th>patient_id</th>\n      <th>age</th>\n      <th>sex</th>\n      <th>height</th>\n      <th>weight</th>\n      <th>nurse</th>\n      <th>site</th>\n      <th>device</th>\n      <th>recording_date</th>\n      <th>...</th>\n      <th>extra_beats</th>\n      <th>pacemaker</th>\n      <th>strat_fold</th>\n      <th>filename_lr</th>\n      <th>filename_hr</th>\n      <th>NORM</th>\n      <th>MI</th>\n      <th>STTC</th>\n      <th>CD</th>\n      <th>HYP</th>\n    </tr>\n  </thead>\n  <tbody>\n    <tr>\n      <th>0</th>\n      <td>1</td>\n      <td>15709.0</td>\n      <td>56.0</td>\n      <td>1</td>\n      <td>NaN</td>\n      <td>63.0</td>\n      <td>2.0</td>\n      <td>0.0</td>\n      <td>CS-12   E</td>\n      <td>1984-11-09 09:17:34</td>\n      <td>...</td>\n      <td>NaN</td>\n      <td>NaN</td>\n      <td>3</td>\n      <td>records100/00000/00001_lr</td>\n      <td>records500/00000/00001_hr</td>\n      <td>1</td>\n      <td>0</td>\n      <td>0</td>\n      <td>0</td>\n      <td>0</td>\n    </tr>\n    <tr>\n      <th>1</th>\n      <td>2</td>\n      <td>13243.0</td>\n      <td>19.0</td>\n      <td>0</td>\n      <td>NaN</td>\n      <td>70.0</td>\n      <td>2.0</td>\n      <td>0.0</td>\n      <td>CS-12   E</td>\n      <td>1984-11-14 12:55:37</td>\n      <td>...</td>\n      <td>NaN</td>\n      <td>NaN</td>\n      <td>2</td>\n      <td>records100/00000/00002_lr</td>\n      <td>records500/00000/00002_hr</td>\n      <td>1</td>\n      <td>0</td>\n      <td>0</td>\n      <td>0</td>\n      <td>0</td>\n    </tr>\n    <tr>\n      <th>2</th>\n      <td>3</td>\n      <td>20372.0</td>\n      <td>37.0</td>\n      <td>1</td>\n      <td>NaN</td>\n      <td>69.0</td>\n      <td>2.0</td>\n      <td>0.0</td>\n      <td>CS-12   E</td>\n      <td>1984-11-15 12:49:10</td>\n      <td>...</td>\n      <td>NaN</td>\n      <td>NaN</td>\n      <td>5</td>\n      <td>records100/00000/00003_lr</td>\n      <td>records500/00000/00003_hr</td>\n      <td>1</td>\n      <td>0</td>\n      <td>0</td>\n      <td>0</td>\n      <td>0</td>\n    </tr>\n    <tr>\n      <th>3</th>\n      <td>4</td>\n      <td>17014.0</td>\n      <td>24.0</td>\n      <td>0</td>\n      <td>NaN</td>\n      <td>82.0</td>\n      <td>2.0</td>\n      <td>0.0</td>\n      <td>CS-12   E</td>\n      <td>1984-11-15 13:44:57</td>\n      <td>...</td>\n      <td>NaN</td>\n      <td>NaN</td>\n      <td>3</td>\n      <td>records100/00000/00004_lr</td>\n      <td>records500/00000/00004_hr</td>\n      <td>1</td>\n      <td>0</td>\n      <td>0</td>\n      <td>0</td>\n      <td>0</td>\n    </tr>\n    <tr>\n      <th>4</th>\n      <td>5</td>\n      <td>17448.0</td>\n      <td>19.0</td>\n      <td>1</td>\n      <td>NaN</td>\n      <td>70.0</td>\n      <td>2.0</td>\n      <td>0.0</td>\n      <td>CS-12   E</td>\n      <td>1984-11-17 10:43:15</td>\n      <td>...</td>\n      <td>NaN</td>\n      <td>NaN</td>\n      <td>4</td>\n      <td>records100/00000/00005_lr</td>\n      <td>records500/00000/00005_hr</td>\n      <td>1</td>\n      <td>0</td>\n      <td>0</td>\n      <td>0</td>\n      <td>0</td>\n    </tr>\n  </tbody>\n</table>\n<p>5 rows × 33 columns</p>\n</div>"
     },
     "execution_count": 7,
     "metadata": {},
     "output_type": "execute_result"
    },
    {
     "data": {
      "text/plain": "<Figure size 640x480 with 1 Axes>",
      "image/png": "[encoded data removed]"
     },
     "metadata": {},
     "output_type": "display_data"
    }
   ],
   "source": [
    "from ver5_journal.common.data.create_final_data import create_final_data\n",
    "\n",
    "final_data = create_final_data()\n",
    "final_data.head()"
   ],
   "metadata": {
    "collapsed": false,
    "ExecuteTime": {
     "end_time": "2024-10-15T07:26:43.604767Z",
     "start_time": "2024-10-15T07:26:41.989952Z"
    }
   },
   "id": "3a04da2608f23936",
   "execution_count": 7
  },
  {
   "cell_type": "code",
   "outputs": [
    {
     "name": "stdout",
     "output_type": "stream",
     "text": [
      "NORM\n",
      "0    12285\n",
      "1     9514\n",
      "Name: count, dtype: int64\n",
      "STTC\n",
      "0    16691\n",
      "1     5108\n",
      "Name: count, dtype: int64\n",
      "MI\n",
      "0    16330\n",
      "1     5469\n",
      "Name: count, dtype: int64\n",
      "HYP\n",
      "0    19150\n",
      "1     2649\n",
      "Name: count, dtype: int64\n",
      "CD\n",
      "0    16901\n",
      "1     4898\n",
      "Name: count, dtype: int64\n"
     ]
    }
   ],
   "source": [
    "print(final_data['NORM'].value_counts())\n",
    "print(final_data['STTC'].value_counts())\n",
    "print(final_data['MI'].value_counts())\n",
    "print(final_data['HYP'].value_counts())\n",
    "print(final_data['CD'].value_counts())"
   ],
   "metadata": {
    "collapsed": false,
    "ExecuteTime": {
     "end_time": "2024-10-15T07:27:21.075306Z",
     "start_time": "2024-10-15T07:27:21.070139Z"
    }
   },
   "id": "43ff7e571996fede",
   "execution_count": 8
  },
  {
   "cell_type": "code",
   "outputs": [
    {
     "name": "stdout",
     "output_type": "stream",
     "text": [
      "NORM: 7596\n",
      "STTC: 4087\n",
      "MI: 4379\n",
      "HYP: 2119\n",
      "CD: 3907\n"
     ]
    }
   ],
   "source": [
    "ECG_train = final_data[final_data['strat_fold'].isin([1, 2, 3, 4, 5, 6, 7, 8])].reset_index(drop=True)\n",
    "ECG_val = final_data[final_data['strat_fold'] == 9].reset_index(drop=True)\n",
    "ECG_test = final_data[final_data['strat_fold'] == 10].reset_index(drop=True)\n",
    "\n",
    "print(f'NORM: {ECG_train[ECG_train['NORM'] == 1].shape[0]}')\n",
    "print(f'STTC: {ECG_train[ECG_train['STTC'] == 1].shape[0]}')\n",
    "print(f'MI: {ECG_train[ECG_train['MI'] == 1].shape[0]}')\n",
    "print(f'HYP: {ECG_train[ECG_train['HYP'] == 1].shape[0]}')\n",
    "print(f'CD: {ECG_train[ECG_train['CD'] == 1].shape[0]}')\n"
   ],
   "metadata": {
    "collapsed": false,
    "ExecuteTime": {
     "end_time": "2024-10-15T07:27:27.191410Z",
     "start_time": "2024-10-15T07:27:27.171501Z"
    }
   },
   "id": "2913622500285466",
   "execution_count": 9
  },
  {
   "cell_type": "code",
   "outputs": [
    {
     "name": "stdout",
     "output_type": "stream",
     "text": [
      "data_new : (12, 1000)\n",
      "label : (5,)\n",
      "data_new : (12, 1000)\n",
      "label : (5,)\n",
      "data_new : (12, 1000)\n",
      "label : (5,)\n",
      "data_new : (12, 1000)\n",
      "label : (5,)\n",
      "data_new : (12, 1000)\n",
      "label : (5,)\n",
      "data_new : (12, 1000)\n",
      "label : (5,)\n",
      "data_new : (12, 1000)\n",
      "label : (5,)\n",
      "data_new : (12, 1000)\n",
      "label : (5,)\n",
      "data_new : (12, 1000)\n",
      "label : (5,)\n",
      "data_new : (12, 1000)\n",
      "label : (5,)\n",
      "data_new : (12, 1000)\n",
      "label : (5,)\n",
      "data_new : (12, 1000)\n",
      "label : (5,)\n",
      "data_new : (12, 1000)\n",
      "label : (5,)\n",
      "data_new : (12, 1000)\n",
      "label : (5,)\n",
      "data_new : (12, 1000)\n",
      "label : (5,)\n",
      "data_new : (12, 1000)\n",
      "label : (5,)\n",
      "data_new : (12, 1000)\n",
      "label : (5,)\n",
      "data_new : (12, 1000)\n",
      "label : (5,)\n",
      "data_new : (12, 1000)\n",
      "label : (5,)\n",
      "data_new : (12, 1000)\n",
      "label : (5,)\n",
      "data_new : (12, 1000)\n",
      "label : (5,)\n",
      "data_new : (12, 1000)\n",
      "label : (5,)\n",
      "data_new : (12, 1000)\n",
      "label : (5,)\n",
      "data_new : (12, 1000)\n",
      "label : (5,)\n",
      "data_new : (12, 1000)\n",
      "label : (5,)\n",
      "data_new : (12, 1000)\n",
      "label : (5,)\n",
      "data_new : (12, 1000)\n",
      "label : (5,)\n",
      "data_new : (12, 1000)\n",
      "label : (5,)\n",
      "data_new : (12, 1000)\n",
      "label : (5,)\n",
      "data_new : (12, 1000)\n",
      "label : (5,)\n",
      "data_new : (12, 1000)\n",
      "label : (5,)\n",
      "data_new : (12, 1000)\n",
      "label : (5,)\n",
      "data_new : (12, 1000)\n",
      "label : (5,)\n",
      "data_new : (12, 1000)\n",
      "label : (5,)\n",
      "data_new : (12, 1000)\n",
      "label : (5,)\n",
      "data_new : (12, 1000)\n",
      "label : (5,)\n",
      "data_new : (12, 1000)\n",
      "label : (5,)\n",
      "data_new : (12, 1000)\n",
      "label : (5,)\n",
      "data_new : (12, 1000)\n",
      "label : (5,)\n",
      "data_new : (12, 1000)\n",
      "label : (5,)\n",
      "data_new : (12, 1000)\n",
      "label : (5,)\n",
      "data_new : (12, 1000)\n",
      "label : (5,)\n",
      "data_new : (12, 1000)\n",
      "label : (5,)\n",
      "data_new : (12, 1000)\n",
      "label : (5,)\n",
      "data_new : (12, 1000)\n",
      "label : (5,)\n",
      "data_new : (12, 1000)\n",
      "label : (5,)\n",
      "data_new : (12, 1000)\n",
      "label : (5,)\n",
      "data_new : (12, 1000)\n",
      "label : (5,)\n",
      "data_new : (12, 1000)\n",
      "label : (5,)\n",
      "data_new : (12, 1000)\n",
      "label : (5,)\n",
      "data_new : (12, 1000)\n",
      "label : (5,)\n",
      "data_new : (12, 1000)\n",
      "label : (5,)\n",
      "data_new : (12, 1000)\n",
      "label : (5,)\n",
      "data_new : (12, 1000)\n",
      "label : (5,)\n",
      "data_new : (12, 1000)\n",
      "label : (5,)\n",
      "data_new : (12, 1000)\n",
      "label : (5,)\n",
      "data_new : (12, 1000)\n",
      "label : (5,)\n",
      "data_new : (12, 1000)\n",
      "label : (5,)\n",
      "data_new : (12, 1000)\n",
      "label : (5,)\n",
      "data_new : (12, 1000)\n",
      "label : (5,)\n",
      "data_new : (12, 1000)\n",
      "label : (5,)\n",
      "data_new : (12, 1000)\n",
      "label : (5,)\n",
      "data_new : (12, 1000)\n",
      "label : (5,)\n",
      "data_new : (12, 1000)\n",
      "label : (5,)\n"
     ]
    }
   ],
   "source": [
    "from ver5_journal.common.data.ECG_Data import ECG_Data\n",
    "\n",
    "train_dataset = ECG_Data(ECG_train)\n",
    "train_loader = DataLoader(train_dataset,batch_size=64, shuffle=True)\n",
    "first_batch, label = next(iter(train_loader))"
   ],
   "metadata": {
    "collapsed": false,
    "ExecuteTime": {
     "end_time": "2024-10-15T07:28:56.143879Z",
     "start_time": "2024-10-15T07:28:55.966100Z"
    }
   },
   "id": "3252ee7dc85669c3",
   "execution_count": 13
  },
  {
   "cell_type": "code",
   "outputs": [
    {
     "name": "stdout",
     "output_type": "stream",
     "text": [
      "data_new : (12, 1000)\n",
      "label : (5,)\n",
      "data_new : (12, 1000)\n",
      "label : (5,)\n",
      "data_new : (12, 1000)\n",
      "label : (5,)\n",
      "data_new : (12, 1000)\n",
      "label : (5,)\n",
      "data_new : (12, 1000)\n",
      "label : (5,)\n",
      "data_new : (12, 1000)\n",
      "label : (5,)\n",
      "data_new : (12, 1000)\n",
      "label : (5,)\n",
      "data_new : (12, 1000)\n",
      "label : (5,)\n",
      "data_new : (12, 1000)\n",
      "label : (5,)\n",
      "data_new : (12, 1000)\n",
      "label : (5,)\n",
      "data_new : (12, 1000)\n",
      "label : (5,)\n",
      "data_new : (12, 1000)\n",
      "label : (5,)\n",
      "data_new : (12, 1000)\n",
      "label : (5,)\n",
      "data_new : (12, 1000)\n",
      "label : (5,)\n",
      "data_new : (12, 1000)\n",
      "label : (5,)\n",
      "data_new : (12, 1000)\n",
      "label : (5,)\n",
      "data_new : (12, 1000)\n",
      "label : (5,)\n",
      "data_new : (12, 1000)\n",
      "label : (5,)\n",
      "data_new : (12, 1000)\n",
      "label : (5,)\n",
      "data_new : (12, 1000)\n",
      "label : (5,)\n",
      "data_new : (12, 1000)\n",
      "label : (5,)\n",
      "data_new : (12, 1000)\n",
      "label : (5,)\n",
      "data_new : (12, 1000)\n",
      "label : (5,)\n",
      "data_new : (12, 1000)\n",
      "label : (5,)\n",
      "data_new : (12, 1000)\n",
      "label : (5,)\n",
      "data_new : (12, 1000)\n",
      "label : (5,)\n",
      "data_new : (12, 1000)\n",
      "label : (5,)\n",
      "data_new : (12, 1000)\n",
      "label : (5,)\n",
      "data_new : (12, 1000)\n",
      "label : (5,)\n",
      "data_new : (12, 1000)\n",
      "label : (5,)\n",
      "data_new : (12, 1000)\n",
      "label : (5,)\n",
      "data_new : (12, 1000)\n",
      "label : (5,)\n",
      "data_new : (12, 1000)\n",
      "label : (5,)\n",
      "data_new : (12, 1000)\n",
      "label : (5,)\n",
      "data_new : (12, 1000)\n",
      "label : (5,)\n",
      "data_new : (12, 1000)\n",
      "label : (5,)\n",
      "data_new : (12, 1000)\n",
      "label : (5,)\n",
      "data_new : (12, 1000)\n",
      "label : (5,)\n",
      "data_new : (12, 1000)\n",
      "label : (5,)\n",
      "data_new : (12, 1000)\n",
      "label : (5,)\n",
      "data_new : (12, 1000)\n",
      "label : (5,)\n",
      "data_new : (12, 1000)\n",
      "label : (5,)\n",
      "data_new : (12, 1000)\n",
      "label : (5,)\n",
      "data_new : (12, 1000)\n",
      "label : (5,)\n",
      "data_new : (12, 1000)\n",
      "label : (5,)\n",
      "data_new : (12, 1000)\n",
      "label : (5,)\n",
      "data_new : (12, 1000)\n",
      "label : (5,)\n",
      "data_new : (12, 1000)\n",
      "label : (5,)\n",
      "data_new : (12, 1000)\n",
      "label : (5,)\n",
      "data_new : (12, 1000)\n",
      "label : (5,)\n",
      "data_new : (12, 1000)\n",
      "label : (5,)\n",
      "data_new : (12, 1000)\n",
      "label : (5,)\n",
      "data_new : (12, 1000)\n",
      "label : (5,)\n",
      "data_new : (12, 1000)\n",
      "label : (5,)\n",
      "data_new : (12, 1000)\n",
      "label : (5,)\n",
      "data_new : (12, 1000)\n",
      "label : (5,)\n",
      "data_new : (12, 1000)\n",
      "label : (5,)\n",
      "data_new : (12, 1000)\n",
      "label : (5,)\n",
      "data_new : (12, 1000)\n",
      "label : (5,)\n",
      "data_new : (12, 1000)\n",
      "label : (5,)\n",
      "data_new : (12, 1000)\n",
      "label : (5,)\n",
      "data_new : (12, 1000)\n",
      "label : (5,)\n",
      "data_new : (12, 1000)\n",
      "label : (5,)\n",
      "data_new : (12, 1000)\n",
      "label : (5,)\n",
      "data_new : (12, 1000)\n",
      "label : (5,)\n"
     ]
    }
   ],
   "source": [
    "from ver5_journal.common.data.ECG_Data import ECG_Data\n",
    "\n",
    "train_dataset = ECG_Data(ECG_train)\n",
    "train_loader = DataLoader(train_dataset,batch_size=64, shuffle=True)\n",
    "\n",
    "val_dataset=ECG_Data(ECG_val)\n",
    "val_loader=DataLoader(val_dataset,batch_size=64, shuffle=True)\n",
    "\n",
    "test_dataset=ECG_Data(ECG_test)\n",
    "test_loader=DataLoader(test_dataset,batch_size=64, shuffle=True)\n",
    "\n",
    "data, label = train_dataset[0] \n",
    "\n",
    "first_batch, label = next(iter(train_loader))"
   ],
   "metadata": {
    "collapsed": false,
    "ExecuteTime": {
     "end_time": "2024-10-15T07:27:31.912460Z",
     "start_time": "2024-10-15T07:27:31.678221Z"
    }
   },
   "id": "2ce3ff849877c63",
   "execution_count": 10
  },
  {
   "cell_type": "code",
   "outputs": [
    {
     "name": "stdout",
     "output_type": "stream",
     "text": [
      "Batch shape: torch.Size([64, 12, 1000])\n"
     ]
    },
    {
     "data": {
      "text/plain": "\"\\nfor i in range(12):\\n    print(f'channel {i}: {torch.min(first_batch[:, i])}, {torch.max(first_batch[:, i])}')\\n\""
     },
     "execution_count": 11,
     "metadata": {},
     "output_type": "execute_result"
    }
   ],
   "source": [
    "from ver5_journal.common.data.ECG_Data import ECG_Data\n",
    "\n",
    "# ECG_train=ECG_train.reset_index()\n",
    "# ECG_test=ECG_test.reset_index()\n",
    "\n",
    "train_dataset = ECG_Data(ECG_train)\n",
    "train_loader = DataLoader(train_dataset,batch_size=64, shuffle=True)\n",
    "\n",
    "val_dataset=ECG_Data(ECG_val)\n",
    "val_loader=DataLoader(val_dataset,batch_size=64, shuffle=True)\n",
    "\n",
    "test_dataset=ECG_Data(ECG_test)\n",
    "test_loader=DataLoader(test_dataset,batch_size=64, shuffle=True)\n",
    "\n",
    "first_batch, label = next(iter(train_loader))\n",
    "\n",
    "print(f\"Batch shape: {first_batch.shape}\")\n",
    "\n",
    "\n",
    "\n",
    "\"\"\"\n",
    "for i in range(12):\n",
    "    print(f'channel {i}: {torch.min(first_batch[:, i])}, {torch.max(first_batch[:, i])}')\n",
    "\"\"\""
   ],
   "metadata": {
    "collapsed": false,
    "ExecuteTime": {
     "end_time": "2024-10-15T07:14:26.512398Z",
     "start_time": "2024-10-15T07:14:26.033969Z"
    }
   },
   "id": "a5d60c2aaa2ce9e6",
   "execution_count": 11
  },
  {
   "cell_type": "code",
   "outputs": [
    {
     "data": {
      "text/plain": "[<matplotlib.lines.Line2D at 0x129dfb9b0>]"
     },
     "execution_count": 12,
     "metadata": {},
     "output_type": "execute_result"
    },
    {
     "data": {
      "text/plain": "<Figure size 1200x300 with 1 Axes>",
      "image/png": "[encoded data removed]"
     },
     "metadata": {},
     "output_type": "display_data"
    }
   ],
   "source": [
    "sample = first_batch[0]\n",
    "plt.figure(figsize=(12,3))\n",
    "plt.axis(False)\n",
    "plt.plot(sample[1,:])"
   ],
   "metadata": {
    "collapsed": false,
    "ExecuteTime": {
     "end_time": "2024-10-15T07:14:27.645583Z",
     "start_time": "2024-10-15T07:14:27.558339Z"
    }
   },
   "id": "b0abbb92905ad303",
   "execution_count": 12
  },
  {
   "cell_type": "code",
   "outputs": [
    {
     "data": {
      "text/plain": "(273, 35, 35)"
     },
     "execution_count": 13,
     "metadata": {},
     "output_type": "execute_result"
    }
   ],
   "source": [
    "len(train_loader), len(val_loader), len(test_loader)"
   ],
   "metadata": {
    "collapsed": false,
    "ExecuteTime": {
     "end_time": "2024-10-15T07:14:30.375927Z",
     "start_time": "2024-10-15T07:14:30.373221Z"
    }
   },
   "id": "d802edc9f2c7822a",
   "execution_count": 13
  }
 ],
 "metadata": {
  "kernelspec": {
   "display_name": "Python 3",
   "language": "python",
   "name": "python3"
  },
  "language_info": {
   "codemirror_mode": {
    "name": "ipython",
    "version": 2
   },
   "file_extension": ".py",
   "mimetype": "text/x-python",
   "name": "python",
   "nbconvert_exporter": "python",
   "pygments_lexer": "ipython2",
   "version": "2.7.6"
  }
 },
 "nbformat": 4,
 "nbformat_minor": 5
}
