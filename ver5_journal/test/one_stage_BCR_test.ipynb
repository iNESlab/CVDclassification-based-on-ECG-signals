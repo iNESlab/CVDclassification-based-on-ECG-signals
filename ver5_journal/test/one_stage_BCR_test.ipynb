{
 "cells": [
  {
   "cell_type": "code",
   "execution_count": 1,
   "id": "initial_id",
   "metadata": {
    "collapsed": true,
    "ExecuteTime": {
     "end_time": "2024-11-02T14:05:36.202113Z",
     "start_time": "2024-11-02T14:05:31.648601Z"
    }
   },
   "outputs": [
    {
     "data": {
      "text/plain": "   ecg_id  patient_id   age  sex  height  weight  nurse  site     device  \\\n0       9     18792.0  55.0    0     NaN    70.0    2.0   0.0  CS-12   E   \n1      38     17076.0  40.0    0     NaN    72.0    2.0   0.0  CS-12   E   \n2      40     19501.0  60.0    0     NaN    85.0    2.0   0.0  CS-12   E   \n3      57     16063.0  26.0    0     NaN    93.0    2.0   0.0  CS-12   E   \n4      59     19475.0  54.0    0     NaN    67.0    2.0   0.0  CS-12   E   \n\n        recording_date  ... extra_beats pacemaker strat_fold  \\\n0  1984-12-08 09:44:43  ...         NaN       NaN         10   \n1  1985-02-15 11:48:22  ...         NaN       NaN         10   \n2  1985-02-20 11:43:45  ...         NaN       NaN         10   \n3  1985-06-06 11:32:43  ...         NaN       NaN         10   \n4  1985-06-12 06:36:01  ...         NaN       NaN         10   \n\n                 filename_lr                filename_hr  NORM  MI  STTC  CD  \\\n0  records100/00000/00009_lr  records500/00000/00009_hr     1   0     0   0   \n1  records100/00000/00038_lr  records500/00000/00038_hr     1   0     0   0   \n2  records100/00000/00040_lr  records500/00000/00040_hr     1   0     0   0   \n3  records100/00000/00057_lr  records500/00000/00057_hr     1   0     0   0   \n4  records100/00000/00059_lr  records500/00000/00059_hr     1   0     0   0   \n\n  HYP  \n0   0  \n1   0  \n2   0  \n3   0  \n4   0  \n\n[5 rows x 33 columns]",
      "text/html": "<div>\n<style scoped>\n    .dataframe tbody tr th:only-of-type {\n        vertical-align: middle;\n    }\n\n    .dataframe tbody tr th {\n        vertical-align: top;\n    }\n\n    .dataframe thead th {\n        text-align: right;\n    }\n</style>\n<table border=\"1\" class=\"dataframe\">\n  <thead>\n    <tr style=\"text-align: right;\">\n      <th></th>\n      <th>ecg_id</th>\n      <th>patient_id</th>\n      <th>age</th>\n      <th>sex</th>\n      <th>height</th>\n      <th>weight</th>\n      <th>nurse</th>\n      <th>site</th>\n      <th>device</th>\n      <th>recording_date</th>\n      <th>...</th>\n      <th>extra_beats</th>\n      <th>pacemaker</th>\n      <th>strat_fold</th>\n      <th>filename_lr</th>\n      <th>filename_hr</th>\n      <th>NORM</th>\n      <th>MI</th>\n      <th>STTC</th>\n      <th>CD</th>\n      <th>HYP</th>\n    </tr>\n  </thead>\n  <tbody>\n    <tr>\n      <th>0</th>\n      <td>9</td>\n      <td>18792.0</td>\n      <td>55.0</td>\n      <td>0</td>\n      <td>NaN</td>\n      <td>70.0</td>\n      <td>2.0</td>\n      <td>0.0</td>\n      <td>CS-12   E</td>\n      <td>1984-12-08 09:44:43</td>\n      <td>...</td>\n      <td>NaN</td>\n      <td>NaN</td>\n      <td>10</td>\n      <td>records100/00000/00009_lr</td>\n      <td>records500/00000/00009_hr</td>\n      <td>1</td>\n      <td>0</td>\n      <td>0</td>\n      <td>0</td>\n      <td>0</td>\n    </tr>\n    <tr>\n      <th>1</th>\n      <td>38</td>\n      <td>17076.0</td>\n      <td>40.0</td>\n      <td>0</td>\n      <td>NaN</td>\n      <td>72.0</td>\n      <td>2.0</td>\n      <td>0.0</td>\n      <td>CS-12   E</td>\n      <td>1985-02-15 11:48:22</td>\n      <td>...</td>\n      <td>NaN</td>\n      <td>NaN</td>\n      <td>10</td>\n      <td>records100/00000/00038_lr</td>\n      <td>records500/00000/00038_hr</td>\n      <td>1</td>\n      <td>0</td>\n      <td>0</td>\n      <td>0</td>\n      <td>0</td>\n    </tr>\n    <tr>\n      <th>2</th>\n      <td>40</td>\n      <td>19501.0</td>\n      <td>60.0</td>\n      <td>0</td>\n      <td>NaN</td>\n      <td>85.0</td>\n      <td>2.0</td>\n      <td>0.0</td>\n      <td>CS-12   E</td>\n      <td>1985-02-20 11:43:45</td>\n      <td>...</td>\n      <td>NaN</td>\n      <td>NaN</td>\n      <td>10</td>\n      <td>records100/00000/00040_lr</td>\n      <td>records500/00000/00040_hr</td>\n      <td>1</td>\n      <td>0</td>\n      <td>0</td>\n      <td>0</td>\n      <td>0</td>\n    </tr>\n    <tr>\n      <th>3</th>\n      <td>57</td>\n      <td>16063.0</td>\n      <td>26.0</td>\n      <td>0</td>\n      <td>NaN</td>\n      <td>93.0</td>\n      <td>2.0</td>\n      <td>0.0</td>\n      <td>CS-12   E</td>\n      <td>1985-06-06 11:32:43</td>\n      <td>...</td>\n      <td>NaN</td>\n      <td>NaN</td>\n      <td>10</td>\n      <td>records100/00000/00057_lr</td>\n      <td>records500/00000/00057_hr</td>\n      <td>1</td>\n      <td>0</td>\n      <td>0</td>\n      <td>0</td>\n      <td>0</td>\n    </tr>\n    <tr>\n      <th>4</th>\n      <td>59</td>\n      <td>19475.0</td>\n      <td>54.0</td>\n      <td>0</td>\n      <td>NaN</td>\n      <td>67.0</td>\n      <td>2.0</td>\n      <td>0.0</td>\n      <td>CS-12   E</td>\n      <td>1985-06-12 06:36:01</td>\n      <td>...</td>\n      <td>NaN</td>\n      <td>NaN</td>\n      <td>10</td>\n      <td>records100/00000/00059_lr</td>\n      <td>records500/00000/00059_hr</td>\n      <td>1</td>\n      <td>0</td>\n      <td>0</td>\n      <td>0</td>\n      <td>0</td>\n    </tr>\n  </tbody>\n</table>\n<p>5 rows × 33 columns</p>\n</div>"
     },
     "execution_count": 1,
     "metadata": {},
     "output_type": "execute_result"
    },
    {
     "data": {
      "text/plain": "<Figure size 640x480 with 1 Axes>",
      "image/png": "[encoded data removed]"
     },
     "metadata": {},
     "output_type": "display_data"
    }
   ],
   "source": [
    "from torch.utils.data import DataLoader\n",
    "from ver5_journal.common.data.ECG_Data import ECG_Data\n",
    "from ver5_journal.common.data.create_final_data import create_final_data\n",
    "\n",
    "final_data=create_final_data()\n",
    "\n",
    "ECG_test = final_data[final_data['strat_fold'] == 10].reset_index(drop=True)\n",
    "ECG_val = final_data[final_data['strat_fold'] == 9].reset_index(drop=True)\n",
    "\n",
    "test_dataset=ECG_Data(ECG_test)\n",
    "test_loader=DataLoader(test_dataset,batch_size=32, shuffle=False)\n",
    "\n",
    "val_dataset=ECG_Data(ECG_val)\n",
    "val_loader=DataLoader(test_dataset,batch_size=32, shuffle=False)\n",
    "\n",
    "ECG_test.head()"
   ]
  },
  {
   "cell_type": "code",
   "outputs": [
    {
     "name": "stdout",
     "output_type": "stream",
     "text": [
      "total param: 28029\n"
     ]
    }
   ],
   "source": [
    "from ver5_journal.common.BCRnetwork.BCResNets import BCResNets\n",
    "import torch\n",
    "\n",
    "# 모델 순서 정의\n",
    "sequence = ['NORM', 'MI', 'STTC', 'CD', 'HYP']\n",
    "\n",
    "num_models = len(sequence)\n",
    "\n",
    "# 각 모델을 불러와 AUC 테스트를 수행하는 코드\n",
    "best_models = []\n",
    "\n",
    "device = torch.device(\"mps\" if torch.backends.mps.is_available() else \"cpu\")\n",
    "\n",
    "# 모델 입력 채널 수 정의\n",
    "in_channel = 12\n",
    "\n",
    "# 저장된 각 모델을 로드하여 리스트에 저장\n",
    "\n",
    "model_path = f'../common/one_stage_models/one_stage_BCR_model.pth'\n",
    "model = BCResNets(int(2 * 8), 5, in_channel).to(device)  # 모델 구조 동일하게 맞춰야 함\n",
    "# model.load_state_dict(torch.load(model_path, weights_only=True))\n",
    "model.load_state_dict(torch.load(model_path, weights_only=True))\n",
    "model.eval()\n",
    "# 모델의 전체 파라미터 수를 계산\n",
    "param = sum(p.numel() for p in model.parameters())\n",
    "\n",
    "# 모델의 전체 파라미터 수를 계산\n",
    "print(f\"total param: {param}\")"
   ],
   "metadata": {
    "collapsed": false,
    "ExecuteTime": {
     "end_time": "2024-11-02T14:17:56.804140Z",
     "start_time": "2024-11-02T14:17:56.662043Z"
    }
   },
   "id": "8d35fd8fe1b60538",
   "execution_count": 8
  },
  {
   "cell_type": "code",
   "outputs": [
    {
     "name": "stdout",
     "output_type": "stream",
     "text": [
      "Class 0 - AUC: 0.9323\n",
      "Optimal threshold for class 0 using Youden's J: 0.2636\n",
      "Class 1 - AUC: 0.9162\n",
      "Optimal threshold for class 1 using Youden's J: 0.3011\n",
      "Class 2 - AUC: 0.9208\n",
      "Optimal threshold for class 2 using Youden's J: 0.2423\n",
      "Class 3 - AUC: 0.9172\n",
      "Optimal threshold for class 3 using Youden's J: 0.2984\n",
      "Class 4 - AUC: 0.8465\n",
      "Optimal threshold for class 4 using Youden's J: 0.0327\n"
     ]
    }
   ],
   "source": [
    "from torch import nn\n",
    "from sklearn.metrics import roc_curve, auc\n",
    "from matplotlib import pyplot as plt\n",
    "import numpy as np\n",
    "import torch\n",
    "\n",
    "# 모델에서 사용할 최적 임계값을 저장할 리스트 (각 클래스별)\n",
    "optimal_thresholds = []\n",
    "loss_fn = nn.BCEWithLogitsLoss()\n",
    "\n",
    "# Multi-label classifier에 맞게 데이터 예측\n",
    "y_true_all = []\n",
    "y_scores_all = []\n",
    "\n",
    "# val 데이터셋에서 예측 결과 저장\n",
    "with torch.no_grad():\n",
    "    for data, labels in val_loader:\n",
    "        data, labels = data.to(device), labels.to(device)\n",
    "        \n",
    "        data = data.float()  # float32 타입으로 변환\n",
    "        data = data.squeeze(1)  # 4D 데이터를 3D로 변환 (batch_size, 1, sequence_length, features)\n",
    "\n",
    "        # 모델의 출력을 얻음\n",
    "        outputs = model(data)\n",
    "\n",
    "        # 시그모이드를 사용해 각 클래스에 대해 확률값을 계산\n",
    "        preds = torch.sigmoid(outputs).cpu().numpy()\n",
    "\n",
    "        # 스코어와 실제값을 각각 저장 (배치 내 모든 샘플에 대해 처리)\n",
    "        y_scores_all.extend(preds)  # 확률 값 저장\n",
    "        y_true_all.extend(labels.cpu().numpy())     # 실제 라벨 저장\n",
    "\n",
    "# numpy 배열로 변환\n",
    "y_true_all = np.array(y_true_all)\n",
    "y_scores_all = np.array(y_scores_all)\n",
    "\n",
    "# 각 클래스에 대해 ROC 커브 및 최적 임계값 계산\n",
    "num_classes = y_true_all.shape[1]\n",
    "\n",
    "for idx in range(num_classes):\n",
    "    y_true = y_true_all[:, idx]  # 해당 클래스의 실제 라벨\n",
    "    y_scores = y_scores_all[:, idx]  # 해당 클래스의 예측 스코어\n",
    "\n",
    "    # ROC 커브 계산\n",
    "    fpr, tpr, thresholds = roc_curve(y_true, y_scores)\n",
    "\n",
    "    # Youden's J 통계량 계산 (TPR - FPR)\n",
    "    youdens_j = tpr - fpr\n",
    "\n",
    "    # Youden's J가 최대인 임계값 찾기\n",
    "    optimal_idx = np.argmax(youdens_j)\n",
    "    optimal_threshold = thresholds[optimal_idx]\n",
    "    optimal_thresholds.append(optimal_threshold)  # 최적 임계값 저장\n",
    "\n",
    "    # AUC 계산\n",
    "    auc_value = auc(fpr, tpr)\n",
    "\n",
    "    print(f'Class {idx} - AUC: {auc_value:.4f}')\n",
    "    print(f'Optimal threshold for class {idx} using Youden\\'s J: {optimal_threshold:.4f}')\n",
    "\n",
    "    # ROC 커브 시각화 (필요시 주석 해제)\n",
    "    # plt.figure()\n",
    "    # plt.plot(fpr, tpr, label=f'AUC (Class {idx}) = {auc_value:.4f}')\n",
    "    # plt.plot([0, 1], [0, 1], 'k--', label='Random Guessing')\n",
    "    # plt.xlabel('False Positive Rate')\n",
    "    # plt.ylabel('True Positive Rate')\n",
    "    # plt.title(f'ROC Curve for Class {idx}')\n",
    "    # plt.legend(loc=\"lower right\")\n",
    "    # plt.show()"
   ],
   "metadata": {
    "collapsed": false,
    "ExecuteTime": {
     "end_time": "2024-11-02T14:19:44.330863Z",
     "start_time": "2024-11-02T14:19:33.819771Z"
    }
   },
   "id": "d8f8d493af3e42dc",
   "execution_count": 10
  },
  {
   "cell_type": "markdown",
   "source": [
    "### TEST: 각 분류기의 개별 지표(classification_report) 및 통합 지표(Hamming Loss) 시각화"
   ],
   "metadata": {
    "collapsed": false
   },
   "id": "9a070acc334d8db"
  },
  {
   "cell_type": "code",
   "outputs": [],
   "source": [
    "import torch\n",
    "\n",
    "# 테스트 셋으로 재입력\n",
    "y_true_all = []\n",
    "y_scores_all = []\n",
    "\n",
    "# 테스트 데이터셋에서 예측 결과 저장\n",
    "with torch.no_grad():\n",
    "    for data, labels in test_loader:\n",
    "        data, labels = data.to(device), labels.to(device)\n",
    "        \n",
    "        data = data.float()  # float32 타입으로 변환\n",
    "        data = data.squeeze(1)  # 4D 데이터를 3D로 변환 (batch_size, 1, sequence_length, features)\n",
    "\n",
    "        # 모델의 출력을 얻음\n",
    "        outputs = model(data)\n",
    "\n",
    "        # 시그모이드를 사용해 각 클래스에 대해 확률값을 계산\n",
    "        preds = torch.sigmoid(outputs).cpu().numpy()\n",
    "\n",
    "        # 스코어와 실제값을 각각 저장 (배치 내 모든 샘플에 대해 처리)\n",
    "        y_scores_all.extend(preds)  # 확률 값 저장\n",
    "        y_true_all.extend(labels.cpu().numpy())     # 실제 라벨 저장\n",
    "\n",
    "# numpy 배열로 변환\n",
    "y_true_all = np.array(y_true_all)\n",
    "y_scores_all = np.array(y_scores_all)"
   ],
   "metadata": {
    "collapsed": false,
    "ExecuteTime": {
     "end_time": "2024-11-02T14:20:52.677540Z",
     "start_time": "2024-11-02T14:20:44.105528Z"
    }
   },
   "id": "6937df17345a4191",
   "execution_count": 11
  },
  {
   "cell_type": "code",
   "outputs": [
    {
     "name": "stdout",
     "output_type": "stream",
     "text": [
      "Class 0 - AUC: 0.9323\n",
      "Classification Report for Class NORM:\n",
      "              precision    recall  f1-score   support\n",
      "\n",
      "         0.0       0.93      0.81      0.86      1235\n",
      "         1.0       0.79      0.92      0.85       963\n",
      "\n",
      "    accuracy                           0.86      2198\n",
      "   macro avg       0.86      0.86      0.86      2198\n",
      "weighted avg       0.87      0.86      0.86      2198\n",
      "\n",
      "Class 1 - AUC: 0.9162\n",
      "Classification Report for Class MI:\n",
      "              precision    recall  f1-score   support\n",
      "\n",
      "         0.0       0.95      0.80      0.87      1648\n",
      "         1.0       0.59      0.88      0.71       550\n",
      "\n",
      "    accuracy                           0.82      2198\n",
      "   macro avg       0.77      0.84      0.79      2198\n",
      "weighted avg       0.86      0.82      0.83      2198\n",
      "\n",
      "Class 2 - AUC: 0.9208\n",
      "Classification Report for Class STTC:\n",
      "              precision    recall  f1-score   support\n",
      "\n",
      "         0.0       0.95      0.85      0.90      1692\n",
      "         1.0       0.63      0.86      0.73       506\n",
      "\n",
      "    accuracy                           0.85      2198\n",
      "   macro avg       0.79      0.85      0.81      2198\n",
      "weighted avg       0.88      0.85      0.86      2198\n",
      "\n",
      "Class 3 - AUC: 0.9172\n",
      "Classification Report for Class CD:\n",
      "              precision    recall  f1-score   support\n",
      "\n",
      "         0.0       0.94      0.87      0.90      1702\n",
      "         1.0       0.65      0.82      0.72       496\n",
      "\n",
      "    accuracy                           0.86      2198\n",
      "   macro avg       0.79      0.84      0.81      2198\n",
      "weighted avg       0.88      0.86      0.86      2198\n",
      "\n",
      "Class 4 - AUC: 0.8465\n",
      "Classification Report for Class HYP:\n",
      "              precision    recall  f1-score   support\n",
      "\n",
      "         0.0       0.96      0.78      0.86      1936\n",
      "         1.0       0.32      0.78      0.45       262\n",
      "\n",
      "    accuracy                           0.78      2198\n",
      "   macro avg       0.64      0.78      0.66      2198\n",
      "weighted avg       0.89      0.78      0.81      2198\n",
      "\n",
      "Macro AUC: 0.9066\n",
      "Hamming Loss: 0.1681\n"
     ]
    },
    {
     "data": {
      "text/plain": "<Figure size 600x400 with 1 Axes>",
      "image/png": "[encoded data removed]"
     },
     "metadata": {},
     "output_type": "display_data"
    }
   ],
   "source": [
    "import numpy as np\n",
    "from sklearn.metrics import classification_report, hamming_loss, roc_auc_score\n",
    "\n",
    "# 최적 임계값을 사용한 예측 이진화\n",
    "y_pred_all = np.zeros_like(y_scores_all)\n",
    "auc_values=[]\n",
    "# 클래스별 AUC 및 최적 임계값 적용\n",
    "for idx in range(num_classes):\n",
    "    y_true = y_true_all[:, idx]\n",
    "    y_scores = y_scores_all[:, idx]\n",
    "\n",
    "    # AUC 계산\n",
    "    auc_value = roc_auc_score(y_true, y_scores)\n",
    "    auc_values.append(auc_value)\n",
    "    print(f'Class {idx} - AUC: {auc_value:.4f}')\n",
    "\n",
    "    # 예측 이진화\n",
    "    y_pred_all[:, idx] = (y_scores >= optimal_thresholds[idx]).astype(int)\n",
    "    \n",
    "    # 각 클래스별 classification_report 출력\n",
    "    class_report = classification_report(y_true, y_pred_all[:, idx], zero_division=0)\n",
    "    print(f'Classification Report for Class {sequence[idx]}:\\n{class_report}')\n",
    "\n",
    "# Macro AUC 계산 (각 클래스 AUC 값의 평균)\n",
    "macro_auc = np.mean(auc_values)\n",
    "print(f'Macro AUC: {macro_auc:.4f}')\n",
    "\n",
    "# 통합 지표: Hamming Loss 계산\n",
    "hamming_loss_value = hamming_loss(y_true_all, y_pred_all)\n",
    "print(f'Hamming Loss: {hamming_loss_value:.4f}')\n",
    "\n",
    "# Hamming Loss 시각화\n",
    "plt.figure(figsize=(6, 4))\n",
    "plt.bar(['Hamming Loss'], [hamming_loss_value], color='orange')\n",
    "plt.title('Hamming Loss')\n",
    "plt.ylabel('Loss Value')\n",
    "plt.show()"
   ],
   "metadata": {
    "collapsed": false,
    "ExecuteTime": {
     "end_time": "2024-11-02T14:20:52.799014Z",
     "start_time": "2024-11-02T14:20:52.679972Z"
    }
   },
   "id": "13f561f027e2c41b",
   "execution_count": 12
  }
 ],
 "metadata": {
  "kernelspec": {
   "display_name": "Python 3",
   "language": "python",
   "name": "python3"
  },
  "language_info": {
   "codemirror_mode": {
    "name": "ipython",
    "version": 2
   },
   "file_extension": ".py",
   "mimetype": "text/x-python",
   "name": "python",
   "nbconvert_exporter": "python",
   "pygments_lexer": "ipython2",
   "version": "2.7.6"
  }
 },
 "nbformat": 4,
 "nbformat_minor": 5
}
